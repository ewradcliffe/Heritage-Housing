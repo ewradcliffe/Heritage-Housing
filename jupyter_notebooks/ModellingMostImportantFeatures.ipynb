{
  "cells": [
    {
      "cell_type": "markdown",
      "metadata": {
        "id": "0aStgWSO0E0E"
      },
      "source": [
        "# **Modelling most important features**"
      ]
    },
    {
      "cell_type": "markdown",
      "metadata": {
        "id": "1eLEkw5O0ECa"
      },
      "source": [
        "## Objectives\n",
        "\n",
        "1. Create a model which determins house prices based on the most important features identified in the PriceCorrelationStudy notebook.\n",
        "2. This can be based on the code generated in the ModellingAndEvaluation notebook.\n",
        "3. Answers business criteria 2. Predict prices for client house data.\n",
        "4. We have agreed an R2 score of at least 0.75 on the train set as well as on the test set.\n",
        "5. Can predict house prices based on input data from streamlit dashboard. \n",
        "\n",
        "## Inputs\n",
        "\n",
        "1. House_prices_records_clean.csv\n",
        "2. Inherited_houses_clean.csv\n",
        "3. Findings of feature engineering notebook\n",
        "4. Most important features identified in the PriceCorrelationStudy notebook.\n",
        "\n",
        "## Outputs\n",
        "\n",
        "1. Data sets for train, validate and test sets.\n",
        "2. Feature engineering pipeline.\n",
        "3. Trained Model.\n",
        "4. Predictions for client house prices and supporting data.\n",
        "\n",
        "Please note that all code in this notebook is taken from The Code institute Data Analysis & Machine Learning Toolkit [Data Analysis & Machine Learning Toolkit](https://learn.codeinstitute.net/courses/course-v1:code_institute+CI_DA_ML+2021_Q4/courseware/1f851533cd6a4dcd8a280fd9f37ef4e2/81c19e89e4e94690bd58f738cb7eae91/) lesson.\n",
        "\n",
        "## Comments\n",
        "\n",
        "1. This process is necessary as we need a model which can predict house prices based off live data input into the streamlit dashboard. The model needs all features to be input to predict a house price. \n",
        "2. The present model needs 16 features to be provided. It will be a better user experience if we can create a model which needs fewer inputs.\n",
        "3. We can use the most important features identified in the PriceCorrelationStudy notebook to create a model as accurate as one which uses more features."
      ]
    },
    {
      "cell_type": "markdown",
      "metadata": {
        "id": "9uWZXH9LwoQg"
      },
      "source": [
        "---"
      ]
    },
    {
      "cell_type": "markdown",
      "metadata": {
        "id": "cqP-UeN-z3i2"
      },
      "source": [
        "# Change working directory"
      ]
    },
    {
      "cell_type": "markdown",
      "metadata": {},
      "source": [
        "* We are assuming you will store the notebooks in a subfolder, therefore when running the notebook in the editor, you will need to change the working directory"
      ]
    },
    {
      "cell_type": "markdown",
      "metadata": {
        "id": "aOGIGS-uz3i2"
      },
      "source": [
        "We need to change the working directory from its current folder to its parent folder\n",
        "* We access the current directory with os.getcwd()"
      ]
    },
    {
      "cell_type": "code",
      "execution_count": 1,
      "metadata": {
        "id": "wZfF_j-Bz3i4",
        "outputId": "66943449-1436-4c3d-85c7-b85f9f78349b"
      },
      "outputs": [
        {
          "data": {
            "text/plain": [
              "'/workspace/Heritage-Housing/jupyter_notebooks'"
            ]
          },
          "execution_count": 1,
          "metadata": {},
          "output_type": "execute_result"
        }
      ],
      "source": [
        "import os\n",
        "current_dir = os.getcwd()\n",
        "current_dir"
      ]
    },
    {
      "cell_type": "markdown",
      "metadata": {
        "id": "9MWW8E7lz3i7"
      },
      "source": [
        "We want to make the parent of the current directory the new current directory\n",
        "* os.path.dirname() gets the parent directory\n",
        "* os.chir() defines the new current directory"
      ]
    },
    {
      "cell_type": "code",
      "execution_count": 2,
      "metadata": {
        "id": "TwHsQRWjz3i9",
        "outputId": "86849db3-cd2f-4cc5-ebb8-2d0caafa1a2c"
      },
      "outputs": [
        {
          "name": "stdout",
          "output_type": "stream",
          "text": [
            "You set a new current directory\n"
          ]
        }
      ],
      "source": [
        "os.chdir(os.path.dirname(current_dir))\n",
        "print(\"You set a new current directory\")"
      ]
    },
    {
      "cell_type": "markdown",
      "metadata": {
        "id": "M_xPk_Ijz3i-"
      },
      "source": [
        "Confirm the new current directory"
      ]
    },
    {
      "cell_type": "code",
      "execution_count": 3,
      "metadata": {
        "id": "vz3S-_kjz3jA",
        "outputId": "00b79ae4-75d0-4a96-d193-ac9ef9847ea2"
      },
      "outputs": [
        {
          "data": {
            "text/plain": [
              "'/workspace/Heritage-Housing'"
            ]
          },
          "execution_count": 3,
          "metadata": {},
          "output_type": "execute_result"
        }
      ],
      "source": [
        "current_dir = os.getcwd()\n",
        "current_dir"
      ]
    },
    {
      "cell_type": "markdown",
      "metadata": {
        "id": "-mavJ8DibrcQ"
      },
      "source": [
        "# Load data"
      ]
    },
    {
      "cell_type": "markdown",
      "metadata": {},
      "source": [
        "Section 1 content"
      ]
    },
    {
      "cell_type": "code",
      "execution_count": 4,
      "metadata": {},
      "outputs": [
        {
          "data": {
            "text/html": [
              "<div>\n",
              "<style scoped>\n",
              "    .dataframe tbody tr th:only-of-type {\n",
              "        vertical-align: middle;\n",
              "    }\n",
              "\n",
              "    .dataframe tbody tr th {\n",
              "        vertical-align: top;\n",
              "    }\n",
              "\n",
              "    .dataframe thead th {\n",
              "        text-align: right;\n",
              "    }\n",
              "</style>\n",
              "<table border=\"1\" class=\"dataframe\">\n",
              "  <thead>\n",
              "    <tr style=\"text-align: right;\">\n",
              "      <th></th>\n",
              "      <th>1stFlrSF</th>\n",
              "      <th>2ndFlrSF</th>\n",
              "      <th>BedroomAbvGr</th>\n",
              "      <th>BsmtExposure</th>\n",
              "      <th>BsmtFinSF1</th>\n",
              "      <th>BsmtFinType1</th>\n",
              "      <th>BsmtUnfSF</th>\n",
              "      <th>GarageArea</th>\n",
              "      <th>GarageFinish</th>\n",
              "      <th>GarageYrBlt</th>\n",
              "      <th>...</th>\n",
              "      <th>LotArea</th>\n",
              "      <th>LotFrontage</th>\n",
              "      <th>MasVnrArea</th>\n",
              "      <th>OpenPorchSF</th>\n",
              "      <th>OverallCond</th>\n",
              "      <th>OverallQual</th>\n",
              "      <th>TotalBsmtSF</th>\n",
              "      <th>YearBuilt</th>\n",
              "      <th>YearRemodAdd</th>\n",
              "      <th>SalePrice</th>\n",
              "    </tr>\n",
              "  </thead>\n",
              "  <tbody>\n",
              "    <tr>\n",
              "      <th>0</th>\n",
              "      <td>856</td>\n",
              "      <td>854.0</td>\n",
              "      <td>3.0</td>\n",
              "      <td>No</td>\n",
              "      <td>706</td>\n",
              "      <td>GLQ</td>\n",
              "      <td>150</td>\n",
              "      <td>548</td>\n",
              "      <td>RFn</td>\n",
              "      <td>2003.0</td>\n",
              "      <td>...</td>\n",
              "      <td>8450</td>\n",
              "      <td>65.0</td>\n",
              "      <td>196.0</td>\n",
              "      <td>61</td>\n",
              "      <td>5</td>\n",
              "      <td>7</td>\n",
              "      <td>856</td>\n",
              "      <td>2003</td>\n",
              "      <td>2003</td>\n",
              "      <td>208500</td>\n",
              "    </tr>\n",
              "    <tr>\n",
              "      <th>1</th>\n",
              "      <td>1262</td>\n",
              "      <td>0.0</td>\n",
              "      <td>3.0</td>\n",
              "      <td>Gd</td>\n",
              "      <td>978</td>\n",
              "      <td>ALQ</td>\n",
              "      <td>284</td>\n",
              "      <td>460</td>\n",
              "      <td>RFn</td>\n",
              "      <td>1976.0</td>\n",
              "      <td>...</td>\n",
              "      <td>9600</td>\n",
              "      <td>80.0</td>\n",
              "      <td>0.0</td>\n",
              "      <td>0</td>\n",
              "      <td>8</td>\n",
              "      <td>6</td>\n",
              "      <td>1262</td>\n",
              "      <td>1976</td>\n",
              "      <td>1976</td>\n",
              "      <td>181500</td>\n",
              "    </tr>\n",
              "    <tr>\n",
              "      <th>2</th>\n",
              "      <td>920</td>\n",
              "      <td>866.0</td>\n",
              "      <td>3.0</td>\n",
              "      <td>Mn</td>\n",
              "      <td>486</td>\n",
              "      <td>GLQ</td>\n",
              "      <td>434</td>\n",
              "      <td>608</td>\n",
              "      <td>RFn</td>\n",
              "      <td>2001.0</td>\n",
              "      <td>...</td>\n",
              "      <td>11250</td>\n",
              "      <td>68.0</td>\n",
              "      <td>162.0</td>\n",
              "      <td>42</td>\n",
              "      <td>5</td>\n",
              "      <td>7</td>\n",
              "      <td>920</td>\n",
              "      <td>2001</td>\n",
              "      <td>2002</td>\n",
              "      <td>223500</td>\n",
              "    </tr>\n",
              "    <tr>\n",
              "      <th>3</th>\n",
              "      <td>961</td>\n",
              "      <td>0.0</td>\n",
              "      <td>3.0</td>\n",
              "      <td>No</td>\n",
              "      <td>216</td>\n",
              "      <td>ALQ</td>\n",
              "      <td>540</td>\n",
              "      <td>642</td>\n",
              "      <td>Unf</td>\n",
              "      <td>1998.0</td>\n",
              "      <td>...</td>\n",
              "      <td>9550</td>\n",
              "      <td>60.0</td>\n",
              "      <td>0.0</td>\n",
              "      <td>35</td>\n",
              "      <td>5</td>\n",
              "      <td>7</td>\n",
              "      <td>756</td>\n",
              "      <td>1915</td>\n",
              "      <td>1970</td>\n",
              "      <td>140000</td>\n",
              "    </tr>\n",
              "    <tr>\n",
              "      <th>4</th>\n",
              "      <td>1145</td>\n",
              "      <td>0.0</td>\n",
              "      <td>4.0</td>\n",
              "      <td>Av</td>\n",
              "      <td>655</td>\n",
              "      <td>GLQ</td>\n",
              "      <td>490</td>\n",
              "      <td>836</td>\n",
              "      <td>RFn</td>\n",
              "      <td>2000.0</td>\n",
              "      <td>...</td>\n",
              "      <td>14260</td>\n",
              "      <td>84.0</td>\n",
              "      <td>350.0</td>\n",
              "      <td>84</td>\n",
              "      <td>5</td>\n",
              "      <td>8</td>\n",
              "      <td>1145</td>\n",
              "      <td>2000</td>\n",
              "      <td>2000</td>\n",
              "      <td>250000</td>\n",
              "    </tr>\n",
              "  </tbody>\n",
              "</table>\n",
              "<p>5 rows × 22 columns</p>\n",
              "</div>"
            ],
            "text/plain": [
              "   1stFlrSF  2ndFlrSF  BedroomAbvGr BsmtExposure  BsmtFinSF1 BsmtFinType1  \\\n",
              "0       856     854.0           3.0           No         706          GLQ   \n",
              "1      1262       0.0           3.0           Gd         978          ALQ   \n",
              "2       920     866.0           3.0           Mn         486          GLQ   \n",
              "3       961       0.0           3.0           No         216          ALQ   \n",
              "4      1145       0.0           4.0           Av         655          GLQ   \n",
              "\n",
              "   BsmtUnfSF  GarageArea GarageFinish  GarageYrBlt  ...  LotArea LotFrontage  \\\n",
              "0        150         548          RFn       2003.0  ...     8450        65.0   \n",
              "1        284         460          RFn       1976.0  ...     9600        80.0   \n",
              "2        434         608          RFn       2001.0  ...    11250        68.0   \n",
              "3        540         642          Unf       1998.0  ...     9550        60.0   \n",
              "4        490         836          RFn       2000.0  ...    14260        84.0   \n",
              "\n",
              "   MasVnrArea  OpenPorchSF  OverallCond  OverallQual  TotalBsmtSF  YearBuilt  \\\n",
              "0       196.0           61            5            7          856       2003   \n",
              "1         0.0            0            8            6         1262       1976   \n",
              "2       162.0           42            5            7          920       2001   \n",
              "3         0.0           35            5            7          756       1915   \n",
              "4       350.0           84            5            8         1145       2000   \n",
              "\n",
              "   YearRemodAdd  SalePrice  \n",
              "0          2003     208500  \n",
              "1          1976     181500  \n",
              "2          2002     223500  \n",
              "3          1970     140000  \n",
              "4          2000     250000  \n",
              "\n",
              "[5 rows x 22 columns]"
            ]
          },
          "execution_count": 4,
          "metadata": {},
          "output_type": "execute_result"
        }
      ],
      "source": [
        "import numpy as np\n",
        "import pandas as pd\n",
        "\n",
        "house_prices_clean_df = pd.read_csv(f\"outputs/datasets/clean_data/House_prices_records_clean.csv\")\n",
        "house_prices_clean_df.head()"
      ]
    },
    {
      "cell_type": "markdown",
      "metadata": {
        "id": "ZY3l0-AxO93d"
      },
      "source": [
        "---"
      ]
    },
    {
      "cell_type": "markdown",
      "metadata": {
        "id": "uFQo3ycuO-v6"
      },
      "source": [
        "# Split data"
      ]
    },
    {
      "cell_type": "markdown",
      "metadata": {},
      "source": [
        "We need to split the data into train, validation and test sets. We keep the same 7:1:2 ratio.\n",
        "\n",
        "First we split the data into the train and test sets"
      ]
    },
    {
      "cell_type": "code",
      "execution_count": 5,
      "metadata": {},
      "outputs": [
        {
          "name": "stdout",
          "output_type": "stream",
          "text": [
            "* Train set: (1168, 21) (1168,) \n",
            "* Test set: (292, 21) (292,)\n"
          ]
        }
      ],
      "source": [
        "from sklearn.model_selection import train_test_split\n",
        "\n",
        "X_train, X_test,y_train, y_test = train_test_split(\n",
        "                                    house_prices_clean_df.drop(['SalePrice'],axis=1),\n",
        "                                    house_prices_clean_df['SalePrice'],\n",
        "                                    test_size=0.2,\n",
        "                                    random_state=0\n",
        "                                    )\n",
        "\n",
        "print(\"* Train set:\", X_train.shape, y_train.shape, \"\\n* Test set:\",  X_test.shape, y_test.shape)"
      ]
    },
    {
      "cell_type": "markdown",
      "metadata": {},
      "source": [
        "We then split the train set further into train and validation sets."
      ]
    },
    {
      "cell_type": "code",
      "execution_count": 6,
      "metadata": {},
      "outputs": [
        {
          "name": "stdout",
          "output_type": "stream",
          "text": [
            "* Train set: (934, 21) (934,)\n",
            "* Validation set: (234, 21) (234,)\n",
            "* Test set: (292, 21) (292,)\n"
          ]
        }
      ],
      "source": [
        "X_train, X_val,y_train, y_val = train_test_split(\n",
        "                                    X_train,\n",
        "                                    y_train,\n",
        "                                    test_size=0.2,\n",
        "                                    random_state=0\n",
        "                                    )\n",
        "\n",
        "print(\"* Train set:\", X_train.shape, y_train.shape)\n",
        "print(\"* Validation set:\",  X_val.shape, y_val.shape)\n",
        "print(\"* Test set:\",   X_test.shape, y_test.shape)"
      ]
    },
    {
      "cell_type": "markdown",
      "metadata": {},
      "source": [
        "And save the data"
      ]
    },
    {
      "cell_type": "code",
      "execution_count": 7,
      "metadata": {},
      "outputs": [],
      "source": [
        "import os\n",
        "try:\n",
        "  os.makedirs(name='outputs/datasets/most_important_features_data')\n",
        "except Exception as e:\n",
        "  print(e)\n",
        "\n",
        "X_train.to_csv(f\"outputs/datasets/training_data/X_train.csv\",index=False)\n",
        "X_val.to_csv(f\"outputs/datasets/training_data/X_val.csv\",index=False)\n",
        "X_test.to_csv(f\"outputs/datasets/training_data/X_test.csv\",index=False)\n",
        "y_train.to_csv(f\"outputs/datasets/training_data/y_train.csv\",index=False)\n",
        "y_val.to_csv(f\"outputs/datasets/training_data/y_val.csv\",index=False)\n",
        "y_test.to_csv(f\"outputs/datasets/training_data/y_test.csv\",index=False)\n"
      ]
    },
    {
      "cell_type": "markdown",
      "metadata": {},
      "source": [
        "---"
      ]
    },
    {
      "cell_type": "markdown",
      "metadata": {},
      "source": [
        "## Pipeline.\n",
        "\n",
        "We can use the same pipeline as we used in the Modelling and Evaluation notebook, excepting that we can remove all features except 'GarageArea', 'GrLivArea', 'KitchenQual', 'OverallQual', 'TotalBsmtSF'."
      ]
    },
    {
      "cell_type": "code",
      "execution_count": 10,
      "metadata": {},
      "outputs": [],
      "source": [
        "from sklearn.pipeline import Pipeline\n",
        "from feature_engine.selection import DropFeatures\n",
        "from feature_engine.encoding import OrdinalEncoder\n",
        "from feature_engine import transformation as vt\n",
        "from feature_engine.outliers import Winsorizer\n",
        "from sklearn.preprocessing import StandardScaler\n",
        "\n",
        "\n",
        "\n",
        "pipeline = Pipeline([\n",
        "    ('drop_features', DropFeatures(features_to_drop = ['1stFlrSF',\n",
        "                                                        '2ndFlrSF',\n",
        "                                                        'GarageYrBlt',\n",
        "                                                        'YearBuilt',\n",
        "                                                        'BsmtExposure',\n",
        "                                                        'BsmtFinType1',\n",
        "                                                        'GarageFinish',\n",
        "                                                        'BedroomAbvGr',\n",
        "                                                        'BsmtFinSF1',\n",
        "                                                        'BsmtUnfSF',\n",
        "                                                        'LotArea',\n",
        "                                                        'LotFrontage',\n",
        "                                                        'MasVnrArea',\n",
        "                                                        'OpenPorchSF',\n",
        "                                                        'OverallCond',\n",
        "                                                        'YearRemodAdd']) ),\n",
        "\n",
        "    (\"OrdinalCategoricalEncoder\",OrdinalEncoder(encoding_method='arbitrary', \n",
        "                                                  variables = ['KitchenQual'] ) ),\n",
        "\n",
        "    ('pt', vt.PowerTransformer(variables = ['GarageArea', 'GrLivArea', 'OverallQual','TotalBsmtSF']) ),\n",
        "\n",
        "    ('winsorizer_iqr', Winsorizer(capping_method='iqr', fold=1.5, tail='both')),\n",
        "    \n",
        "    ( \"feat_scaling\",StandardScaler() )\n",
        "  ])"
      ]
    },
    {
      "cell_type": "markdown",
      "metadata": {},
      "source": [
        "And use the pipeline to firt the train, validation and test sets."
      ]
    },
    {
      "cell_type": "code",
      "execution_count": 11,
      "metadata": {},
      "outputs": [],
      "source": [
        "X_train = pipeline.fit_transform(X_train)\n",
        "X_val= pipeline.transform(X_val)\n",
        "X_test = pipeline.transform(X_test)"
      ]
    },
    {
      "cell_type": "markdown",
      "metadata": {},
      "source": [
        "---"
      ]
    },
    {
      "cell_type": "markdown",
      "metadata": {},
      "source": [
        "# The Model"
      ]
    },
    {
      "cell_type": "code",
      "execution_count": 12,
      "metadata": {},
      "outputs": [],
      "source": [
        "import os;\n",
        "import tensorflow as tf;\n",
        "os.environ['TF_CPP_MIN_LOG_LEVEL'] = '2';\n",
        "from tensorflow.keras.models import Sequential\n",
        "from tensorflow.keras.layers import Dense, Dropout\n",
        "\n",
        "def create_tf_model(n_features):\n",
        "\n",
        "  model = Sequential()\n",
        "  model.add(Dense(units=n_features, activation='relu', input_shape=(n_features,)))\n",
        "\n",
        "  model.add(Dense(units=512,activation='relu'))\n",
        "  model.add(Dropout(0.25))\n",
        "\n",
        "  model.add(Dense(units=512,activation='relu'))\n",
        "  model.add(Dropout(0.25))\n",
        "\n",
        "  model.add(Dense(units=512,activation='relu'))\n",
        "  model.add(Dropout(0.25))\n",
        "\n",
        "  model.add(Dense(units=512,activation='relu'))\n",
        "  model.add(Dropout(0.25))\n",
        "\n",
        "  model.add(Dense(units=1))\n",
        "  model.compile(loss='mse', optimizer='adam')\n",
        "  \n",
        "  return model"
      ]
    },
    {
      "cell_type": "code",
      "execution_count": 13,
      "metadata": {},
      "outputs": [
        {
          "name": "stdout",
          "output_type": "stream",
          "text": [
            "Model: \"sequential\"\n",
            "_________________________________________________________________\n",
            "Layer (type)                 Output Shape              Param #   \n",
            "=================================================================\n",
            "dense (Dense)                (None, 5)                 30        \n",
            "_________________________________________________________________\n",
            "dense_1 (Dense)              (None, 512)               3072      \n",
            "_________________________________________________________________\n",
            "dropout (Dropout)            (None, 512)               0         \n",
            "_________________________________________________________________\n",
            "dense_2 (Dense)              (None, 512)               262656    \n",
            "_________________________________________________________________\n",
            "dropout_1 (Dropout)          (None, 512)               0         \n",
            "_________________________________________________________________\n",
            "dense_3 (Dense)              (None, 512)               262656    \n",
            "_________________________________________________________________\n",
            "dropout_2 (Dropout)          (None, 512)               0         \n",
            "_________________________________________________________________\n",
            "dense_4 (Dense)              (None, 512)               262656    \n",
            "_________________________________________________________________\n",
            "dropout_3 (Dropout)          (None, 512)               0         \n",
            "_________________________________________________________________\n",
            "dense_5 (Dense)              (None, 1)                 513       \n",
            "=================================================================\n",
            "Total params: 791,583\n",
            "Trainable params: 791,583\n",
            "Non-trainable params: 0\n",
            "_________________________________________________________________\n"
          ]
        }
      ],
      "source": [
        "model = create_tf_model(n_features=X_train.shape[1])\n",
        "model.summary()"
      ]
    },
    {
      "cell_type": "code",
      "execution_count": 14,
      "metadata": {},
      "outputs": [],
      "source": [
        "from tensorflow.keras.callbacks import EarlyStopping\n",
        "early_stop = EarlyStopping(monitor='val_loss', mode='min', verbose=1, patience=15)"
      ]
    },
    {
      "cell_type": "code",
      "execution_count": 15,
      "metadata": {},
      "outputs": [
        {
          "name": "stdout",
          "output_type": "stream",
          "text": [
            "Epoch 1/100\n",
            "30/30 [==============================] - 1s 31ms/step - loss: 39075577856.0000 - val_loss: 35612672000.0000\n",
            "Epoch 2/100\n",
            "30/30 [==============================] - 1s 21ms/step - loss: 23907575808.0000 - val_loss: 8323850240.0000\n",
            "Epoch 3/100\n",
            "30/30 [==============================] - 1s 20ms/step - loss: 5902743552.0000 - val_loss: 4221090560.0000\n",
            "Epoch 4/100\n",
            "30/30 [==============================] - 1s 21ms/step - loss: 3761725696.0000 - val_loss: 2940797952.0000\n",
            "Epoch 5/100\n",
            "30/30 [==============================] - 1s 20ms/step - loss: 2835893248.0000 - val_loss: 2305773056.0000\n",
            "Epoch 6/100\n",
            "30/30 [==============================] - 1s 18ms/step - loss: 2345599744.0000 - val_loss: 1872920064.0000\n",
            "Epoch 7/100\n",
            "30/30 [==============================] - 1s 17ms/step - loss: 2122716416.0000 - val_loss: 1666348416.0000\n",
            "Epoch 8/100\n",
            "30/30 [==============================] - 1s 22ms/step - loss: 1866425088.0000 - val_loss: 1611305728.0000\n",
            "Epoch 9/100\n",
            "30/30 [==============================] - 1s 28ms/step - loss: 1849726464.0000 - val_loss: 1390802944.0000\n",
            "Epoch 10/100\n",
            "30/30 [==============================] - 1s 18ms/step - loss: 1631158528.0000 - val_loss: 1303538048.0000\n",
            "Epoch 11/100\n",
            "30/30 [==============================] - 1s 21ms/step - loss: 1591710720.0000 - val_loss: 1293115520.0000\n",
            "Epoch 12/100\n",
            "30/30 [==============================] - 1s 21ms/step - loss: 1561159680.0000 - val_loss: 1236432384.0000\n",
            "Epoch 13/100\n",
            "30/30 [==============================] - 1s 18ms/step - loss: 1622125696.0000 - val_loss: 1200172288.0000\n",
            "Epoch 14/100\n",
            "30/30 [==============================] - 1s 20ms/step - loss: 1487746176.0000 - val_loss: 1367520640.0000\n",
            "Epoch 15/100\n",
            "30/30 [==============================] - 1s 17ms/step - loss: 1651026432.0000 - val_loss: 1151709184.0000\n",
            "Epoch 16/100\n",
            "30/30 [==============================] - 1s 20ms/step - loss: 1430891392.0000 - val_loss: 1179324288.0000\n",
            "Epoch 17/100\n",
            "30/30 [==============================] - 0s 17ms/step - loss: 1515361664.0000 - val_loss: 1187040768.0000\n",
            "Epoch 18/100\n",
            "30/30 [==============================] - 1s 20ms/step - loss: 1615280000.0000 - val_loss: 1168264960.0000\n",
            "Epoch 19/100\n",
            "30/30 [==============================] - 1s 18ms/step - loss: 1469654656.0000 - val_loss: 1143178624.0000\n",
            "Epoch 20/100\n",
            "30/30 [==============================] - 0s 17ms/step - loss: 1453320832.0000 - val_loss: 1097226880.0000\n",
            "Epoch 21/100\n",
            "30/30 [==============================] - 0s 17ms/step - loss: 1453011200.0000 - val_loss: 1151228544.0000\n",
            "Epoch 22/100\n",
            "30/30 [==============================] - 1s 18ms/step - loss: 1385450240.0000 - val_loss: 1092258944.0000\n",
            "Epoch 23/100\n",
            "30/30 [==============================] - 0s 17ms/step - loss: 1311241344.0000 - val_loss: 1041425024.0000\n",
            "Epoch 24/100\n",
            "30/30 [==============================] - 1s 18ms/step - loss: 1363256192.0000 - val_loss: 1031987392.0000\n",
            "Epoch 25/100\n",
            "30/30 [==============================] - 1s 17ms/step - loss: 1422145792.0000 - val_loss: 1056640512.0000\n",
            "Epoch 26/100\n",
            "30/30 [==============================] - 1s 20ms/step - loss: 1390325632.0000 - val_loss: 1141436160.0000\n",
            "Epoch 27/100\n",
            "30/30 [==============================] - 1s 17ms/step - loss: 1478823040.0000 - val_loss: 1040393920.0000\n",
            "Epoch 28/100\n",
            "30/30 [==============================] - 0s 7ms/step - loss: 1208358016.0000 - val_loss: 1018736512.0000\n",
            "Epoch 29/100\n",
            "30/30 [==============================] - 0s 8ms/step - loss: 1318480768.0000 - val_loss: 1001306176.0000\n",
            "Epoch 30/100\n",
            "30/30 [==============================] - 0s 7ms/step - loss: 1239612800.0000 - val_loss: 1187187456.0000\n",
            "Epoch 31/100\n",
            "30/30 [==============================] - 0s 10ms/step - loss: 1390106240.0000 - val_loss: 1002107520.0000\n",
            "Epoch 32/100\n",
            "30/30 [==============================] - 0s 7ms/step - loss: 1308522496.0000 - val_loss: 974050880.0000\n",
            "Epoch 33/100\n",
            "30/30 [==============================] - 0s 8ms/step - loss: 1317193856.0000 - val_loss: 1130077184.0000\n",
            "Epoch 34/100\n",
            "30/30 [==============================] - 0s 10ms/step - loss: 1371286784.0000 - val_loss: 975355200.0000\n",
            "Epoch 35/100\n",
            "30/30 [==============================] - 0s 10ms/step - loss: 1350913536.0000 - val_loss: 959239872.0000\n",
            "Epoch 36/100\n",
            "30/30 [==============================] - 0s 8ms/step - loss: 1350451712.0000 - val_loss: 947616512.0000\n",
            "Epoch 37/100\n",
            "30/30 [==============================] - 0s 10ms/step - loss: 1233085568.0000 - val_loss: 1024786688.0000\n",
            "Epoch 38/100\n",
            "30/30 [==============================] - 0s 9ms/step - loss: 1271720832.0000 - val_loss: 938035712.0000\n",
            "Epoch 39/100\n",
            "30/30 [==============================] - 0s 8ms/step - loss: 1279370112.0000 - val_loss: 936317440.0000\n",
            "Epoch 40/100\n",
            "30/30 [==============================] - 0s 10ms/step - loss: 1258029440.0000 - val_loss: 972143168.0000\n",
            "Epoch 41/100\n",
            "30/30 [==============================] - 0s 9ms/step - loss: 1270015232.0000 - val_loss: 977555968.0000\n",
            "Epoch 42/100\n",
            "30/30 [==============================] - 0s 8ms/step - loss: 1250481920.0000 - val_loss: 917022912.0000\n",
            "Epoch 43/100\n",
            "30/30 [==============================] - 0s 9ms/step - loss: 1274678144.0000 - val_loss: 910548864.0000\n",
            "Epoch 44/100\n",
            "30/30 [==============================] - 0s 8ms/step - loss: 1156219264.0000 - val_loss: 902988288.0000\n",
            "Epoch 45/100\n",
            "30/30 [==============================] - 0s 7ms/step - loss: 1170803840.0000 - val_loss: 1039774848.0000\n",
            "Epoch 46/100\n",
            "30/30 [==============================] - 0s 10ms/step - loss: 1388209280.0000 - val_loss: 949613824.0000\n",
            "Epoch 47/100\n",
            "30/30 [==============================] - 0s 10ms/step - loss: 1364472832.0000 - val_loss: 987080640.0000\n",
            "Epoch 48/100\n",
            "30/30 [==============================] - 0s 10ms/step - loss: 1251728512.0000 - val_loss: 993635328.0000\n",
            "Epoch 49/100\n",
            "30/30 [==============================] - 0s 7ms/step - loss: 1187432192.0000 - val_loss: 930723648.0000\n",
            "Epoch 50/100\n",
            "30/30 [==============================] - 0s 10ms/step - loss: 1206815488.0000 - val_loss: 900464064.0000\n",
            "Epoch 51/100\n",
            "30/30 [==============================] - 0s 7ms/step - loss: 1285461504.0000 - val_loss: 931670912.0000\n",
            "Epoch 52/100\n",
            "30/30 [==============================] - 0s 8ms/step - loss: 1242274176.0000 - val_loss: 1003815488.0000\n",
            "Epoch 53/100\n",
            "30/30 [==============================] - 0s 9ms/step - loss: 1237653248.0000 - val_loss: 1003304832.0000\n",
            "Epoch 54/100\n",
            "30/30 [==============================] - 0s 8ms/step - loss: 1281778816.0000 - val_loss: 896840256.0000\n",
            "Epoch 55/100\n",
            "30/30 [==============================] - 0s 10ms/step - loss: 1207417600.0000 - val_loss: 905784896.0000\n",
            "Epoch 56/100\n",
            "30/30 [==============================] - 0s 7ms/step - loss: 1156384640.0000 - val_loss: 860959872.0000\n",
            "Epoch 57/100\n",
            "30/30 [==============================] - 0s 8ms/step - loss: 1160726400.0000 - val_loss: 863200384.0000\n",
            "Epoch 58/100\n",
            "30/30 [==============================] - 0s 10ms/step - loss: 1202836224.0000 - val_loss: 977242560.0000\n",
            "Epoch 59/100\n",
            "30/30 [==============================] - 0s 7ms/step - loss: 1299584896.0000 - val_loss: 896623232.0000\n",
            "Epoch 60/100\n",
            "30/30 [==============================] - 0s 10ms/step - loss: 1362191872.0000 - val_loss: 912800512.0000\n",
            "Epoch 61/100\n",
            "30/30 [==============================] - 0s 10ms/step - loss: 1212144128.0000 - val_loss: 854460032.0000\n",
            "Epoch 62/100\n",
            "30/30 [==============================] - 0s 8ms/step - loss: 1225540608.0000 - val_loss: 922442944.0000\n",
            "Epoch 63/100\n",
            "30/30 [==============================] - 0s 10ms/step - loss: 1195970176.0000 - val_loss: 1032427008.0000\n",
            "Epoch 64/100\n",
            "30/30 [==============================] - 0s 10ms/step - loss: 1175968768.0000 - val_loss: 864836352.0000\n",
            "Epoch 65/100\n",
            "30/30 [==============================] - 0s 9ms/step - loss: 1241082240.0000 - val_loss: 928230080.0000\n",
            "Epoch 66/100\n",
            "30/30 [==============================] - 0s 8ms/step - loss: 1330309504.0000 - val_loss: 1290208128.0000\n",
            "Epoch 67/100\n",
            "30/30 [==============================] - 0s 10ms/step - loss: 1223322624.0000 - val_loss: 887821504.0000\n",
            "Epoch 68/100\n",
            "30/30 [==============================] - 0s 10ms/step - loss: 1209972608.0000 - val_loss: 836801600.0000\n",
            "Epoch 69/100\n",
            "30/30 [==============================] - 0s 7ms/step - loss: 1198317312.0000 - val_loss: 861336512.0000\n",
            "Epoch 70/100\n",
            "30/30 [==============================] - 0s 10ms/step - loss: 1046936128.0000 - val_loss: 943313984.0000\n",
            "Epoch 71/100\n",
            "30/30 [==============================] - 0s 7ms/step - loss: 1182449408.0000 - val_loss: 833871872.0000\n",
            "Epoch 72/100\n",
            "30/30 [==============================] - 0s 10ms/step - loss: 1185054080.0000 - val_loss: 830513600.0000\n",
            "Epoch 73/100\n",
            "30/30 [==============================] - 0s 10ms/step - loss: 1306774400.0000 - val_loss: 843636032.0000\n",
            "Epoch 74/100\n",
            "30/30 [==============================] - 0s 7ms/step - loss: 1201349760.0000 - val_loss: 833033472.0000\n",
            "Epoch 75/100\n",
            "30/30 [==============================] - 0s 9ms/step - loss: 1204701184.0000 - val_loss: 859694528.0000\n",
            "Epoch 76/100\n",
            "30/30 [==============================] - 0s 8ms/step - loss: 1217915776.0000 - val_loss: 945042752.0000\n",
            "Epoch 77/100\n",
            "30/30 [==============================] - 0s 10ms/step - loss: 1094451840.0000 - val_loss: 851690688.0000\n",
            "Epoch 78/100\n",
            "30/30 [==============================] - 0s 7ms/step - loss: 1188072448.0000 - val_loss: 847513536.0000\n",
            "Epoch 79/100\n",
            "30/30 [==============================] - 0s 9ms/step - loss: 1172333184.0000 - val_loss: 835858112.0000\n",
            "Epoch 80/100\n",
            "30/30 [==============================] - 0s 7ms/step - loss: 1155115392.0000 - val_loss: 838793536.0000\n",
            "Epoch 81/100\n",
            "30/30 [==============================] - 0s 7ms/step - loss: 1221867392.0000 - val_loss: 933717888.0000\n",
            "Epoch 82/100\n",
            "30/30 [==============================] - 0s 8ms/step - loss: 1242573184.0000 - val_loss: 1075176704.0000\n",
            "Epoch 83/100\n",
            "30/30 [==============================] - 0s 10ms/step - loss: 1231731072.0000 - val_loss: 869565696.0000\n",
            "Epoch 84/100\n",
            "30/30 [==============================] - 0s 7ms/step - loss: 1182607488.0000 - val_loss: 817466496.0000\n",
            "Epoch 85/100\n",
            "30/30 [==============================] - 0s 10ms/step - loss: 1199352064.0000 - val_loss: 818178560.0000\n",
            "Epoch 86/100\n",
            "30/30 [==============================] - 0s 7ms/step - loss: 1227219968.0000 - val_loss: 856894656.0000\n",
            "Epoch 87/100\n",
            "30/30 [==============================] - 0s 9ms/step - loss: 1165444864.0000 - val_loss: 869715456.0000\n",
            "Epoch 88/100\n",
            "30/30 [==============================] - 0s 8ms/step - loss: 1138041600.0000 - val_loss: 826150400.0000\n",
            "Epoch 89/100\n",
            "30/30 [==============================] - 0s 10ms/step - loss: 1141441792.0000 - val_loss: 938607424.0000\n",
            "Epoch 90/100\n",
            "30/30 [==============================] - 0s 9ms/step - loss: 1172355840.0000 - val_loss: 814221504.0000\n",
            "Epoch 91/100\n",
            "30/30 [==============================] - 0s 8ms/step - loss: 1229292800.0000 - val_loss: 861713664.0000\n",
            "Epoch 92/100\n",
            "30/30 [==============================] - 0s 7ms/step - loss: 1273269248.0000 - val_loss: 828654784.0000\n",
            "Epoch 93/100\n",
            "30/30 [==============================] - 0s 8ms/step - loss: 1222240128.0000 - val_loss: 829608064.0000\n",
            "Epoch 94/100\n",
            "30/30 [==============================] - 0s 10ms/step - loss: 1251542528.0000 - val_loss: 836732800.0000\n",
            "Epoch 95/100\n",
            "30/30 [==============================] - 0s 7ms/step - loss: 1210217344.0000 - val_loss: 865140672.0000\n",
            "Epoch 96/100\n",
            "30/30 [==============================] - 0s 9ms/step - loss: 1175719552.0000 - val_loss: 962197312.0000\n",
            "Epoch 97/100\n",
            "30/30 [==============================] - 0s 7ms/step - loss: 1191356928.0000 - val_loss: 895963328.0000\n",
            "Epoch 98/100\n",
            "30/30 [==============================] - 0s 10ms/step - loss: 1157660160.0000 - val_loss: 900678976.0000\n",
            "Epoch 99/100\n",
            "30/30 [==============================] - 0s 7ms/step - loss: 1259729920.0000 - val_loss: 933997504.0000\n",
            "Epoch 100/100\n",
            "30/30 [==============================] - 0s 10ms/step - loss: 1023883392.0000 - val_loss: 829961280.0000\n"
          ]
        },
        {
          "data": {
            "text/plain": [
              "<keras.callbacks.History at 0x7f40a19ed3a0>"
            ]
          },
          "execution_count": 15,
          "metadata": {},
          "output_type": "execute_result"
        }
      ],
      "source": [
        "model = create_tf_model(n_features=X_train.shape[1])\n",
        "\n",
        "model.fit(x=X_train, \n",
        "          y=y_train, \n",
        "          epochs=100,\n",
        "          validation_data=(X_val, y_val),\n",
        "          verbose=1,\n",
        "          callbacks=[early_stop]\n",
        "          )"
      ]
    }
  ],
  "metadata": {
    "accelerator": "GPU",
    "colab": {
      "name": "Data Practitioner Jupyter Notebook.ipynb",
      "provenance": [],
      "toc_visible": true
    },
    "interpreter": {
      "hash": "8b8334dab9339717f727a1deaf837b322d7a41c20d15cc86be99a8e69ceec8ce"
    },
    "kernelspec": {
      "display_name": "Python 3.8.12 64-bit ('3.8.12': pyenv)",
      "name": "python3"
    },
    "language_info": {
      "codemirror_mode": {
        "name": "ipython",
        "version": 3
      },
      "file_extension": ".py",
      "mimetype": "text/x-python",
      "name": "python",
      "nbconvert_exporter": "python",
      "pygments_lexer": "ipython3",
      "version": "3.8.18"
    },
    "orig_nbformat": 2
  },
  "nbformat": 4,
  "nbformat_minor": 2
}
