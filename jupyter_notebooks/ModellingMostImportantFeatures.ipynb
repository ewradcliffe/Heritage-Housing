{
  "cells": [
    {
      "cell_type": "markdown",
      "metadata": {
        "id": "0aStgWSO0E0E"
      },
      "source": [
        "# **Modelling most important features**"
      ]
    },
    {
      "cell_type": "markdown",
      "metadata": {
        "id": "1eLEkw5O0ECa"
      },
      "source": [
        "## Objectives\n",
        "\n",
        "1. Create a model which determins house prices based on the most important features identified in the PriceCorrelationStudy notebook.\n",
        "2. This can be based on the code generated in the ModellingAndEvaluation notebook.\n",
        "3. Answers business criteria 2. Predict prices for client house data.\n",
        "4. We have agreed an R2 score of at least 0.75 on the train set as well as on the test set.\n",
        "5. Can predict house prices based on input data from streamlit dashboard. \n",
        "\n",
        "## Inputs\n",
        "\n",
        "1. House_prices_records_clean.csv\n",
        "2. Inherited_houses_clean.csv\n",
        "3. Findings of feature engineering notebook\n",
        "4. Most important features identified in the PriceCorrelationStudy notebook.\n",
        "\n",
        "## Outputs\n",
        "\n",
        "1. Data sets for train, validate and test sets.\n",
        "2. Feature engineering pipeline.\n",
        "3. Trained Model.\n",
        "4. Predictions for client house prices and supporting data.\n",
        "\n",
        "Please note that all code in this notebook is taken from The Code institute Data Analysis & Machine Learning Toolkit [Data Analysis & Machine Learning Toolkit](https://learn.codeinstitute.net/courses/course-v1:code_institute+CI_DA_ML+2021_Q4/courseware/1f851533cd6a4dcd8a280fd9f37ef4e2/81c19e89e4e94690bd58f738cb7eae91/) lesson.\n",
        "\n",
        "## Comments\n",
        "\n",
        "1. This process is necessary as we need a model which can predict house prices based off live data input into the streamlit dashboard. The model needs all features to be input to predict a house price. \n",
        "2. The present model needs 16 features to be provided. It will be a better user experience if we can create a model which needs fewer inputs.\n",
        "3. We can use the most important features identified in the PriceCorrelationStudy notebook to create a model as accurate as one which uses more features."
      ]
    },
    {
      "cell_type": "markdown",
      "metadata": {
        "id": "9uWZXH9LwoQg"
      },
      "source": [
        "---"
      ]
    },
    {
      "cell_type": "markdown",
      "metadata": {
        "id": "cqP-UeN-z3i2"
      },
      "source": [
        "# Change working directory"
      ]
    },
    {
      "cell_type": "markdown",
      "metadata": {},
      "source": [
        "* We are assuming you will store the notebooks in a subfolder, therefore when running the notebook in the editor, you will need to change the working directory"
      ]
    },
    {
      "cell_type": "markdown",
      "metadata": {
        "id": "aOGIGS-uz3i2"
      },
      "source": [
        "We need to change the working directory from its current folder to its parent folder\n",
        "* We access the current directory with os.getcwd()"
      ]
    },
    {
      "cell_type": "code",
      "execution_count": 1,
      "metadata": {
        "id": "wZfF_j-Bz3i4",
        "outputId": "66943449-1436-4c3d-85c7-b85f9f78349b"
      },
      "outputs": [
        {
          "data": {
            "text/plain": [
              "'/workspace/Heritage-Housing/jupyter_notebooks'"
            ]
          },
          "execution_count": 1,
          "metadata": {},
          "output_type": "execute_result"
        }
      ],
      "source": [
        "import os\n",
        "current_dir = os.getcwd()\n",
        "current_dir"
      ]
    },
    {
      "cell_type": "markdown",
      "metadata": {
        "id": "9MWW8E7lz3i7"
      },
      "source": [
        "We want to make the parent of the current directory the new current directory\n",
        "* os.path.dirname() gets the parent directory\n",
        "* os.chir() defines the new current directory"
      ]
    },
    {
      "cell_type": "code",
      "execution_count": 2,
      "metadata": {
        "id": "TwHsQRWjz3i9",
        "outputId": "86849db3-cd2f-4cc5-ebb8-2d0caafa1a2c"
      },
      "outputs": [
        {
          "name": "stdout",
          "output_type": "stream",
          "text": [
            "You set a new current directory\n"
          ]
        }
      ],
      "source": [
        "os.chdir(os.path.dirname(current_dir))\n",
        "print(\"You set a new current directory\")"
      ]
    },
    {
      "cell_type": "markdown",
      "metadata": {
        "id": "M_xPk_Ijz3i-"
      },
      "source": [
        "Confirm the new current directory"
      ]
    },
    {
      "cell_type": "code",
      "execution_count": 3,
      "metadata": {
        "id": "vz3S-_kjz3jA",
        "outputId": "00b79ae4-75d0-4a96-d193-ac9ef9847ea2"
      },
      "outputs": [
        {
          "data": {
            "text/plain": [
              "'/workspace/Heritage-Housing'"
            ]
          },
          "execution_count": 3,
          "metadata": {},
          "output_type": "execute_result"
        }
      ],
      "source": [
        "current_dir = os.getcwd()\n",
        "current_dir"
      ]
    },
    {
      "cell_type": "markdown",
      "metadata": {
        "id": "-mavJ8DibrcQ"
      },
      "source": [
        "# Load data"
      ]
    },
    {
      "cell_type": "markdown",
      "metadata": {},
      "source": [
        "Section 1 content"
      ]
    },
    {
      "cell_type": "code",
      "execution_count": 4,
      "metadata": {},
      "outputs": [
        {
          "data": {
            "text/html": [
              "<div>\n",
              "<style scoped>\n",
              "    .dataframe tbody tr th:only-of-type {\n",
              "        vertical-align: middle;\n",
              "    }\n",
              "\n",
              "    .dataframe tbody tr th {\n",
              "        vertical-align: top;\n",
              "    }\n",
              "\n",
              "    .dataframe thead th {\n",
              "        text-align: right;\n",
              "    }\n",
              "</style>\n",
              "<table border=\"1\" class=\"dataframe\">\n",
              "  <thead>\n",
              "    <tr style=\"text-align: right;\">\n",
              "      <th></th>\n",
              "      <th>1stFlrSF</th>\n",
              "      <th>2ndFlrSF</th>\n",
              "      <th>BedroomAbvGr</th>\n",
              "      <th>BsmtExposure</th>\n",
              "      <th>BsmtFinSF1</th>\n",
              "      <th>BsmtFinType1</th>\n",
              "      <th>BsmtUnfSF</th>\n",
              "      <th>GarageArea</th>\n",
              "      <th>GarageFinish</th>\n",
              "      <th>GarageYrBlt</th>\n",
              "      <th>...</th>\n",
              "      <th>LotArea</th>\n",
              "      <th>LotFrontage</th>\n",
              "      <th>MasVnrArea</th>\n",
              "      <th>OpenPorchSF</th>\n",
              "      <th>OverallCond</th>\n",
              "      <th>OverallQual</th>\n",
              "      <th>TotalBsmtSF</th>\n",
              "      <th>YearBuilt</th>\n",
              "      <th>YearRemodAdd</th>\n",
              "      <th>SalePrice</th>\n",
              "    </tr>\n",
              "  </thead>\n",
              "  <tbody>\n",
              "    <tr>\n",
              "      <th>0</th>\n",
              "      <td>856</td>\n",
              "      <td>854.0</td>\n",
              "      <td>3.0</td>\n",
              "      <td>No</td>\n",
              "      <td>706</td>\n",
              "      <td>GLQ</td>\n",
              "      <td>150</td>\n",
              "      <td>548</td>\n",
              "      <td>RFn</td>\n",
              "      <td>2003.0</td>\n",
              "      <td>...</td>\n",
              "      <td>8450</td>\n",
              "      <td>65.0</td>\n",
              "      <td>196.0</td>\n",
              "      <td>61</td>\n",
              "      <td>5</td>\n",
              "      <td>7</td>\n",
              "      <td>856</td>\n",
              "      <td>2003</td>\n",
              "      <td>2003</td>\n",
              "      <td>208500</td>\n",
              "    </tr>\n",
              "    <tr>\n",
              "      <th>1</th>\n",
              "      <td>1262</td>\n",
              "      <td>0.0</td>\n",
              "      <td>3.0</td>\n",
              "      <td>Gd</td>\n",
              "      <td>978</td>\n",
              "      <td>ALQ</td>\n",
              "      <td>284</td>\n",
              "      <td>460</td>\n",
              "      <td>RFn</td>\n",
              "      <td>1976.0</td>\n",
              "      <td>...</td>\n",
              "      <td>9600</td>\n",
              "      <td>80.0</td>\n",
              "      <td>0.0</td>\n",
              "      <td>0</td>\n",
              "      <td>8</td>\n",
              "      <td>6</td>\n",
              "      <td>1262</td>\n",
              "      <td>1976</td>\n",
              "      <td>1976</td>\n",
              "      <td>181500</td>\n",
              "    </tr>\n",
              "    <tr>\n",
              "      <th>2</th>\n",
              "      <td>920</td>\n",
              "      <td>866.0</td>\n",
              "      <td>3.0</td>\n",
              "      <td>Mn</td>\n",
              "      <td>486</td>\n",
              "      <td>GLQ</td>\n",
              "      <td>434</td>\n",
              "      <td>608</td>\n",
              "      <td>RFn</td>\n",
              "      <td>2001.0</td>\n",
              "      <td>...</td>\n",
              "      <td>11250</td>\n",
              "      <td>68.0</td>\n",
              "      <td>162.0</td>\n",
              "      <td>42</td>\n",
              "      <td>5</td>\n",
              "      <td>7</td>\n",
              "      <td>920</td>\n",
              "      <td>2001</td>\n",
              "      <td>2002</td>\n",
              "      <td>223500</td>\n",
              "    </tr>\n",
              "    <tr>\n",
              "      <th>3</th>\n",
              "      <td>961</td>\n",
              "      <td>0.0</td>\n",
              "      <td>3.0</td>\n",
              "      <td>No</td>\n",
              "      <td>216</td>\n",
              "      <td>ALQ</td>\n",
              "      <td>540</td>\n",
              "      <td>642</td>\n",
              "      <td>Unf</td>\n",
              "      <td>1998.0</td>\n",
              "      <td>...</td>\n",
              "      <td>9550</td>\n",
              "      <td>60.0</td>\n",
              "      <td>0.0</td>\n",
              "      <td>35</td>\n",
              "      <td>5</td>\n",
              "      <td>7</td>\n",
              "      <td>756</td>\n",
              "      <td>1915</td>\n",
              "      <td>1970</td>\n",
              "      <td>140000</td>\n",
              "    </tr>\n",
              "    <tr>\n",
              "      <th>4</th>\n",
              "      <td>1145</td>\n",
              "      <td>0.0</td>\n",
              "      <td>4.0</td>\n",
              "      <td>Av</td>\n",
              "      <td>655</td>\n",
              "      <td>GLQ</td>\n",
              "      <td>490</td>\n",
              "      <td>836</td>\n",
              "      <td>RFn</td>\n",
              "      <td>2000.0</td>\n",
              "      <td>...</td>\n",
              "      <td>14260</td>\n",
              "      <td>84.0</td>\n",
              "      <td>350.0</td>\n",
              "      <td>84</td>\n",
              "      <td>5</td>\n",
              "      <td>8</td>\n",
              "      <td>1145</td>\n",
              "      <td>2000</td>\n",
              "      <td>2000</td>\n",
              "      <td>250000</td>\n",
              "    </tr>\n",
              "  </tbody>\n",
              "</table>\n",
              "<p>5 rows × 22 columns</p>\n",
              "</div>"
            ],
            "text/plain": [
              "   1stFlrSF  2ndFlrSF  BedroomAbvGr BsmtExposure  BsmtFinSF1 BsmtFinType1  \\\n",
              "0       856     854.0           3.0           No         706          GLQ   \n",
              "1      1262       0.0           3.0           Gd         978          ALQ   \n",
              "2       920     866.0           3.0           Mn         486          GLQ   \n",
              "3       961       0.0           3.0           No         216          ALQ   \n",
              "4      1145       0.0           4.0           Av         655          GLQ   \n",
              "\n",
              "   BsmtUnfSF  GarageArea GarageFinish  GarageYrBlt  ...  LotArea LotFrontage  \\\n",
              "0        150         548          RFn       2003.0  ...     8450        65.0   \n",
              "1        284         460          RFn       1976.0  ...     9600        80.0   \n",
              "2        434         608          RFn       2001.0  ...    11250        68.0   \n",
              "3        540         642          Unf       1998.0  ...     9550        60.0   \n",
              "4        490         836          RFn       2000.0  ...    14260        84.0   \n",
              "\n",
              "   MasVnrArea  OpenPorchSF  OverallCond  OverallQual  TotalBsmtSF  YearBuilt  \\\n",
              "0       196.0           61            5            7          856       2003   \n",
              "1         0.0            0            8            6         1262       1976   \n",
              "2       162.0           42            5            7          920       2001   \n",
              "3         0.0           35            5            7          756       1915   \n",
              "4       350.0           84            5            8         1145       2000   \n",
              "\n",
              "   YearRemodAdd  SalePrice  \n",
              "0          2003     208500  \n",
              "1          1976     181500  \n",
              "2          2002     223500  \n",
              "3          1970     140000  \n",
              "4          2000     250000  \n",
              "\n",
              "[5 rows x 22 columns]"
            ]
          },
          "execution_count": 4,
          "metadata": {},
          "output_type": "execute_result"
        }
      ],
      "source": [
        "import numpy as np\n",
        "import pandas as pd\n",
        "\n",
        "house_prices_clean_df = pd.read_csv(f\"outputs/datasets/clean_data/House_prices_records_clean.csv\")\n",
        "house_prices_clean_df.head()"
      ]
    },
    {
      "cell_type": "markdown",
      "metadata": {},
      "source": [
        "Drop all features except 'GarageArea', 'GrLivArea', 'KitchenQual', 'OverallQual', 'TotalBsmtSF'."
      ]
    },
    {
      "cell_type": "code",
      "execution_count": 6,
      "metadata": {},
      "outputs": [
        {
          "data": {
            "text/html": [
              "<div>\n",
              "<style scoped>\n",
              "    .dataframe tbody tr th:only-of-type {\n",
              "        vertical-align: middle;\n",
              "    }\n",
              "\n",
              "    .dataframe tbody tr th {\n",
              "        vertical-align: top;\n",
              "    }\n",
              "\n",
              "    .dataframe thead th {\n",
              "        text-align: right;\n",
              "    }\n",
              "</style>\n",
              "<table border=\"1\" class=\"dataframe\">\n",
              "  <thead>\n",
              "    <tr style=\"text-align: right;\">\n",
              "      <th></th>\n",
              "      <th>GarageArea</th>\n",
              "      <th>GrLivArea</th>\n",
              "      <th>KitchenQual</th>\n",
              "      <th>OverallQual</th>\n",
              "      <th>TotalBsmtSF</th>\n",
              "      <th>SalePrice</th>\n",
              "    </tr>\n",
              "  </thead>\n",
              "  <tbody>\n",
              "    <tr>\n",
              "      <th>0</th>\n",
              "      <td>548</td>\n",
              "      <td>1710</td>\n",
              "      <td>Gd</td>\n",
              "      <td>7</td>\n",
              "      <td>856</td>\n",
              "      <td>208500</td>\n",
              "    </tr>\n",
              "    <tr>\n",
              "      <th>1</th>\n",
              "      <td>460</td>\n",
              "      <td>1262</td>\n",
              "      <td>TA</td>\n",
              "      <td>6</td>\n",
              "      <td>1262</td>\n",
              "      <td>181500</td>\n",
              "    </tr>\n",
              "    <tr>\n",
              "      <th>2</th>\n",
              "      <td>608</td>\n",
              "      <td>1786</td>\n",
              "      <td>Gd</td>\n",
              "      <td>7</td>\n",
              "      <td>920</td>\n",
              "      <td>223500</td>\n",
              "    </tr>\n",
              "    <tr>\n",
              "      <th>3</th>\n",
              "      <td>642</td>\n",
              "      <td>1717</td>\n",
              "      <td>Gd</td>\n",
              "      <td>7</td>\n",
              "      <td>756</td>\n",
              "      <td>140000</td>\n",
              "    </tr>\n",
              "    <tr>\n",
              "      <th>4</th>\n",
              "      <td>836</td>\n",
              "      <td>2198</td>\n",
              "      <td>Gd</td>\n",
              "      <td>8</td>\n",
              "      <td>1145</td>\n",
              "      <td>250000</td>\n",
              "    </tr>\n",
              "  </tbody>\n",
              "</table>\n",
              "</div>"
            ],
            "text/plain": [
              "   GarageArea  GrLivArea KitchenQual  OverallQual  TotalBsmtSF  SalePrice\n",
              "0         548       1710          Gd            7          856     208500\n",
              "1         460       1262          TA            6         1262     181500\n",
              "2         608       1786          Gd            7          920     223500\n",
              "3         642       1717          Gd            7          756     140000\n",
              "4         836       2198          Gd            8         1145     250000"
            ]
          },
          "execution_count": 6,
          "metadata": {},
          "output_type": "execute_result"
        }
      ],
      "source": [
        "house_prices_clean_df = house_prices_clean_df.drop(labels=['1stFlrSF',\n",
        "                                                            '2ndFlrSF',\n",
        "                                                            'GarageYrBlt',\n",
        "                                                            'YearBuilt',\n",
        "                                                            'BsmtExposure',\n",
        "                                                            'BsmtFinType1',\n",
        "                                                            'GarageFinish',\n",
        "                                                            'BedroomAbvGr',\n",
        "                                                            'BsmtFinSF1',\n",
        "                                                            'BsmtUnfSF',\n",
        "                                                            'LotArea',\n",
        "                                                            'LotFrontage',\n",
        "                                                            'MasVnrArea',\n",
        "                                                            'OpenPorchSF',\n",
        "                                                            'OverallCond',\n",
        "                                                            'YearRemodAdd'], axis=1)\n",
        "house_prices_clean_df.head()"
      ]
    },
    {
      "cell_type": "markdown",
      "metadata": {
        "id": "ZY3l0-AxO93d"
      },
      "source": [
        "---"
      ]
    },
    {
      "cell_type": "markdown",
      "metadata": {
        "id": "uFQo3ycuO-v6"
      },
      "source": [
        "# Split data"
      ]
    },
    {
      "cell_type": "markdown",
      "metadata": {},
      "source": [
        "We need to split the data into train, validation and test sets. We keep the same 7:1:2 ratio.\n",
        "\n",
        "First we split the data into the train and test sets"
      ]
    },
    {
      "cell_type": "code",
      "execution_count": 7,
      "metadata": {},
      "outputs": [
        {
          "name": "stdout",
          "output_type": "stream",
          "text": [
            "* Train set: (1168, 5) (1168,) \n",
            "* Test set: (292, 5) (292,)\n"
          ]
        }
      ],
      "source": [
        "from sklearn.model_selection import train_test_split\n",
        "\n",
        "X_train, X_test,y_train, y_test = train_test_split(\n",
        "                                    house_prices_clean_df.drop(['SalePrice'],axis=1),\n",
        "                                    house_prices_clean_df['SalePrice'],\n",
        "                                    test_size=0.2,\n",
        "                                    random_state=0\n",
        "                                    )\n",
        "\n",
        "print(\"* Train set:\", X_train.shape, y_train.shape, \"\\n* Test set:\",  X_test.shape, y_test.shape)"
      ]
    },
    {
      "cell_type": "markdown",
      "metadata": {},
      "source": [
        "We then split the train set further into train and validation sets."
      ]
    },
    {
      "cell_type": "code",
      "execution_count": 8,
      "metadata": {},
      "outputs": [
        {
          "name": "stdout",
          "output_type": "stream",
          "text": [
            "* Train set: (934, 5) (934,)\n",
            "* Validation set: (234, 5) (234,)\n",
            "* Test set: (292, 5) (292,)\n"
          ]
        }
      ],
      "source": [
        "X_train, X_val,y_train, y_val = train_test_split(\n",
        "                                    X_train,\n",
        "                                    y_train,\n",
        "                                    test_size=0.2,\n",
        "                                    random_state=0\n",
        "                                    )\n",
        "\n",
        "print(\"* Train set:\", X_train.shape, y_train.shape)\n",
        "print(\"* Validation set:\",  X_val.shape, y_val.shape)\n",
        "print(\"* Test set:\",   X_test.shape, y_test.shape)"
      ]
    },
    {
      "cell_type": "markdown",
      "metadata": {},
      "source": [
        "And save the data"
      ]
    },
    {
      "cell_type": "code",
      "execution_count": 9,
      "metadata": {},
      "outputs": [],
      "source": [
        "import os\n",
        "\n",
        "try:\n",
        "  os.makedirs(name='outputs/datasets/most_important_features_data')\n",
        "except Exception as e:\n",
        "  print(e)\n",
        "\n",
        "X_train.to_csv(f\"outputs/datasets/most_important_features_data/X_train.csv\",index=False)\n",
        "X_val.to_csv(f\"outputs/datasets/most_important_features_data/X_val.csv\",index=False)\n",
        "X_test.to_csv(f\"outputs/datasets/most_important_features_data/X_test.csv\",index=False)\n",
        "y_train.to_csv(f\"outputs/datasets/most_important_features_data/y_train.csv\",index=False)\n",
        "y_val.to_csv(f\"outputs/datasets/most_important_features_data/y_val.csv\",index=False)\n",
        "y_test.to_csv(f\"outputs/datasets/most_important_features_data/y_test.csv\",index=False)\n"
      ]
    },
    {
      "cell_type": "markdown",
      "metadata": {},
      "source": [
        "---"
      ]
    },
    {
      "cell_type": "markdown",
      "metadata": {},
      "source": [
        "## Pipeline.\n",
        "\n",
        "We can use the same pipeline as we used in the Modelling and Evaluation notebook, excepting that we can remove all features except 'GarageArea', 'GrLivArea', 'KitchenQual', 'OverallQual', 'TotalBsmtSF'."
      ]
    },
    {
      "cell_type": "code",
      "execution_count": 10,
      "metadata": {},
      "outputs": [],
      "source": [
        "from sklearn.pipeline import Pipeline\n",
        "\n",
        "from feature_engine.encoding import OrdinalEncoder\n",
        "from feature_engine import transformation as vt\n",
        "from feature_engine.outliers import Winsorizer\n",
        "from sklearn.preprocessing import StandardScaler\n",
        "\n",
        "\n",
        "\n",
        "pipeline = Pipeline([\n",
        "    (\"OrdinalCategoricalEncoder\",OrdinalEncoder(encoding_method='arbitrary', \n",
        "                                                  variables = ['KitchenQual'] ) ),\n",
        "\n",
        "    ('pt', vt.PowerTransformer(variables = ['GarageArea', 'GrLivArea', 'OverallQual','TotalBsmtSF']) ),\n",
        "\n",
        "    ('winsorizer_iqr', Winsorizer(capping_method='iqr', fold=1.5, tail='both')),\n",
        "    \n",
        "    ( \"feat_scaling\",StandardScaler() )\n",
        "  ])"
      ]
    },
    {
      "cell_type": "markdown",
      "metadata": {},
      "source": [
        "And use the pipeline to firt the train, validation and test sets."
      ]
    },
    {
      "cell_type": "code",
      "execution_count": 11,
      "metadata": {},
      "outputs": [],
      "source": [
        "X_train = pipeline.fit_transform(X_train)\n",
        "X_val= pipeline.transform(X_val)\n",
        "X_test = pipeline.transform(X_test)"
      ]
    },
    {
      "cell_type": "markdown",
      "metadata": {},
      "source": [
        "---"
      ]
    },
    {
      "cell_type": "markdown",
      "metadata": {},
      "source": [
        "# The Model"
      ]
    },
    {
      "cell_type": "code",
      "execution_count": 12,
      "metadata": {},
      "outputs": [],
      "source": [
        "import os;\n",
        "import tensorflow as tf;\n",
        "os.environ['TF_CPP_MIN_LOG_LEVEL'] = '2';\n",
        "from tensorflow.keras.models import Sequential\n",
        "from tensorflow.keras.layers import Dense, Dropout\n",
        "\n",
        "def create_tf_model(n_features):\n",
        "\n",
        "  model = Sequential()\n",
        "  model.add(Dense(units=n_features, activation='relu', input_shape=(n_features,)))\n",
        "\n",
        "  model.add(Dense(units=512,activation='relu'))\n",
        "  model.add(Dropout(0.25))\n",
        "\n",
        "  model.add(Dense(units=512,activation='relu'))\n",
        "  model.add(Dropout(0.25))\n",
        "\n",
        "  model.add(Dense(units=512,activation='relu'))\n",
        "  model.add(Dropout(0.25))\n",
        "\n",
        "  model.add(Dense(units=512,activation='relu'))\n",
        "  model.add(Dropout(0.25))\n",
        "\n",
        "  model.add(Dense(units=1))\n",
        "  model.compile(loss='mse', optimizer='adam')\n",
        "  \n",
        "  return model"
      ]
    },
    {
      "cell_type": "code",
      "execution_count": 13,
      "metadata": {},
      "outputs": [
        {
          "name": "stdout",
          "output_type": "stream",
          "text": [
            "Model: \"sequential\"\n",
            "_________________________________________________________________\n",
            "Layer (type)                 Output Shape              Param #   \n",
            "=================================================================\n",
            "dense (Dense)                (None, 5)                 30        \n",
            "_________________________________________________________________\n",
            "dense_1 (Dense)              (None, 512)               3072      \n",
            "_________________________________________________________________\n",
            "dropout (Dropout)            (None, 512)               0         \n",
            "_________________________________________________________________\n",
            "dense_2 (Dense)              (None, 512)               262656    \n",
            "_________________________________________________________________\n",
            "dropout_1 (Dropout)          (None, 512)               0         \n",
            "_________________________________________________________________\n",
            "dense_3 (Dense)              (None, 512)               262656    \n",
            "_________________________________________________________________\n",
            "dropout_2 (Dropout)          (None, 512)               0         \n",
            "_________________________________________________________________\n",
            "dense_4 (Dense)              (None, 512)               262656    \n",
            "_________________________________________________________________\n",
            "dropout_3 (Dropout)          (None, 512)               0         \n",
            "_________________________________________________________________\n",
            "dense_5 (Dense)              (None, 1)                 513       \n",
            "=================================================================\n",
            "Total params: 791,583\n",
            "Trainable params: 791,583\n",
            "Non-trainable params: 0\n",
            "_________________________________________________________________\n"
          ]
        }
      ],
      "source": [
        "model = create_tf_model(n_features=X_train.shape[1])\n",
        "model.summary()"
      ]
    },
    {
      "cell_type": "code",
      "execution_count": 14,
      "metadata": {},
      "outputs": [],
      "source": [
        "from tensorflow.keras.callbacks import EarlyStopping\n",
        "early_stop = EarlyStopping(monitor='val_loss', mode='min', verbose=1, patience=15)"
      ]
    },
    {
      "cell_type": "code",
      "execution_count": 15,
      "metadata": {},
      "outputs": [
        {
          "name": "stdout",
          "output_type": "stream",
          "text": [
            "Epoch 1/100\n",
            "30/30 [==============================] - 1s 30ms/step - loss: 39113949184.0000 - val_loss: 35988045824.0000\n",
            "Epoch 2/100\n",
            "30/30 [==============================] - 1s 19ms/step - loss: 25450295296.0000 - val_loss: 5240581120.0000\n",
            "Epoch 3/100\n",
            "30/30 [==============================] - 1s 21ms/step - loss: 4712318464.0000 - val_loss: 3279343104.0000\n",
            "Epoch 4/100\n",
            "30/30 [==============================] - 1s 21ms/step - loss: 2939965440.0000 - val_loss: 2036084224.0000\n",
            "Epoch 5/100\n",
            "30/30 [==============================] - 1s 21ms/step - loss: 2297029632.0000 - val_loss: 1568970496.0000\n",
            "Epoch 6/100\n",
            "30/30 [==============================] - 1s 20ms/step - loss: 1857220608.0000 - val_loss: 1328636288.0000\n",
            "Epoch 7/100\n",
            "30/30 [==============================] - 1s 21ms/step - loss: 1555027200.0000 - val_loss: 1154117888.0000\n",
            "Epoch 8/100\n",
            "30/30 [==============================] - 1s 18ms/step - loss: 1414539520.0000 - val_loss: 1137540096.0000\n",
            "Epoch 9/100\n",
            "30/30 [==============================] - 1s 18ms/step - loss: 1417176704.0000 - val_loss: 1074249344.0000\n",
            "Epoch 10/100\n",
            "30/30 [==============================] - 1s 21ms/step - loss: 1477641216.0000 - val_loss: 1030123392.0000\n",
            "Epoch 11/100\n",
            "30/30 [==============================] - 1s 20ms/step - loss: 1404813952.0000 - val_loss: 1054171136.0000\n",
            "Epoch 12/100\n",
            "30/30 [==============================] - 1s 20ms/step - loss: 1330612096.0000 - val_loss: 1018984704.0000\n",
            "Epoch 13/100\n",
            "30/30 [==============================] - 1s 21ms/step - loss: 1292037504.0000 - val_loss: 977121024.0000\n",
            "Epoch 14/100\n",
            "30/30 [==============================] - 1s 20ms/step - loss: 1371141888.0000 - val_loss: 982267968.0000\n",
            "Epoch 15/100\n",
            "30/30 [==============================] - 1s 21ms/step - loss: 1487656960.0000 - val_loss: 986847488.0000\n",
            "Epoch 16/100\n",
            "30/30 [==============================] - 0s 8ms/step - loss: 1347325440.0000 - val_loss: 959125824.0000\n",
            "Epoch 17/100\n",
            "30/30 [==============================] - 0s 8ms/step - loss: 1305654784.0000 - val_loss: 1028924224.0000\n",
            "Epoch 18/100\n",
            "30/30 [==============================] - 0s 10ms/step - loss: 1355048576.0000 - val_loss: 946798080.0000\n",
            "Epoch 19/100\n",
            "30/30 [==============================] - 0s 10ms/step - loss: 1220232704.0000 - val_loss: 956355904.0000\n",
            "Epoch 20/100\n",
            "30/30 [==============================] - 0s 7ms/step - loss: 1322313600.0000 - val_loss: 1094379008.0000\n",
            "Epoch 21/100\n",
            "30/30 [==============================] - 0s 10ms/step - loss: 1257053440.0000 - val_loss: 926767616.0000\n",
            "Epoch 22/100\n",
            "30/30 [==============================] - 0s 10ms/step - loss: 1309261696.0000 - val_loss: 1110636800.0000\n",
            "Epoch 23/100\n",
            "30/30 [==============================] - 0s 8ms/step - loss: 1328678656.0000 - val_loss: 928952192.0000\n",
            "Epoch 24/100\n",
            "30/30 [==============================] - 0s 8ms/step - loss: 1338405504.0000 - val_loss: 1034887168.0000\n",
            "Epoch 25/100\n",
            "30/30 [==============================] - 0s 10ms/step - loss: 1419870336.0000 - val_loss: 981809792.0000\n",
            "Epoch 26/100\n",
            "30/30 [==============================] - 0s 8ms/step - loss: 1319381760.0000 - val_loss: 890298816.0000\n",
            "Epoch 27/100\n",
            "30/30 [==============================] - 0s 10ms/step - loss: 1380914304.0000 - val_loss: 979505344.0000\n",
            "Epoch 28/100\n",
            "30/30 [==============================] - 0s 9ms/step - loss: 1363544960.0000 - val_loss: 908420416.0000\n",
            "Epoch 29/100\n",
            "30/30 [==============================] - 0s 8ms/step - loss: 1315478016.0000 - val_loss: 960706560.0000\n",
            "Epoch 30/100\n",
            "30/30 [==============================] - 0s 10ms/step - loss: 1324973568.0000 - val_loss: 889641664.0000\n",
            "Epoch 31/100\n",
            "30/30 [==============================] - 0s 8ms/step - loss: 1225009664.0000 - val_loss: 894052352.0000\n",
            "Epoch 32/100\n",
            "30/30 [==============================] - 0s 8ms/step - loss: 1221028224.0000 - val_loss: 904809792.0000\n",
            "Epoch 33/100\n",
            "30/30 [==============================] - 0s 10ms/step - loss: 1214308736.0000 - val_loss: 879012480.0000\n",
            "Epoch 34/100\n",
            "30/30 [==============================] - 0s 10ms/step - loss: 1302866816.0000 - val_loss: 900563904.0000\n",
            "Epoch 35/100\n",
            "30/30 [==============================] - 0s 8ms/step - loss: 1213194880.0000 - val_loss: 926797760.0000\n",
            "Epoch 36/100\n",
            "30/30 [==============================] - 0s 8ms/step - loss: 1301102592.0000 - val_loss: 883229696.0000\n",
            "Epoch 37/100\n",
            "30/30 [==============================] - 0s 10ms/step - loss: 1268707072.0000 - val_loss: 838801472.0000\n",
            "Epoch 38/100\n",
            "30/30 [==============================] - 0s 10ms/step - loss: 1288107776.0000 - val_loss: 848883904.0000\n",
            "Epoch 39/100\n",
            "30/30 [==============================] - 0s 8ms/step - loss: 1238392064.0000 - val_loss: 846577792.0000\n",
            "Epoch 40/100\n",
            "30/30 [==============================] - 0s 10ms/step - loss: 1264322048.0000 - val_loss: 873489408.0000\n",
            "Epoch 41/100\n",
            "30/30 [==============================] - 0s 10ms/step - loss: 1251323648.0000 - val_loss: 857741824.0000\n",
            "Epoch 42/100\n",
            "30/30 [==============================] - 0s 8ms/step - loss: 1207169024.0000 - val_loss: 903142208.0000\n",
            "Epoch 43/100\n",
            "30/30 [==============================] - 0s 8ms/step - loss: 1188539648.0000 - val_loss: 994220032.0000\n",
            "Epoch 44/100\n",
            "30/30 [==============================] - 0s 8ms/step - loss: 1241811968.0000 - val_loss: 945767360.0000\n",
            "Epoch 45/100\n",
            "30/30 [==============================] - 0s 10ms/step - loss: 1224329216.0000 - val_loss: 820249792.0000\n",
            "Epoch 46/100\n",
            "30/30 [==============================] - 0s 7ms/step - loss: 1246316928.0000 - val_loss: 901335680.0000\n",
            "Epoch 47/100\n",
            "30/30 [==============================] - 0s 8ms/step - loss: 1339239808.0000 - val_loss: 873440576.0000\n",
            "Epoch 48/100\n",
            "30/30 [==============================] - 0s 10ms/step - loss: 1223568640.0000 - val_loss: 818845952.0000\n",
            "Epoch 49/100\n",
            "30/30 [==============================] - 0s 10ms/step - loss: 1237749120.0000 - val_loss: 932972480.0000\n",
            "Epoch 50/100\n",
            "30/30 [==============================] - 0s 10ms/step - loss: 1202057216.0000 - val_loss: 810283392.0000\n",
            "Epoch 51/100\n",
            "30/30 [==============================] - 0s 11ms/step - loss: 1173091712.0000 - val_loss: 826219776.0000\n",
            "Epoch 52/100\n",
            "30/30 [==============================] - 0s 8ms/step - loss: 1293711872.0000 - val_loss: 828368256.0000\n",
            "Epoch 53/100\n",
            "30/30 [==============================] - 0s 8ms/step - loss: 1194218240.0000 - val_loss: 812105856.0000\n",
            "Epoch 54/100\n",
            "30/30 [==============================] - 0s 10ms/step - loss: 1255664512.0000 - val_loss: 829571712.0000\n",
            "Epoch 55/100\n",
            "30/30 [==============================] - 0s 10ms/step - loss: 1218526720.0000 - val_loss: 811585728.0000\n",
            "Epoch 56/100\n",
            "30/30 [==============================] - 0s 8ms/step - loss: 1249207424.0000 - val_loss: 1031419200.0000\n",
            "Epoch 57/100\n",
            "30/30 [==============================] - 0s 8ms/step - loss: 1301212928.0000 - val_loss: 857810240.0000\n",
            "Epoch 58/100\n",
            "30/30 [==============================] - 0s 10ms/step - loss: 1191080576.0000 - val_loss: 814134592.0000\n",
            "Epoch 59/100\n",
            "30/30 [==============================] - 0s 10ms/step - loss: 1136251392.0000 - val_loss: 928502272.0000\n",
            "Epoch 60/100\n",
            "30/30 [==============================] - 0s 10ms/step - loss: 1249609472.0000 - val_loss: 833894848.0000\n",
            "Epoch 61/100\n",
            "30/30 [==============================] - 0s 8ms/step - loss: 1229962112.0000 - val_loss: 836933440.0000\n",
            "Epoch 62/100\n",
            "30/30 [==============================] - 0s 10ms/step - loss: 1244273664.0000 - val_loss: 973636288.0000\n",
            "Epoch 63/100\n",
            "30/30 [==============================] - 0s 10ms/step - loss: 1179879680.0000 - val_loss: 806785536.0000\n",
            "Epoch 64/100\n",
            "30/30 [==============================] - 0s 10ms/step - loss: 1139306368.0000 - val_loss: 868821632.0000\n",
            "Epoch 65/100\n",
            "30/30 [==============================] - 0s 10ms/step - loss: 1262600448.0000 - val_loss: 806550272.0000\n",
            "Epoch 66/100\n",
            "30/30 [==============================] - 0s 10ms/step - loss: 1122479232.0000 - val_loss: 863405952.0000\n",
            "Epoch 67/100\n",
            "30/30 [==============================] - 0s 10ms/step - loss: 1085915264.0000 - val_loss: 860353792.0000\n",
            "Epoch 68/100\n",
            "30/30 [==============================] - 0s 10ms/step - loss: 1287766144.0000 - val_loss: 802828352.0000\n",
            "Epoch 69/100\n",
            "30/30 [==============================] - 0s 8ms/step - loss: 1184140544.0000 - val_loss: 1020633664.0000\n",
            "Epoch 70/100\n",
            "30/30 [==============================] - 0s 11ms/step - loss: 1218905600.0000 - val_loss: 795084672.0000\n",
            "Epoch 71/100\n",
            "30/30 [==============================] - 0s 10ms/step - loss: 1184807296.0000 - val_loss: 822680576.0000\n",
            "Epoch 72/100\n",
            "30/30 [==============================] - 0s 8ms/step - loss: 1233558144.0000 - val_loss: 847068736.0000\n",
            "Epoch 73/100\n",
            "30/30 [==============================] - 0s 8ms/step - loss: 1186780800.0000 - val_loss: 881736576.0000\n",
            "Epoch 74/100\n",
            "30/30 [==============================] - 0s 10ms/step - loss: 1255258240.0000 - val_loss: 801801344.0000\n",
            "Epoch 75/100\n",
            "30/30 [==============================] - 0s 10ms/step - loss: 1461845376.0000 - val_loss: 1016439488.0000\n",
            "Epoch 76/100\n",
            "30/30 [==============================] - 0s 14ms/step - loss: 1335799808.0000 - val_loss: 813837824.0000\n",
            "Epoch 77/100\n",
            "30/30 [==============================] - 0s 7ms/step - loss: 1199554816.0000 - val_loss: 793454272.0000\n",
            "Epoch 78/100\n",
            "30/30 [==============================] - 0s 10ms/step - loss: 1236438784.0000 - val_loss: 825602688.0000\n",
            "Epoch 79/100\n",
            "30/30 [==============================] - 0s 10ms/step - loss: 1186185344.0000 - val_loss: 838891200.0000\n",
            "Epoch 80/100\n",
            "30/30 [==============================] - 0s 8ms/step - loss: 1281515264.0000 - val_loss: 789313408.0000\n",
            "Epoch 81/100\n",
            "30/30 [==============================] - 0s 8ms/step - loss: 1269607680.0000 - val_loss: 880070208.0000\n",
            "Epoch 82/100\n",
            "30/30 [==============================] - 0s 10ms/step - loss: 1251653120.0000 - val_loss: 805543104.0000\n",
            "Epoch 83/100\n",
            "30/30 [==============================] - 0s 10ms/step - loss: 1210394240.0000 - val_loss: 842334720.0000\n",
            "Epoch 84/100\n",
            "30/30 [==============================] - 0s 10ms/step - loss: 1218740480.0000 - val_loss: 796895488.0000\n",
            "Epoch 85/100\n",
            "30/30 [==============================] - 0s 10ms/step - loss: 1239242880.0000 - val_loss: 819425792.0000\n",
            "Epoch 86/100\n",
            "30/30 [==============================] - 0s 10ms/step - loss: 1256243328.0000 - val_loss: 816731840.0000\n",
            "Epoch 87/100\n",
            "30/30 [==============================] - 0s 10ms/step - loss: 1189444864.0000 - val_loss: 796359552.0000\n",
            "Epoch 88/100\n",
            "30/30 [==============================] - 0s 10ms/step - loss: 1169092736.0000 - val_loss: 793595584.0000\n",
            "Epoch 89/100\n",
            "30/30 [==============================] - 0s 10ms/step - loss: 1298299904.0000 - val_loss: 793349952.0000\n",
            "Epoch 90/100\n",
            "30/30 [==============================] - 0s 10ms/step - loss: 1209372032.0000 - val_loss: 878667072.0000\n",
            "Epoch 91/100\n",
            "30/30 [==============================] - 0s 10ms/step - loss: 1242538240.0000 - val_loss: 785066496.0000\n",
            "Epoch 92/100\n",
            "30/30 [==============================] - 0s 8ms/step - loss: 1173320576.0000 - val_loss: 826237184.0000\n",
            "Epoch 93/100\n",
            "30/30 [==============================] - 0s 10ms/step - loss: 1162852224.0000 - val_loss: 801086208.0000\n",
            "Epoch 94/100\n",
            "30/30 [==============================] - 0s 7ms/step - loss: 1264830848.0000 - val_loss: 880494784.0000\n",
            "Epoch 95/100\n",
            "30/30 [==============================] - 0s 8ms/step - loss: 1113880192.0000 - val_loss: 786108736.0000\n",
            "Epoch 96/100\n",
            "30/30 [==============================] - 0s 10ms/step - loss: 1211260672.0000 - val_loss: 771479936.0000\n",
            "Epoch 97/100\n",
            "30/30 [==============================] - 0s 10ms/step - loss: 1143026048.0000 - val_loss: 874006016.0000\n",
            "Epoch 98/100\n",
            "30/30 [==============================] - 0s 10ms/step - loss: 1187091456.0000 - val_loss: 782032640.0000\n",
            "Epoch 99/100\n",
            "30/30 [==============================] - 0s 10ms/step - loss: 1188801792.0000 - val_loss: 845173696.0000\n",
            "Epoch 100/100\n",
            "30/30 [==============================] - 0s 8ms/step - loss: 1293786496.0000 - val_loss: 829900480.0000\n"
          ]
        },
        {
          "data": {
            "text/plain": [
              "<keras.callbacks.History at 0x7f830ad3c250>"
            ]
          },
          "execution_count": 15,
          "metadata": {},
          "output_type": "execute_result"
        }
      ],
      "source": [
        "model = create_tf_model(n_features=X_train.shape[1])\n",
        "\n",
        "model.fit(x=X_train, \n",
        "          y=y_train, \n",
        "          epochs=100,\n",
        "          validation_data=(X_val, y_val),\n",
        "          verbose=1,\n",
        "          callbacks=[early_stop]\n",
        "          )"
      ]
    },
    {
      "cell_type": "markdown",
      "metadata": {},
      "source": [
        "---"
      ]
    },
    {
      "cell_type": "markdown",
      "metadata": {},
      "source": [
        "# Evaluation"
      ]
    },
    {
      "cell_type": "code",
      "execution_count": 16,
      "metadata": {},
      "outputs": [
        {
          "data": {
            "text/html": [
              "<div>\n",
              "<style scoped>\n",
              "    .dataframe tbody tr th:only-of-type {\n",
              "        vertical-align: middle;\n",
              "    }\n",
              "\n",
              "    .dataframe tbody tr th {\n",
              "        vertical-align: top;\n",
              "    }\n",
              "\n",
              "    .dataframe thead th {\n",
              "        text-align: right;\n",
              "    }\n",
              "</style>\n",
              "<table border=\"1\" class=\"dataframe\">\n",
              "  <thead>\n",
              "    <tr style=\"text-align: right;\">\n",
              "      <th></th>\n",
              "      <th>loss</th>\n",
              "      <th>val_loss</th>\n",
              "    </tr>\n",
              "  </thead>\n",
              "  <tbody>\n",
              "    <tr>\n",
              "      <th>0</th>\n",
              "      <td>3.911395e+10</td>\n",
              "      <td>3.598805e+10</td>\n",
              "    </tr>\n",
              "    <tr>\n",
              "      <th>1</th>\n",
              "      <td>2.545030e+10</td>\n",
              "      <td>5.240581e+09</td>\n",
              "    </tr>\n",
              "    <tr>\n",
              "      <th>2</th>\n",
              "      <td>4.712318e+09</td>\n",
              "      <td>3.279343e+09</td>\n",
              "    </tr>\n",
              "    <tr>\n",
              "      <th>3</th>\n",
              "      <td>2.939965e+09</td>\n",
              "      <td>2.036084e+09</td>\n",
              "    </tr>\n",
              "    <tr>\n",
              "      <th>4</th>\n",
              "      <td>2.297030e+09</td>\n",
              "      <td>1.568970e+09</td>\n",
              "    </tr>\n",
              "    <tr>\n",
              "      <th>...</th>\n",
              "      <td>...</td>\n",
              "      <td>...</td>\n",
              "    </tr>\n",
              "    <tr>\n",
              "      <th>95</th>\n",
              "      <td>1.211261e+09</td>\n",
              "      <td>7.714799e+08</td>\n",
              "    </tr>\n",
              "    <tr>\n",
              "      <th>96</th>\n",
              "      <td>1.143026e+09</td>\n",
              "      <td>8.740060e+08</td>\n",
              "    </tr>\n",
              "    <tr>\n",
              "      <th>97</th>\n",
              "      <td>1.187091e+09</td>\n",
              "      <td>7.820326e+08</td>\n",
              "    </tr>\n",
              "    <tr>\n",
              "      <th>98</th>\n",
              "      <td>1.188802e+09</td>\n",
              "      <td>8.451737e+08</td>\n",
              "    </tr>\n",
              "    <tr>\n",
              "      <th>99</th>\n",
              "      <td>1.293786e+09</td>\n",
              "      <td>8.299005e+08</td>\n",
              "    </tr>\n",
              "  </tbody>\n",
              "</table>\n",
              "<p>100 rows × 2 columns</p>\n",
              "</div>"
            ],
            "text/plain": [
              "            loss      val_loss\n",
              "0   3.911395e+10  3.598805e+10\n",
              "1   2.545030e+10  5.240581e+09\n",
              "2   4.712318e+09  3.279343e+09\n",
              "3   2.939965e+09  2.036084e+09\n",
              "4   2.297030e+09  1.568970e+09\n",
              "..           ...           ...\n",
              "95  1.211261e+09  7.714799e+08\n",
              "96  1.143026e+09  8.740060e+08\n",
              "97  1.187091e+09  7.820326e+08\n",
              "98  1.188802e+09  8.451737e+08\n",
              "99  1.293786e+09  8.299005e+08\n",
              "\n",
              "[100 rows x 2 columns]"
            ]
          },
          "execution_count": 16,
          "metadata": {},
          "output_type": "execute_result"
        }
      ],
      "source": [
        "losses = pd.DataFrame(model.history.history)\n",
        "losses"
      ]
    },
    {
      "cell_type": "code",
      "execution_count": 17,
      "metadata": {},
      "outputs": [
        {
          "data": {
            "image/png": "[encoded data removed]",
            "text/plain": [
              "<Figure size 640x480 with 1 Axes>"
            ]
          },
          "metadata": {},
          "output_type": "display_data"
        }
      ],
      "source": [
        "import matplotlib.pyplot as plt\n",
        "import seaborn as sns\n",
        "\n",
        "losses = pd.DataFrame(model.history.history)\n",
        "\n",
        "sns.set_style(\"whitegrid\")\n",
        "losses[['loss','val_loss']].plot(style='.-')\n",
        "plt.title(\"Loss\")\n",
        "plt.show()"
      ]
    },
    {
      "cell_type": "code",
      "execution_count": 18,
      "metadata": {},
      "outputs": [
        {
          "name": "stdout",
          "output_type": "stream",
          "text": [
            "10/10 [==============================] - 0s 979us/step - loss: 1529168896.0000\n"
          ]
        },
        {
          "data": {
            "text/plain": [
              "1529168896.0"
            ]
          },
          "execution_count": 18,
          "metadata": {},
          "output_type": "execute_result"
        }
      ],
      "source": [
        "model.evaluate(X_test,y_test)"
      ]
    },
    {
      "cell_type": "code",
      "execution_count": 19,
      "metadata": {},
      "outputs": [],
      "source": [
        "from sklearn.metrics import r2_score, mean_squared_error, mean_absolute_error \n",
        "import numpy as np\n",
        "\n",
        "def regression_performance(X_train, y_train,\n",
        "                           X_val, y_val,\n",
        "                           X_test, y_test,pipeline):\n",
        "\n",
        "  print(\"Model Evaluation \\n\")\n",
        "  print(\"* Train Set\")\n",
        "  regression_evaluation(X_train,y_train,pipeline)\n",
        "  print(\"* Validation Set\")\n",
        "  regression_evaluation(X_val, y_val,pipeline)\n",
        "  print(\"* Test Set\")\n",
        "  regression_evaluation(X_test,y_test,pipeline)\n",
        "\n",
        "\n",
        "\n",
        "def regression_evaluation(X,y,pipeline):\n",
        "  \"\"\"\n",
        "  # Gets features and target (either from train or test set) and pipeline\n",
        "  - it predicts using the pipeline and the features\n",
        "  - calculates performance metrics comparing the prediction to the target\n",
        "  \"\"\"\n",
        "  prediction = pipeline.predict(X)\n",
        "  print('R2 Score:', r2_score(y, prediction).round(3))  \n",
        "  print('Mean Absolute Error:', mean_absolute_error(y, prediction).round(3))  \n",
        "  print('Mean Squared Error:', mean_squared_error(y, prediction).round(3))  \n",
        "  print('Root Mean Squared Error:', np.sqrt(mean_squared_error(y, prediction)).round(3))\n",
        "  print(\"\\n\")\n",
        "\n",
        "  \n",
        "\n",
        "def regression_evaluation_plots(X_train, y_train,\n",
        "                                X_val, y_val,\n",
        "                                X_test, y_test,\n",
        "                                pipeline, alpha_scatter=0.5):\n",
        "\n",
        "  pred_train = pipeline.predict(X_train).reshape(-1) \n",
        "  # we reshape the prediction arrays to be in the format (n_rows,), so we can plot it after\n",
        "  pred_val = pipeline.predict(X_val).reshape(-1)\n",
        "  pred_test = pipeline.predict(X_test).reshape(-1)\n",
        "\n",
        "  fig, axes = plt.subplots(nrows=1, ncols=3, figsize=(15,6))\n",
        "  sns.scatterplot(x=y_train , y=pred_train, alpha=alpha_scatter, ax=axes[0])\n",
        "  sns.lineplot(x=y_train , y=y_train, color='red', ax=axes[0])\n",
        "  axes[0].set_xlabel(\"Actual\")\n",
        "  axes[0].set_ylabel(\"Predictions\")\n",
        "  axes[0].set_title(\"Train Set\")\n",
        "\n",
        "  sns.scatterplot(x=y_val , y=pred_val, alpha=alpha_scatter, ax=axes[1])\n",
        "  sns.lineplot(x=y_val , y=y_val, color='red', ax=axes[1])\n",
        "  axes[1].set_xlabel(\"Actual\")\n",
        "  axes[1].set_ylabel(\"Predictions\")\n",
        "  axes[1].set_title(\"Validation Set\")\n",
        "\n",
        "  sns.scatterplot(x=y_test , y=pred_test, alpha=alpha_scatter, ax=axes[2])\n",
        "  sns.lineplot(x=y_test , y=y_test, color='red', ax=axes[2])\n",
        "  axes[2].set_xlabel(\"Actual\")\n",
        "  axes[2].set_ylabel(\"Predictions\")\n",
        "  axes[2].set_title(\"Test Set\")\n",
        "\n",
        "  plt.show()\n",
        "  train_valid_test = fig"
      ]
    },
    {
      "cell_type": "code",
      "execution_count": 20,
      "metadata": {},
      "outputs": [
        {
          "name": "stdout",
          "output_type": "stream",
          "text": [
            "Model Evaluation \n",
            "\n",
            "* Train Set\n",
            "R2 Score: 0.843\n",
            "Mean Absolute Error: 20617.138\n",
            "Mean Squared Error: 989369562.043\n",
            "Root Mean Squared Error: 31454.246\n",
            "\n",
            "\n",
            "* Validation Set\n",
            "R2 Score: 0.849\n",
            "Mean Absolute Error: 21183.536\n",
            "Mean Squared Error: 829900380.727\n",
            "Root Mean Squared Error: 28807.992\n",
            "\n",
            "\n",
            "* Test Set\n",
            "R2 Score: 0.779\n",
            "Mean Absolute Error: 22401.275\n",
            "Mean Squared Error: 1529169051.688\n",
            "Root Mean Squared Error: 39104.591\n",
            "\n",
            "\n"
          ]
        },
        {
          "data": {
            "image/png": "[encoded data removed]",
            "text/plain": [
              "<Figure size 1500x600 with 3 Axes>"
            ]
          },
          "metadata": {},
          "output_type": "display_data"
        }
      ],
      "source": [
        "regression_performance(X_train, y_train,X_val, y_val, X_test, y_test,model)\n",
        "regression_evaluation_plots(X_train, y_train, X_val, y_val,X_test, y_test, \n",
        "                            model, alpha_scatter=0.5)"
      ]
    },
    {
      "cell_type": "markdown",
      "metadata": {},
      "source": [
        "# Observations\n",
        "\n",
        "1. Excepting the input layer (which must have the same number of units as the number of input features), or model is identicle to before.\n",
        "2. We have met out train, validation and test sets exceed the R2 target of 0.75"
      ]
    },
    {
      "cell_type": "markdown",
      "metadata": {},
      "source": [
        "Save the pipleine"
      ]
    },
    {
      "cell_type": "code",
      "execution_count": 21,
      "metadata": {},
      "outputs": [
        {
          "data": {
            "text/plain": [
              "['outputs/pipeline_2/pipeline_2.pkl']"
            ]
          },
          "execution_count": 21,
          "metadata": {},
          "output_type": "execute_result"
        }
      ],
      "source": [
        "import joblib\n",
        "import os\n",
        "\n",
        "try:\n",
        "  os.makedirs(name= f'outputs/pipeline_2/')\n",
        "except Exception as e:\n",
        "  print(e)\n",
        "\n",
        "joblib.dump(value=pipeline, filename=f\"outputs/pipeline_2/pipeline_2.pkl\")"
      ]
    },
    {
      "cell_type": "markdown",
      "metadata": {},
      "source": [
        "Save the model"
      ]
    },
    {
      "cell_type": "code",
      "execution_count": 22,
      "metadata": {},
      "outputs": [],
      "source": [
        "try:\n",
        "  os.makedirs(name= f'outputs/model_2/')\n",
        "except Exception as e:\n",
        "  print(e)\n",
        "\n",
        "model.save('outputs/model_2/house_price_predictor_model_2.h5')"
      ]
    },
    {
      "cell_type": "markdown",
      "metadata": {},
      "source": [
        "---"
      ]
    },
    {
      "cell_type": "markdown",
      "metadata": {},
      "source": [
        "# Predict inherited house prices."
      ]
    },
    {
      "cell_type": "markdown",
      "metadata": {},
      "source": [
        "1. We can use our new model to predict prices of the houses in the inherited data set."
      ]
    },
    {
      "cell_type": "code",
      "execution_count": 21,
      "metadata": {},
      "outputs": [
        {
          "data": {
            "text/html": [
              "<div>\n",
              "<style scoped>\n",
              "    .dataframe tbody tr th:only-of-type {\n",
              "        vertical-align: middle;\n",
              "    }\n",
              "\n",
              "    .dataframe tbody tr th {\n",
              "        vertical-align: top;\n",
              "    }\n",
              "\n",
              "    .dataframe thead th {\n",
              "        text-align: right;\n",
              "    }\n",
              "</style>\n",
              "<table border=\"1\" class=\"dataframe\">\n",
              "  <thead>\n",
              "    <tr style=\"text-align: right;\">\n",
              "      <th></th>\n",
              "      <th>1stFlrSF</th>\n",
              "      <th>2ndFlrSF</th>\n",
              "      <th>BedroomAbvGr</th>\n",
              "      <th>BsmtExposure</th>\n",
              "      <th>BsmtFinSF1</th>\n",
              "      <th>BsmtFinType1</th>\n",
              "      <th>BsmtUnfSF</th>\n",
              "      <th>GarageArea</th>\n",
              "      <th>GarageFinish</th>\n",
              "      <th>GarageYrBlt</th>\n",
              "      <th>...</th>\n",
              "      <th>KitchenQual</th>\n",
              "      <th>LotArea</th>\n",
              "      <th>LotFrontage</th>\n",
              "      <th>MasVnrArea</th>\n",
              "      <th>OpenPorchSF</th>\n",
              "      <th>OverallCond</th>\n",
              "      <th>OverallQual</th>\n",
              "      <th>TotalBsmtSF</th>\n",
              "      <th>YearBuilt</th>\n",
              "      <th>YearRemodAdd</th>\n",
              "    </tr>\n",
              "  </thead>\n",
              "  <tbody>\n",
              "    <tr>\n",
              "      <th>0</th>\n",
              "      <td>896</td>\n",
              "      <td>0</td>\n",
              "      <td>2</td>\n",
              "      <td>No</td>\n",
              "      <td>468.0</td>\n",
              "      <td>Rec</td>\n",
              "      <td>270.0</td>\n",
              "      <td>730.0</td>\n",
              "      <td>Unf</td>\n",
              "      <td>1961.0</td>\n",
              "      <td>...</td>\n",
              "      <td>TA</td>\n",
              "      <td>11622</td>\n",
              "      <td>80.0</td>\n",
              "      <td>0.0</td>\n",
              "      <td>0</td>\n",
              "      <td>6</td>\n",
              "      <td>5</td>\n",
              "      <td>882.0</td>\n",
              "      <td>1961</td>\n",
              "      <td>1961</td>\n",
              "    </tr>\n",
              "    <tr>\n",
              "      <th>1</th>\n",
              "      <td>1329</td>\n",
              "      <td>0</td>\n",
              "      <td>3</td>\n",
              "      <td>No</td>\n",
              "      <td>923.0</td>\n",
              "      <td>ALQ</td>\n",
              "      <td>406.0</td>\n",
              "      <td>312.0</td>\n",
              "      <td>Unf</td>\n",
              "      <td>1958.0</td>\n",
              "      <td>...</td>\n",
              "      <td>Gd</td>\n",
              "      <td>14267</td>\n",
              "      <td>81.0</td>\n",
              "      <td>108.0</td>\n",
              "      <td>36</td>\n",
              "      <td>6</td>\n",
              "      <td>6</td>\n",
              "      <td>1329.0</td>\n",
              "      <td>1958</td>\n",
              "      <td>1958</td>\n",
              "    </tr>\n",
              "    <tr>\n",
              "      <th>2</th>\n",
              "      <td>928</td>\n",
              "      <td>701</td>\n",
              "      <td>3</td>\n",
              "      <td>No</td>\n",
              "      <td>791.0</td>\n",
              "      <td>GLQ</td>\n",
              "      <td>137.0</td>\n",
              "      <td>482.0</td>\n",
              "      <td>Fin</td>\n",
              "      <td>1997.0</td>\n",
              "      <td>...</td>\n",
              "      <td>TA</td>\n",
              "      <td>13830</td>\n",
              "      <td>74.0</td>\n",
              "      <td>0.0</td>\n",
              "      <td>34</td>\n",
              "      <td>5</td>\n",
              "      <td>5</td>\n",
              "      <td>928.0</td>\n",
              "      <td>1997</td>\n",
              "      <td>1998</td>\n",
              "    </tr>\n",
              "    <tr>\n",
              "      <th>3</th>\n",
              "      <td>926</td>\n",
              "      <td>678</td>\n",
              "      <td>3</td>\n",
              "      <td>No</td>\n",
              "      <td>602.0</td>\n",
              "      <td>GLQ</td>\n",
              "      <td>324.0</td>\n",
              "      <td>470.0</td>\n",
              "      <td>Fin</td>\n",
              "      <td>1998.0</td>\n",
              "      <td>...</td>\n",
              "      <td>Gd</td>\n",
              "      <td>9978</td>\n",
              "      <td>78.0</td>\n",
              "      <td>20.0</td>\n",
              "      <td>36</td>\n",
              "      <td>6</td>\n",
              "      <td>6</td>\n",
              "      <td>926.0</td>\n",
              "      <td>1998</td>\n",
              "      <td>1998</td>\n",
              "    </tr>\n",
              "  </tbody>\n",
              "</table>\n",
              "<p>4 rows × 21 columns</p>\n",
              "</div>"
            ],
            "text/plain": [
              "   1stFlrSF  2ndFlrSF  BedroomAbvGr BsmtExposure  BsmtFinSF1 BsmtFinType1  \\\n",
              "0       896         0             2           No       468.0          Rec   \n",
              "1      1329         0             3           No       923.0          ALQ   \n",
              "2       928       701             3           No       791.0          GLQ   \n",
              "3       926       678             3           No       602.0          GLQ   \n",
              "\n",
              "   BsmtUnfSF  GarageArea GarageFinish  GarageYrBlt  ...  KitchenQual LotArea  \\\n",
              "0      270.0       730.0          Unf       1961.0  ...           TA   11622   \n",
              "1      406.0       312.0          Unf       1958.0  ...           Gd   14267   \n",
              "2      137.0       482.0          Fin       1997.0  ...           TA   13830   \n",
              "3      324.0       470.0          Fin       1998.0  ...           Gd    9978   \n",
              "\n",
              "   LotFrontage  MasVnrArea  OpenPorchSF  OverallCond  OverallQual  \\\n",
              "0         80.0         0.0            0            6            5   \n",
              "1         81.0       108.0           36            6            6   \n",
              "2         74.0         0.0           34            5            5   \n",
              "3         78.0        20.0           36            6            6   \n",
              "\n",
              "   TotalBsmtSF  YearBuilt  YearRemodAdd  \n",
              "0        882.0       1961          1961  \n",
              "1       1329.0       1958          1958  \n",
              "2        928.0       1997          1998  \n",
              "3        926.0       1998          1998  \n",
              "\n",
              "[4 rows x 21 columns]"
            ]
          },
          "execution_count": 21,
          "metadata": {},
          "output_type": "execute_result"
        }
      ],
      "source": [
        "inherited_houses_clean_df = pd.read_csv(f\"outputs/datasets/clean_data/Inherited_houses_clean.csv\")\n",
        "inherited_houses_clean_df.head()"
      ]
    },
    {
      "cell_type": "markdown",
      "metadata": {},
      "source": [
        "Run the data through the pipeline."
      ]
    },
    {
      "cell_type": "code",
      "execution_count": 22,
      "metadata": {},
      "outputs": [],
      "source": [
        "engineered_client_house_prices = pipeline.transform(inherited_houses_clean_df)"
      ]
    },
    {
      "cell_type": "markdown",
      "metadata": {},
      "source": [
        "Use the model to predict house prices."
      ]
    },
    {
      "cell_type": "code",
      "execution_count": 23,
      "metadata": {},
      "outputs": [
        {
          "data": {
            "text/html": [
              "<div>\n",
              "<style scoped>\n",
              "    .dataframe tbody tr th:only-of-type {\n",
              "        vertical-align: middle;\n",
              "    }\n",
              "\n",
              "    .dataframe tbody tr th {\n",
              "        vertical-align: top;\n",
              "    }\n",
              "\n",
              "    .dataframe thead th {\n",
              "        text-align: right;\n",
              "    }\n",
              "</style>\n",
              "<table border=\"1\" class=\"dataframe\">\n",
              "  <thead>\n",
              "    <tr style=\"text-align: right;\">\n",
              "      <th></th>\n",
              "      <th>1stFlrSF</th>\n",
              "      <th>2ndFlrSF</th>\n",
              "      <th>BedroomAbvGr</th>\n",
              "      <th>BsmtExposure</th>\n",
              "      <th>BsmtFinSF1</th>\n",
              "      <th>BsmtFinType1</th>\n",
              "      <th>BsmtUnfSF</th>\n",
              "      <th>GarageArea</th>\n",
              "      <th>GarageFinish</th>\n",
              "      <th>GarageYrBlt</th>\n",
              "      <th>...</th>\n",
              "      <th>LotArea</th>\n",
              "      <th>LotFrontage</th>\n",
              "      <th>MasVnrArea</th>\n",
              "      <th>OpenPorchSF</th>\n",
              "      <th>OverallCond</th>\n",
              "      <th>OverallQual</th>\n",
              "      <th>TotalBsmtSF</th>\n",
              "      <th>YearBuilt</th>\n",
              "      <th>YearRemodAdd</th>\n",
              "      <th>0</th>\n",
              "    </tr>\n",
              "  </thead>\n",
              "  <tbody>\n",
              "    <tr>\n",
              "      <th>0</th>\n",
              "      <td>896</td>\n",
              "      <td>0</td>\n",
              "      <td>2</td>\n",
              "      <td>No</td>\n",
              "      <td>468.0</td>\n",
              "      <td>Rec</td>\n",
              "      <td>270.0</td>\n",
              "      <td>730.0</td>\n",
              "      <td>Unf</td>\n",
              "      <td>1961.0</td>\n",
              "      <td>...</td>\n",
              "      <td>11622</td>\n",
              "      <td>80.0</td>\n",
              "      <td>0.0</td>\n",
              "      <td>0</td>\n",
              "      <td>6</td>\n",
              "      <td>5</td>\n",
              "      <td>882.0</td>\n",
              "      <td>1961</td>\n",
              "      <td>1961</td>\n",
              "      <td>142228.296875</td>\n",
              "    </tr>\n",
              "    <tr>\n",
              "      <th>1</th>\n",
              "      <td>1329</td>\n",
              "      <td>0</td>\n",
              "      <td>3</td>\n",
              "      <td>No</td>\n",
              "      <td>923.0</td>\n",
              "      <td>ALQ</td>\n",
              "      <td>406.0</td>\n",
              "      <td>312.0</td>\n",
              "      <td>Unf</td>\n",
              "      <td>1958.0</td>\n",
              "      <td>...</td>\n",
              "      <td>14267</td>\n",
              "      <td>81.0</td>\n",
              "      <td>108.0</td>\n",
              "      <td>36</td>\n",
              "      <td>6</td>\n",
              "      <td>6</td>\n",
              "      <td>1329.0</td>\n",
              "      <td>1958</td>\n",
              "      <td>1958</td>\n",
              "      <td>169058.468750</td>\n",
              "    </tr>\n",
              "    <tr>\n",
              "      <th>2</th>\n",
              "      <td>928</td>\n",
              "      <td>701</td>\n",
              "      <td>3</td>\n",
              "      <td>No</td>\n",
              "      <td>791.0</td>\n",
              "      <td>GLQ</td>\n",
              "      <td>137.0</td>\n",
              "      <td>482.0</td>\n",
              "      <td>Fin</td>\n",
              "      <td>1997.0</td>\n",
              "      <td>...</td>\n",
              "      <td>13830</td>\n",
              "      <td>74.0</td>\n",
              "      <td>0.0</td>\n",
              "      <td>34</td>\n",
              "      <td>5</td>\n",
              "      <td>5</td>\n",
              "      <td>928.0</td>\n",
              "      <td>1997</td>\n",
              "      <td>1998</td>\n",
              "      <td>142941.203125</td>\n",
              "    </tr>\n",
              "    <tr>\n",
              "      <th>3</th>\n",
              "      <td>926</td>\n",
              "      <td>678</td>\n",
              "      <td>3</td>\n",
              "      <td>No</td>\n",
              "      <td>602.0</td>\n",
              "      <td>GLQ</td>\n",
              "      <td>324.0</td>\n",
              "      <td>470.0</td>\n",
              "      <td>Fin</td>\n",
              "      <td>1998.0</td>\n",
              "      <td>...</td>\n",
              "      <td>9978</td>\n",
              "      <td>78.0</td>\n",
              "      <td>20.0</td>\n",
              "      <td>36</td>\n",
              "      <td>6</td>\n",
              "      <td>6</td>\n",
              "      <td>926.0</td>\n",
              "      <td>1998</td>\n",
              "      <td>1998</td>\n",
              "      <td>180540.640625</td>\n",
              "    </tr>\n",
              "  </tbody>\n",
              "</table>\n",
              "<p>4 rows × 22 columns</p>\n",
              "</div>"
            ],
            "text/plain": [
              "   1stFlrSF  2ndFlrSF  BedroomAbvGr BsmtExposure  BsmtFinSF1 BsmtFinType1  \\\n",
              "0       896         0             2           No       468.0          Rec   \n",
              "1      1329         0             3           No       923.0          ALQ   \n",
              "2       928       701             3           No       791.0          GLQ   \n",
              "3       926       678             3           No       602.0          GLQ   \n",
              "\n",
              "   BsmtUnfSF  GarageArea GarageFinish  GarageYrBlt  ...  LotArea LotFrontage  \\\n",
              "0      270.0       730.0          Unf       1961.0  ...    11622        80.0   \n",
              "1      406.0       312.0          Unf       1958.0  ...    14267        81.0   \n",
              "2      137.0       482.0          Fin       1997.0  ...    13830        74.0   \n",
              "3      324.0       470.0          Fin       1998.0  ...     9978        78.0   \n",
              "\n",
              "   MasVnrArea  OpenPorchSF  OverallCond  OverallQual  TotalBsmtSF  YearBuilt  \\\n",
              "0         0.0            0            6            5        882.0       1961   \n",
              "1       108.0           36            6            6       1329.0       1958   \n",
              "2         0.0           34            5            5        928.0       1997   \n",
              "3        20.0           36            6            6        926.0       1998   \n",
              "\n",
              "   YearRemodAdd              0  \n",
              "0          1961  142228.296875  \n",
              "1          1958  169058.468750  \n",
              "2          1998  142941.203125  \n",
              "3          1998  180540.640625  \n",
              "\n",
              "[4 rows x 22 columns]"
            ]
          },
          "execution_count": 23,
          "metadata": {},
          "output_type": "execute_result"
        }
      ],
      "source": [
        "predictions = model.predict(engineered_client_house_prices)\n",
        "predictions_df = pd.DataFrame(predictions)\n",
        "\n",
        "house_price_predictions = pd.concat([inherited_houses_clean_df, predictions_df], axis=1)\n",
        "house_price_predictions"
      ]
    },
    {
      "cell_type": "markdown",
      "metadata": {},
      "source": [
        "We note the price predictions differ from our the predictions from our earlier model."
      ]
    },
    {
      "cell_type": "code",
      "execution_count": 25,
      "metadata": {},
      "outputs": [],
      "source": [
        "import os\n",
        "try:\n",
        "  os.makedirs(name='outputs/datasets/predicted_prices_2')\n",
        "except Exception as e:\n",
        "  print(e)\n",
        "\n",
        "house_price_predictions.to_csv(f\"outputs/datasets/predicted_prices_2/house_price_predictions_2.csv\",index=False)"
      ]
    }
  ],
  "metadata": {
    "accelerator": "GPU",
    "colab": {
      "name": "Data Practitioner Jupyter Notebook.ipynb",
      "provenance": [],
      "toc_visible": true
    },
    "interpreter": {
      "hash": "8b8334dab9339717f727a1deaf837b322d7a41c20d15cc86be99a8e69ceec8ce"
    },
    "kernelspec": {
      "display_name": "Python 3.8.12 64-bit ('3.8.12': pyenv)",
      "name": "python3"
    },
    "language_info": {
      "codemirror_mode": {
        "name": "ipython",
        "version": 3
      },
      "file_extension": ".py",
      "mimetype": "text/x-python",
      "name": "python",
      "nbconvert_exporter": "python",
      "pygments_lexer": "ipython3",
      "version": "3.8.18"
    },
    "orig_nbformat": 2
  },
  "nbformat": 4,
  "nbformat_minor": 2
}
