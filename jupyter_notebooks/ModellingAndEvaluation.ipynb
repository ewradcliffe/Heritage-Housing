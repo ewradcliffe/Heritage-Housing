{
  "cells": [
    {
      "cell_type": "markdown",
      "metadata": {
        "id": "0aStgWSO0E0E"
      },
      "source": [
        "# **Modelling and Evaluation: Regression**"
      ]
    },
    {
      "cell_type": "markdown",
      "metadata": {
        "id": "1eLEkw5O0ECa"
      },
      "source": [
        "## Objectives\n",
        "\n",
        "1. Fit and evaluate a regression model which will predict house prices.\n",
        "2. Answers business criteria 2. Predict prices for client house data.\n",
        "3. We have agreed an R2 score of at least 0.75 on the train set as well as on the test set.\n",
        "4. Can predict house prices based on input data from streamlit dashboard. \n",
        "\n",
        "## Inputs\n",
        "\n",
        "1. House_prices_records_clean.csv\n",
        "2. Inherited_houses_clean.csv\n",
        "3. Findings of feature engineering notebook\n",
        "\n",
        "## Outputs\n",
        "\n",
        "1. Data sets for train, validate and test sets.\n",
        "2. Feature engineering pipeline.\n",
        "3. Trained Model.\n",
        "4. Predictions for client house prices and supporting data.\n",
        "\n"
      ]
    },
    {
      "cell_type": "markdown",
      "metadata": {
        "id": "9uWZXH9LwoQg"
      },
      "source": [
        "---"
      ]
    },
    {
      "cell_type": "markdown",
      "metadata": {
        "id": "cqP-UeN-z3i2"
      },
      "source": [
        "# Change working directory"
      ]
    },
    {
      "cell_type": "markdown",
      "metadata": {},
      "source": [
        "* We are assuming you will store the notebooks in a subfolder, therefore when running the notebook in the editor, you will need to change the working directory"
      ]
    },
    {
      "cell_type": "markdown",
      "metadata": {
        "id": "aOGIGS-uz3i2"
      },
      "source": [
        "We need to change the working directory from its current folder to its parent folder\n",
        "* We access the current directory with os.getcwd()"
      ]
    },
    {
      "cell_type": "code",
      "execution_count": 1,
      "metadata": {
        "id": "wZfF_j-Bz3i4",
        "outputId": "66943449-1436-4c3d-85c7-b85f9f78349b"
      },
      "outputs": [
        {
          "data": {
            "text/plain": [
              "'/workspace/Heritage-Housing/jupyter_notebooks'"
            ]
          },
          "execution_count": 1,
          "metadata": {},
          "output_type": "execute_result"
        }
      ],
      "source": [
        "import os\n",
        "current_dir = os.getcwd()\n",
        "current_dir"
      ]
    },
    {
      "cell_type": "markdown",
      "metadata": {
        "id": "9MWW8E7lz3i7"
      },
      "source": [
        "We want to make the parent of the current directory the new current directory\n",
        "* os.path.dirname() gets the parent directory\n",
        "* os.chir() defines the new current directory"
      ]
    },
    {
      "cell_type": "code",
      "execution_count": 2,
      "metadata": {
        "id": "TwHsQRWjz3i9",
        "outputId": "86849db3-cd2f-4cc5-ebb8-2d0caafa1a2c"
      },
      "outputs": [
        {
          "name": "stdout",
          "output_type": "stream",
          "text": [
            "You set a new current directory\n"
          ]
        }
      ],
      "source": [
        "os.chdir(os.path.dirname(current_dir))\n",
        "print(\"You set a new current directory\")"
      ]
    },
    {
      "cell_type": "markdown",
      "metadata": {
        "id": "M_xPk_Ijz3i-"
      },
      "source": [
        "Confirm the new current directory"
      ]
    },
    {
      "cell_type": "code",
      "execution_count": 3,
      "metadata": {
        "id": "vz3S-_kjz3jA",
        "outputId": "00b79ae4-75d0-4a96-d193-ac9ef9847ea2"
      },
      "outputs": [
        {
          "data": {
            "text/plain": [
              "'/workspace/Heritage-Housing'"
            ]
          },
          "execution_count": 3,
          "metadata": {},
          "output_type": "execute_result"
        }
      ],
      "source": [
        "current_dir = os.getcwd()\n",
        "current_dir"
      ]
    },
    {
      "cell_type": "markdown",
      "metadata": {
        "id": "-mavJ8DibrcQ"
      },
      "source": [
        "# Load data"
      ]
    },
    {
      "cell_type": "markdown",
      "metadata": {},
      "source": [
        "Note that we are using the cleaned data sets from the clean data notebook."
      ]
    },
    {
      "cell_type": "code",
      "execution_count": 4,
      "metadata": {},
      "outputs": [],
      "source": [
        "import numpy as np\n",
        "import pandas as pd\n",
        "\n",
        "house_prices_clean_df = pd.read_csv(f\"outputs/datasets/clean_data/House_prices_records_clean.csv\")\n",
        "inherited_houses_clean_df = pd.read_csv(f\"outputs/datasets/clean_data/Inherited_houses_clean.csv\")"
      ]
    },
    {
      "cell_type": "code",
      "execution_count": 5,
      "metadata": {},
      "outputs": [
        {
          "data": {
            "text/html": [
              "<div>\n",
              "<style scoped>\n",
              "    .dataframe tbody tr th:only-of-type {\n",
              "        vertical-align: middle;\n",
              "    }\n",
              "\n",
              "    .dataframe tbody tr th {\n",
              "        vertical-align: top;\n",
              "    }\n",
              "\n",
              "    .dataframe thead th {\n",
              "        text-align: right;\n",
              "    }\n",
              "</style>\n",
              "<table border=\"1\" class=\"dataframe\">\n",
              "  <thead>\n",
              "    <tr style=\"text-align: right;\">\n",
              "      <th></th>\n",
              "      <th>1stFlrSF</th>\n",
              "      <th>2ndFlrSF</th>\n",
              "      <th>BedroomAbvGr</th>\n",
              "      <th>BsmtExposure</th>\n",
              "      <th>BsmtFinSF1</th>\n",
              "      <th>BsmtFinType1</th>\n",
              "      <th>BsmtUnfSF</th>\n",
              "      <th>GarageArea</th>\n",
              "      <th>GarageFinish</th>\n",
              "      <th>GarageYrBlt</th>\n",
              "      <th>...</th>\n",
              "      <th>LotArea</th>\n",
              "      <th>LotFrontage</th>\n",
              "      <th>MasVnrArea</th>\n",
              "      <th>OpenPorchSF</th>\n",
              "      <th>OverallCond</th>\n",
              "      <th>OverallQual</th>\n",
              "      <th>TotalBsmtSF</th>\n",
              "      <th>YearBuilt</th>\n",
              "      <th>YearRemodAdd</th>\n",
              "      <th>SalePrice</th>\n",
              "    </tr>\n",
              "  </thead>\n",
              "  <tbody>\n",
              "    <tr>\n",
              "      <th>0</th>\n",
              "      <td>856</td>\n",
              "      <td>854.0</td>\n",
              "      <td>3.0</td>\n",
              "      <td>No</td>\n",
              "      <td>706</td>\n",
              "      <td>GLQ</td>\n",
              "      <td>150</td>\n",
              "      <td>548</td>\n",
              "      <td>RFn</td>\n",
              "      <td>2003.0</td>\n",
              "      <td>...</td>\n",
              "      <td>8450</td>\n",
              "      <td>65.0</td>\n",
              "      <td>196.0</td>\n",
              "      <td>61</td>\n",
              "      <td>5</td>\n",
              "      <td>7</td>\n",
              "      <td>856</td>\n",
              "      <td>2003</td>\n",
              "      <td>2003</td>\n",
              "      <td>208500</td>\n",
              "    </tr>\n",
              "    <tr>\n",
              "      <th>1</th>\n",
              "      <td>1262</td>\n",
              "      <td>0.0</td>\n",
              "      <td>3.0</td>\n",
              "      <td>Gd</td>\n",
              "      <td>978</td>\n",
              "      <td>ALQ</td>\n",
              "      <td>284</td>\n",
              "      <td>460</td>\n",
              "      <td>RFn</td>\n",
              "      <td>1976.0</td>\n",
              "      <td>...</td>\n",
              "      <td>9600</td>\n",
              "      <td>80.0</td>\n",
              "      <td>0.0</td>\n",
              "      <td>0</td>\n",
              "      <td>8</td>\n",
              "      <td>6</td>\n",
              "      <td>1262</td>\n",
              "      <td>1976</td>\n",
              "      <td>1976</td>\n",
              "      <td>181500</td>\n",
              "    </tr>\n",
              "    <tr>\n",
              "      <th>2</th>\n",
              "      <td>920</td>\n",
              "      <td>866.0</td>\n",
              "      <td>3.0</td>\n",
              "      <td>Mn</td>\n",
              "      <td>486</td>\n",
              "      <td>GLQ</td>\n",
              "      <td>434</td>\n",
              "      <td>608</td>\n",
              "      <td>RFn</td>\n",
              "      <td>2001.0</td>\n",
              "      <td>...</td>\n",
              "      <td>11250</td>\n",
              "      <td>68.0</td>\n",
              "      <td>162.0</td>\n",
              "      <td>42</td>\n",
              "      <td>5</td>\n",
              "      <td>7</td>\n",
              "      <td>920</td>\n",
              "      <td>2001</td>\n",
              "      <td>2002</td>\n",
              "      <td>223500</td>\n",
              "    </tr>\n",
              "    <tr>\n",
              "      <th>3</th>\n",
              "      <td>961</td>\n",
              "      <td>0.0</td>\n",
              "      <td>3.0</td>\n",
              "      <td>No</td>\n",
              "      <td>216</td>\n",
              "      <td>ALQ</td>\n",
              "      <td>540</td>\n",
              "      <td>642</td>\n",
              "      <td>Unf</td>\n",
              "      <td>1998.0</td>\n",
              "      <td>...</td>\n",
              "      <td>9550</td>\n",
              "      <td>60.0</td>\n",
              "      <td>0.0</td>\n",
              "      <td>35</td>\n",
              "      <td>5</td>\n",
              "      <td>7</td>\n",
              "      <td>756</td>\n",
              "      <td>1915</td>\n",
              "      <td>1970</td>\n",
              "      <td>140000</td>\n",
              "    </tr>\n",
              "    <tr>\n",
              "      <th>4</th>\n",
              "      <td>1145</td>\n",
              "      <td>0.0</td>\n",
              "      <td>4.0</td>\n",
              "      <td>Av</td>\n",
              "      <td>655</td>\n",
              "      <td>GLQ</td>\n",
              "      <td>490</td>\n",
              "      <td>836</td>\n",
              "      <td>RFn</td>\n",
              "      <td>2000.0</td>\n",
              "      <td>...</td>\n",
              "      <td>14260</td>\n",
              "      <td>84.0</td>\n",
              "      <td>350.0</td>\n",
              "      <td>84</td>\n",
              "      <td>5</td>\n",
              "      <td>8</td>\n",
              "      <td>1145</td>\n",
              "      <td>2000</td>\n",
              "      <td>2000</td>\n",
              "      <td>250000</td>\n",
              "    </tr>\n",
              "  </tbody>\n",
              "</table>\n",
              "<p>5 rows × 22 columns</p>\n",
              "</div>"
            ],
            "text/plain": [
              "   1stFlrSF  2ndFlrSF  BedroomAbvGr BsmtExposure  BsmtFinSF1 BsmtFinType1  \\\n",
              "0       856     854.0           3.0           No         706          GLQ   \n",
              "1      1262       0.0           3.0           Gd         978          ALQ   \n",
              "2       920     866.0           3.0           Mn         486          GLQ   \n",
              "3       961       0.0           3.0           No         216          ALQ   \n",
              "4      1145       0.0           4.0           Av         655          GLQ   \n",
              "\n",
              "   BsmtUnfSF  GarageArea GarageFinish  GarageYrBlt  ...  LotArea LotFrontage  \\\n",
              "0        150         548          RFn       2003.0  ...     8450        65.0   \n",
              "1        284         460          RFn       1976.0  ...     9600        80.0   \n",
              "2        434         608          RFn       2001.0  ...    11250        68.0   \n",
              "3        540         642          Unf       1998.0  ...     9550        60.0   \n",
              "4        490         836          RFn       2000.0  ...    14260        84.0   \n",
              "\n",
              "   MasVnrArea  OpenPorchSF  OverallCond  OverallQual  TotalBsmtSF  YearBuilt  \\\n",
              "0       196.0           61            5            7          856       2003   \n",
              "1         0.0            0            8            6         1262       1976   \n",
              "2       162.0           42            5            7          920       2001   \n",
              "3         0.0           35            5            7          756       1915   \n",
              "4       350.0           84            5            8         1145       2000   \n",
              "\n",
              "   YearRemodAdd  SalePrice  \n",
              "0          2003     208500  \n",
              "1          1976     181500  \n",
              "2          2002     223500  \n",
              "3          1970     140000  \n",
              "4          2000     250000  \n",
              "\n",
              "[5 rows x 22 columns]"
            ]
          },
          "execution_count": 5,
          "metadata": {},
          "output_type": "execute_result"
        }
      ],
      "source": [
        "house_prices_clean_df.head()"
      ]
    },
    {
      "cell_type": "code",
      "execution_count": 6,
      "metadata": {},
      "outputs": [
        {
          "data": {
            "text/html": [
              "<div>\n",
              "<style scoped>\n",
              "    .dataframe tbody tr th:only-of-type {\n",
              "        vertical-align: middle;\n",
              "    }\n",
              "\n",
              "    .dataframe tbody tr th {\n",
              "        vertical-align: top;\n",
              "    }\n",
              "\n",
              "    .dataframe thead th {\n",
              "        text-align: right;\n",
              "    }\n",
              "</style>\n",
              "<table border=\"1\" class=\"dataframe\">\n",
              "  <thead>\n",
              "    <tr style=\"text-align: right;\">\n",
              "      <th></th>\n",
              "      <th>1stFlrSF</th>\n",
              "      <th>2ndFlrSF</th>\n",
              "      <th>BedroomAbvGr</th>\n",
              "      <th>BsmtExposure</th>\n",
              "      <th>BsmtFinSF1</th>\n",
              "      <th>BsmtFinType1</th>\n",
              "      <th>BsmtUnfSF</th>\n",
              "      <th>GarageArea</th>\n",
              "      <th>GarageFinish</th>\n",
              "      <th>GarageYrBlt</th>\n",
              "      <th>...</th>\n",
              "      <th>KitchenQual</th>\n",
              "      <th>LotArea</th>\n",
              "      <th>LotFrontage</th>\n",
              "      <th>MasVnrArea</th>\n",
              "      <th>OpenPorchSF</th>\n",
              "      <th>OverallCond</th>\n",
              "      <th>OverallQual</th>\n",
              "      <th>TotalBsmtSF</th>\n",
              "      <th>YearBuilt</th>\n",
              "      <th>YearRemodAdd</th>\n",
              "    </tr>\n",
              "  </thead>\n",
              "  <tbody>\n",
              "    <tr>\n",
              "      <th>0</th>\n",
              "      <td>896</td>\n",
              "      <td>0</td>\n",
              "      <td>2</td>\n",
              "      <td>No</td>\n",
              "      <td>468.0</td>\n",
              "      <td>Rec</td>\n",
              "      <td>270.0</td>\n",
              "      <td>730.0</td>\n",
              "      <td>Unf</td>\n",
              "      <td>1961.0</td>\n",
              "      <td>...</td>\n",
              "      <td>TA</td>\n",
              "      <td>11622</td>\n",
              "      <td>80.0</td>\n",
              "      <td>0.0</td>\n",
              "      <td>0</td>\n",
              "      <td>6</td>\n",
              "      <td>5</td>\n",
              "      <td>882.0</td>\n",
              "      <td>1961</td>\n",
              "      <td>1961</td>\n",
              "    </tr>\n",
              "    <tr>\n",
              "      <th>1</th>\n",
              "      <td>1329</td>\n",
              "      <td>0</td>\n",
              "      <td>3</td>\n",
              "      <td>No</td>\n",
              "      <td>923.0</td>\n",
              "      <td>ALQ</td>\n",
              "      <td>406.0</td>\n",
              "      <td>312.0</td>\n",
              "      <td>Unf</td>\n",
              "      <td>1958.0</td>\n",
              "      <td>...</td>\n",
              "      <td>Gd</td>\n",
              "      <td>14267</td>\n",
              "      <td>81.0</td>\n",
              "      <td>108.0</td>\n",
              "      <td>36</td>\n",
              "      <td>6</td>\n",
              "      <td>6</td>\n",
              "      <td>1329.0</td>\n",
              "      <td>1958</td>\n",
              "      <td>1958</td>\n",
              "    </tr>\n",
              "    <tr>\n",
              "      <th>2</th>\n",
              "      <td>928</td>\n",
              "      <td>701</td>\n",
              "      <td>3</td>\n",
              "      <td>No</td>\n",
              "      <td>791.0</td>\n",
              "      <td>GLQ</td>\n",
              "      <td>137.0</td>\n",
              "      <td>482.0</td>\n",
              "      <td>Fin</td>\n",
              "      <td>1997.0</td>\n",
              "      <td>...</td>\n",
              "      <td>TA</td>\n",
              "      <td>13830</td>\n",
              "      <td>74.0</td>\n",
              "      <td>0.0</td>\n",
              "      <td>34</td>\n",
              "      <td>5</td>\n",
              "      <td>5</td>\n",
              "      <td>928.0</td>\n",
              "      <td>1997</td>\n",
              "      <td>1998</td>\n",
              "    </tr>\n",
              "    <tr>\n",
              "      <th>3</th>\n",
              "      <td>926</td>\n",
              "      <td>678</td>\n",
              "      <td>3</td>\n",
              "      <td>No</td>\n",
              "      <td>602.0</td>\n",
              "      <td>GLQ</td>\n",
              "      <td>324.0</td>\n",
              "      <td>470.0</td>\n",
              "      <td>Fin</td>\n",
              "      <td>1998.0</td>\n",
              "      <td>...</td>\n",
              "      <td>Gd</td>\n",
              "      <td>9978</td>\n",
              "      <td>78.0</td>\n",
              "      <td>20.0</td>\n",
              "      <td>36</td>\n",
              "      <td>6</td>\n",
              "      <td>6</td>\n",
              "      <td>926.0</td>\n",
              "      <td>1998</td>\n",
              "      <td>1998</td>\n",
              "    </tr>\n",
              "  </tbody>\n",
              "</table>\n",
              "<p>4 rows × 21 columns</p>\n",
              "</div>"
            ],
            "text/plain": [
              "   1stFlrSF  2ndFlrSF  BedroomAbvGr BsmtExposure  BsmtFinSF1 BsmtFinType1  \\\n",
              "0       896         0             2           No       468.0          Rec   \n",
              "1      1329         0             3           No       923.0          ALQ   \n",
              "2       928       701             3           No       791.0          GLQ   \n",
              "3       926       678             3           No       602.0          GLQ   \n",
              "\n",
              "   BsmtUnfSF  GarageArea GarageFinish  GarageYrBlt  ...  KitchenQual LotArea  \\\n",
              "0      270.0       730.0          Unf       1961.0  ...           TA   11622   \n",
              "1      406.0       312.0          Unf       1958.0  ...           Gd   14267   \n",
              "2      137.0       482.0          Fin       1997.0  ...           TA   13830   \n",
              "3      324.0       470.0          Fin       1998.0  ...           Gd    9978   \n",
              "\n",
              "   LotFrontage  MasVnrArea  OpenPorchSF  OverallCond  OverallQual  \\\n",
              "0         80.0         0.0            0            6            5   \n",
              "1         81.0       108.0           36            6            6   \n",
              "2         74.0         0.0           34            5            5   \n",
              "3         78.0        20.0           36            6            6   \n",
              "\n",
              "   TotalBsmtSF  YearBuilt  YearRemodAdd  \n",
              "0        882.0       1961          1961  \n",
              "1       1329.0       1958          1958  \n",
              "2        928.0       1997          1998  \n",
              "3        926.0       1998          1998  \n",
              "\n",
              "[4 rows x 21 columns]"
            ]
          },
          "execution_count": 6,
          "metadata": {},
          "output_type": "execute_result"
        }
      ],
      "source": [
        "inherited_houses_clean_df.head()"
      ]
    },
    {
      "cell_type": "markdown",
      "metadata": {
        "id": "ZY3l0-AxO93d"
      },
      "source": [
        "---"
      ]
    },
    {
      "cell_type": "markdown",
      "metadata": {
        "id": "uFQo3ycuO-v6"
      },
      "source": [
        "# Split data"
      ]
    },
    {
      "cell_type": "markdown",
      "metadata": {},
      "source": [
        "We need to split our house price data into train, validate and test sets. We will follow the conventional ration of 7:1:2,\n",
        "\n",
        "First we split into train and test sets."
      ]
    },
    {
      "cell_type": "code",
      "execution_count": 7,
      "metadata": {},
      "outputs": [
        {
          "name": "stdout",
          "output_type": "stream",
          "text": [
            "* Train set: (1168, 21) (1168,) \n",
            "* Test set: (292, 21) (292,)\n"
          ]
        }
      ],
      "source": [
        "from sklearn.model_selection import train_test_split\n",
        "\n",
        "X_train, X_test,y_train, y_test = train_test_split(\n",
        "                                    house_prices_clean_df.drop(['SalePrice'],axis=1),\n",
        "                                    house_prices_clean_df['SalePrice'],\n",
        "                                    test_size=0.2,\n",
        "                                    random_state=0\n",
        "                                    )\n",
        "\n",
        "print(\"* Train set:\", X_train.shape, y_train.shape, \"\\n* Test set:\",  X_test.shape, y_test.shape)"
      ]
    },
    {
      "cell_type": "markdown",
      "metadata": {},
      "source": [
        "Then we split the test set again. We set the ratio to 0.2 as we want an overall proportion of 7:1:2."
      ]
    },
    {
      "cell_type": "code",
      "execution_count": 8,
      "metadata": {},
      "outputs": [
        {
          "name": "stdout",
          "output_type": "stream",
          "text": [
            "* Train set: (934, 21) (934,)\n",
            "* Validation set: (234, 21) (234,)\n",
            "* Test set: (292, 21) (292,)\n"
          ]
        }
      ],
      "source": [
        "X_train, X_val,y_train, y_val = train_test_split(\n",
        "                                    X_train,\n",
        "                                    y_train,\n",
        "                                    test_size=0.2,\n",
        "                                    random_state=0\n",
        "                                    )\n",
        "\n",
        "print(\"* Train set:\", X_train.shape, y_train.shape)\n",
        "print(\"* Validation set:\",  X_val.shape, y_val.shape)\n",
        "print(\"* Test set:\",   X_test.shape, y_test.shape)"
      ]
    },
    {
      "cell_type": "markdown",
      "metadata": {},
      "source": [
        "---"
      ]
    },
    {
      "cell_type": "markdown",
      "metadata": {},
      "source": [
        "# Pipeline"
      ]
    },
    {
      "cell_type": "markdown",
      "metadata": {},
      "source": [
        "We apply the feature engineering steps outlined in the notebook"
      ]
    },
    {
      "cell_type": "code",
      "execution_count": 9,
      "metadata": {},
      "outputs": [],
      "source": [
        "from sklearn.pipeline import Pipeline\n",
        "from feature_engine.selection import DropFeatures\n",
        "from feature_engine.encoding import OrdinalEncoder\n",
        "from feature_engine import transformation as vt\n",
        "from feature_engine.outliers import Winsorizer\n",
        "from sklearn.preprocessing import StandardScaler\n",
        "\n",
        "\n",
        "\n",
        "pipeline = Pipeline([\n",
        "    ('drop_features', DropFeatures(features_to_drop = ['1stFlrSF',\n",
        "                                                        '2ndFlrSF',\n",
        "                                                        'GarageArea',\n",
        "                                                        'GarageYrBlt',\n",
        "                                                        'YearBuilt']) ),\n",
        "\n",
        "    (\"OrdinalCategoricalEncoder\",OrdinalEncoder(encoding_method='arbitrary', \n",
        "                                                  variables = ['BsmtExposure',\n",
        "                                                               'BsmtFinType1',\n",
        "                                                               'GarageFinish',\n",
        "                                                               'KitchenQual'] ) ),\n",
        "\n",
        "    ('pt', vt.PowerTransformer(variables = ['BedroomAbvGr',\n",
        "                                            'BsmtFinSF1',\n",
        "                                            'BsmtUnfSF',\n",
        "                                            'GrLivArea',\n",
        "                                            'LotArea',\n",
        "                                            'LotFrontage',\n",
        "                                            'MasVnrArea',\n",
        "                                            'OpenPorchSF',\n",
        "                                            'OverallCond',\n",
        "                                            'OverallQual',\n",
        "                                            'TotalBsmtSF',\n",
        "                                            'YearRemodAdd']) ),\n",
        "\n",
        "    ('winsorizer_iqr', Winsorizer(capping_method='iqr', fold=1.5, tail='both')),\n",
        "    \n",
        "    ( \"feat_scaling\",StandardScaler() )\n",
        "  ])"
      ]
    },
    {
      "cell_type": "markdown",
      "metadata": {},
      "source": [
        "We can then fit our train, validate and test sets with the pipeline."
      ]
    },
    {
      "cell_type": "code",
      "execution_count": 10,
      "metadata": {},
      "outputs": [],
      "source": [
        "X_train = pipeline.fit_transform(X_train)\n",
        "X_val= pipeline.transform(X_val)\n",
        "X_test = pipeline.transform(X_test)"
      ]
    },
    {
      "cell_type": "markdown",
      "metadata": {},
      "source": [
        "---"
      ]
    },
    {
      "cell_type": "markdown",
      "metadata": {},
      "source": [
        "# The Model"
      ]
    },
    {
      "cell_type": "code",
      "execution_count": 11,
      "metadata": {},
      "outputs": [],
      "source": [
        "import os;\n",
        "import tensorflow as tf;\n",
        "os.environ['TF_CPP_MIN_LOG_LEVEL'] = '2';\n",
        "from tensorflow.keras.models import Sequential\n",
        "from tensorflow.keras.layers import Dense, Dropout\n",
        "\n",
        "def create_tf_model(n_features):\n",
        "\n",
        "  model = Sequential()\n",
        "  model.add(Dense(units=n_features, activation='relu', input_shape=(n_features,)))\n",
        "\n",
        "  model.add(Dense(units=8,activation='relu'))\n",
        "  model.add(Dropout(0.25))\n",
        "\n",
        "  model.add(Dense(units=4,activation='relu'))\n",
        "  model.add(Dropout(0.25))\n",
        "\n",
        "  model.add(Dense(units=1))\n",
        "  model.compile(loss='mse', optimizer='adam')\n",
        "  \n",
        "  return model"
      ]
    },
    {
      "cell_type": "code",
      "execution_count": 12,
      "metadata": {},
      "outputs": [
        {
          "name": "stdout",
          "output_type": "stream",
          "text": [
            "Model: \"sequential\"\n",
            "_________________________________________________________________\n",
            "Layer (type)                 Output Shape              Param #   \n",
            "=================================================================\n",
            "dense (Dense)                (None, 16)                272       \n",
            "_________________________________________________________________\n",
            "dense_1 (Dense)              (None, 8)                 136       \n",
            "_________________________________________________________________\n",
            "dropout (Dropout)            (None, 8)                 0         \n",
            "_________________________________________________________________\n",
            "dense_2 (Dense)              (None, 4)                 36        \n",
            "_________________________________________________________________\n",
            "dropout_1 (Dropout)          (None, 4)                 0         \n",
            "_________________________________________________________________\n",
            "dense_3 (Dense)              (None, 1)                 5         \n",
            "=================================================================\n",
            "Total params: 449\n",
            "Trainable params: 449\n",
            "Non-trainable params: 0\n",
            "_________________________________________________________________\n"
          ]
        }
      ],
      "source": [
        "model = create_tf_model(n_features=X_train.shape[1])\n",
        "model.summary()"
      ]
    },
    {
      "cell_type": "code",
      "execution_count": 13,
      "metadata": {},
      "outputs": [],
      "source": [
        "from tensorflow.keras.callbacks import EarlyStopping\n",
        "early_stop = EarlyStopping(monitor='val_loss', mode='min', verbose=1, patience=15)"
      ]
    },
    {
      "cell_type": "code",
      "execution_count": 14,
      "metadata": {},
      "outputs": [
        {
          "name": "stdout",
          "output_type": "stream",
          "text": [
            "Epoch 1/100\n",
            "30/30 [==============================] - 0s 5ms/step - loss: 39276228608.0000 - val_loss: 37143080960.0000\n",
            "Epoch 2/100\n",
            "30/30 [==============================] - 0s 2ms/step - loss: 39276101632.0000 - val_loss: 37142929408.0000\n",
            "Epoch 3/100\n",
            "30/30 [==============================] - 0s 971us/step - loss: 39275835392.0000 - val_loss: 37142478848.0000\n",
            "Epoch 4/100\n",
            "30/30 [==============================] - 0s 2ms/step - loss: 39275290624.0000 - val_loss: 37141762048.0000\n",
            "Epoch 5/100\n",
            "30/30 [==============================] - 0s 885us/step - loss: 39274582016.0000 - val_loss: 37140795392.0000\n",
            "Epoch 6/100\n",
            "30/30 [==============================] - 0s 2ms/step - loss: 39273451520.0000 - val_loss: 37139394560.0000\n",
            "Epoch 7/100\n",
            "30/30 [==============================] - 0s 1ms/step - loss: 39271759872.0000 - val_loss: 37137248256.0000\n",
            "Epoch 8/100\n",
            "30/30 [==============================] - 0s 2ms/step - loss: 39268995072.0000 - val_loss: 37134032896.0000\n",
            "Epoch 9/100\n",
            "30/30 [==============================] - 0s 897us/step - loss: 39265345536.0000 - val_loss: 37129482240.0000\n",
            "Epoch 10/100\n",
            "30/30 [==============================] - 0s 2ms/step - loss: 39259164672.0000 - val_loss: 37122887680.0000\n",
            "Epoch 11/100\n",
            "30/30 [==============================] - 0s 914us/step - loss: 39250190336.0000 - val_loss: 37113028608.0000\n",
            "Epoch 12/100\n",
            "30/30 [==============================] - 0s 2ms/step - loss: 39239991296.0000 - val_loss: 37099282432.0000\n",
            "Epoch 13/100\n",
            "30/30 [==============================] - 0s 950us/step - loss: 39221071872.0000 - val_loss: 37079633920.0000\n",
            "Epoch 14/100\n",
            "30/30 [==============================] - 0s 2ms/step - loss: 39196729344.0000 - val_loss: 37053456384.0000\n",
            "Epoch 15/100\n",
            "30/30 [==============================] - 0s 2ms/step - loss: 39169171456.0000 - val_loss: 37020147712.0000\n",
            "Epoch 16/100\n",
            "30/30 [==============================] - 0s 938us/step - loss: 39128526848.0000 - val_loss: 36978450432.0000\n",
            "Epoch 17/100\n",
            "30/30 [==============================] - 0s 932us/step - loss: 39072505856.0000 - val_loss: 36925349888.0000\n",
            "Epoch 18/100\n",
            "30/30 [==============================] - 0s 2ms/step - loss: 39011016704.0000 - val_loss: 36859125760.0000\n",
            "Epoch 19/100\n",
            "30/30 [==============================] - 0s 947us/step - loss: 38954229760.0000 - val_loss: 36784881664.0000\n",
            "Epoch 20/100\n",
            "30/30 [==============================] - 0s 2ms/step - loss: 38866419712.0000 - val_loss: 36693139456.0000\n",
            "Epoch 21/100\n",
            "30/30 [==============================] - 0s 947us/step - loss: 38752985088.0000 - val_loss: 36584288256.0000\n",
            "Epoch 22/100\n",
            "30/30 [==============================] - 0s 2ms/step - loss: 38644133888.0000 - val_loss: 36455202816.0000\n",
            "Epoch 23/100\n",
            "30/30 [==============================] - 0s 919us/step - loss: 38446858240.0000 - val_loss: 36303806464.0000\n",
            "Epoch 24/100\n",
            "30/30 [==============================] - 0s 2ms/step - loss: 38295031808.0000 - val_loss: 36137811968.0000\n",
            "Epoch 25/100\n",
            "30/30 [==============================] - 0s 940us/step - loss: 38050816000.0000 - val_loss: 35943972864.0000\n",
            "Epoch 26/100\n",
            "30/30 [==============================] - 0s 2ms/step - loss: 37856391168.0000 - val_loss: 35723329536.0000\n",
            "Epoch 27/100\n",
            "30/30 [==============================] - 0s 938us/step - loss: 37615935488.0000 - val_loss: 35486507008.0000\n",
            "Epoch 28/100\n",
            "30/30 [==============================] - 0s 2ms/step - loss: 37409492992.0000 - val_loss: 35228667904.0000\n",
            "Epoch 29/100\n",
            "30/30 [==============================] - 0s 980us/step - loss: 37162704896.0000 - val_loss: 34956345344.0000\n",
            "Epoch 30/100\n",
            "30/30 [==============================] - 0s 2ms/step - loss: 36821569536.0000 - val_loss: 34644029440.0000\n",
            "Epoch 31/100\n",
            "30/30 [==============================] - 0s 906us/step - loss: 36473077760.0000 - val_loss: 34300145664.0000\n",
            "Epoch 32/100\n",
            "30/30 [==============================] - 0s 2ms/step - loss: 35979272192.0000 - val_loss: 33924712448.0000\n",
            "Epoch 33/100\n",
            "30/30 [==============================] - 0s 892us/step - loss: 35708583936.0000 - val_loss: 33519282176.0000\n",
            "Epoch 34/100\n",
            "30/30 [==============================] - 0s 2ms/step - loss: 35438694400.0000 - val_loss: 33097728000.0000\n",
            "Epoch 35/100\n",
            "30/30 [==============================] - 0s 912us/step - loss: 34743894016.0000 - val_loss: 32639270912.0000\n",
            "Epoch 36/100\n",
            "30/30 [==============================] - 0s 2ms/step - loss: 34412658688.0000 - val_loss: 32141006848.0000\n",
            "Epoch 37/100\n",
            "30/30 [==============================] - 0s 911us/step - loss: 34016901120.0000 - val_loss: 31640076288.0000\n",
            "Epoch 38/100\n",
            "30/30 [==============================] - 0s 3ms/step - loss: 33133852672.0000 - val_loss: 31094364160.0000\n",
            "Epoch 39/100\n",
            "30/30 [==============================] - 0s 914us/step - loss: 32413648896.0000 - val_loss: 30488664064.0000\n",
            "Epoch 40/100\n",
            "30/30 [==============================] - 0s 2ms/step - loss: 32328818688.0000 - val_loss: 29902680064.0000\n",
            "Epoch 41/100\n",
            "30/30 [==============================] - 0s 893us/step - loss: 31459758080.0000 - val_loss: 29282027520.0000\n",
            "Epoch 42/100\n",
            "30/30 [==============================] - 0s 2ms/step - loss: 30872995840.0000 - val_loss: 28618827776.0000\n",
            "Epoch 43/100\n",
            "30/30 [==============================] - 0s 887us/step - loss: 29942380544.0000 - val_loss: 27925870592.0000\n",
            "Epoch 44/100\n",
            "30/30 [==============================] - 0s 2ms/step - loss: 29375709184.0000 - val_loss: 27235954688.0000\n",
            "Epoch 45/100\n",
            "30/30 [==============================] - 0s 928us/step - loss: 28143620096.0000 - val_loss: 26492268544.0000\n",
            "Epoch 46/100\n",
            "30/30 [==============================] - 0s 2ms/step - loss: 28156286976.0000 - val_loss: 25739927552.0000\n",
            "Epoch 47/100\n",
            "30/30 [==============================] - 0s 902us/step - loss: 26839533568.0000 - val_loss: 24999333888.0000\n",
            "Epoch 48/100\n",
            "30/30 [==============================] - 0s 2ms/step - loss: 26339325952.0000 - val_loss: 24210434048.0000\n",
            "Epoch 49/100\n",
            "30/30 [==============================] - 0s 894us/step - loss: 25696241664.0000 - val_loss: 23463182336.0000\n",
            "Epoch 50/100\n",
            "30/30 [==============================] - 0s 904us/step - loss: 24857073664.0000 - val_loss: 22676647936.0000\n",
            "Epoch 51/100\n",
            "30/30 [==============================] - 0s 2ms/step - loss: 24251987968.0000 - val_loss: 21895247872.0000\n",
            "Epoch 52/100\n",
            "30/30 [==============================] - 0s 3ms/step - loss: 23474735104.0000 - val_loss: 21124780032.0000\n",
            "Epoch 53/100\n",
            "30/30 [==============================] - 0s 976us/step - loss: 22487732224.0000 - val_loss: 20307412992.0000\n",
            "Epoch 54/100\n",
            "30/30 [==============================] - 0s 2ms/step - loss: 22251196416.0000 - val_loss: 19535409152.0000\n",
            "Epoch 55/100\n",
            "30/30 [==============================] - 0s 916us/step - loss: 21374513152.0000 - val_loss: 18796320768.0000\n",
            "Epoch 56/100\n",
            "30/30 [==============================] - 0s 942us/step - loss: 20424280064.0000 - val_loss: 18032455680.0000\n",
            "Epoch 57/100\n",
            "30/30 [==============================] - 0s 2ms/step - loss: 19991285760.0000 - val_loss: 17314072576.0000\n",
            "Epoch 58/100\n",
            "30/30 [==============================] - 0s 897us/step - loss: 18946813952.0000 - val_loss: 16607097856.0000\n",
            "Epoch 59/100\n",
            "30/30 [==============================] - 0s 2ms/step - loss: 19212703744.0000 - val_loss: 15930483712.0000\n",
            "Epoch 60/100\n",
            "30/30 [==============================] - 0s 991us/step - loss: 17595877376.0000 - val_loss: 15242719232.0000\n",
            "Epoch 61/100\n",
            "30/30 [==============================] - 0s 946us/step - loss: 17175441408.0000 - val_loss: 14601345024.0000\n",
            "Epoch 62/100\n",
            "30/30 [==============================] - 0s 927us/step - loss: 16644092928.0000 - val_loss: 14018319360.0000\n",
            "Epoch 63/100\n",
            "30/30 [==============================] - 0s 2ms/step - loss: 16590480384.0000 - val_loss: 13437765632.0000\n",
            "Epoch 64/100\n",
            "30/30 [==============================] - 0s 972us/step - loss: 15691266048.0000 - val_loss: 12910307328.0000\n",
            "Epoch 65/100\n",
            "30/30 [==============================] - 0s 2ms/step - loss: 15811933184.0000 - val_loss: 12400099328.0000\n",
            "Epoch 66/100\n",
            "30/30 [==============================] - 0s 883us/step - loss: 15523930112.0000 - val_loss: 11914377216.0000\n",
            "Epoch 67/100\n",
            "30/30 [==============================] - 0s 2ms/step - loss: 14529291264.0000 - val_loss: 11460920320.0000\n",
            "Epoch 68/100\n",
            "30/30 [==============================] - 0s 917us/step - loss: 14403665920.0000 - val_loss: 11059449856.0000\n",
            "Epoch 69/100\n",
            "30/30 [==============================] - 0s 2ms/step - loss: 14770420736.0000 - val_loss: 10689017856.0000\n",
            "Epoch 70/100\n",
            "30/30 [==============================] - 0s 893us/step - loss: 14263812096.0000 - val_loss: 10337343488.0000\n",
            "Epoch 71/100\n",
            "30/30 [==============================] - 0s 2ms/step - loss: 13796061184.0000 - val_loss: 10083600384.0000\n",
            "Epoch 72/100\n",
            "30/30 [==============================] - 0s 935us/step - loss: 13314442240.0000 - val_loss: 9783676928.0000\n",
            "Epoch 73/100\n",
            "30/30 [==============================] - 0s 2ms/step - loss: 13858625536.0000 - val_loss: 9491806208.0000\n",
            "Epoch 74/100\n",
            "30/30 [==============================] - 0s 971us/step - loss: 14319235072.0000 - val_loss: 9241179136.0000\n",
            "Epoch 75/100\n",
            "30/30 [==============================] - 0s 2ms/step - loss: 13886576640.0000 - val_loss: 9065569280.0000\n",
            "Epoch 76/100\n",
            "30/30 [==============================] - 0s 884us/step - loss: 13009034240.0000 - val_loss: 8787579904.0000\n",
            "Epoch 77/100\n",
            "30/30 [==============================] - 0s 2ms/step - loss: 13151122432.0000 - val_loss: 8588860928.0000\n",
            "Epoch 78/100\n",
            "30/30 [==============================] - 0s 955us/step - loss: 12720142336.0000 - val_loss: 8418248192.0000\n",
            "Epoch 79/100\n",
            "30/30 [==============================] - 0s 3ms/step - loss: 12756983808.0000 - val_loss: 8268340224.0000\n",
            "Epoch 80/100\n",
            "30/30 [==============================] - 0s 950us/step - loss: 12621115392.0000 - val_loss: 8169433600.0000\n",
            "Epoch 81/100\n",
            "30/30 [==============================] - 0s 972us/step - loss: 12446201856.0000 - val_loss: 8016296960.0000\n",
            "Epoch 82/100\n",
            "30/30 [==============================] - 0s 941us/step - loss: 12674778112.0000 - val_loss: 7811394048.0000\n",
            "Epoch 83/100\n",
            "30/30 [==============================] - 0s 2ms/step - loss: 12908603392.0000 - val_loss: 7729630208.0000\n",
            "Epoch 84/100\n",
            "30/30 [==============================] - 0s 911us/step - loss: 13503260672.0000 - val_loss: 7617552896.0000\n",
            "Epoch 85/100\n",
            "30/30 [==============================] - 0s 2ms/step - loss: 13319690240.0000 - val_loss: 7521869312.0000\n",
            "Epoch 86/100\n",
            "30/30 [==============================] - 0s 913us/step - loss: 11940973568.0000 - val_loss: 7367817728.0000\n",
            "Epoch 87/100\n",
            "30/30 [==============================] - 0s 2ms/step - loss: 12414533632.0000 - val_loss: 7279122944.0000\n",
            "Epoch 88/100\n",
            "30/30 [==============================] - 0s 918us/step - loss: 11776121856.0000 - val_loss: 7192296960.0000\n",
            "Epoch 89/100\n",
            "30/30 [==============================] - 0s 2ms/step - loss: 12285721600.0000 - val_loss: 7070578688.0000\n",
            "Epoch 90/100\n",
            "30/30 [==============================] - 0s 3ms/step - loss: 12310776832.0000 - val_loss: 6995034624.0000\n",
            "Epoch 91/100\n",
            "30/30 [==============================] - 0s 937us/step - loss: 11475545088.0000 - val_loss: 6894750720.0000\n",
            "Epoch 92/100\n",
            "30/30 [==============================] - 0s 2ms/step - loss: 11568683008.0000 - val_loss: 6780609536.0000\n",
            "Epoch 93/100\n",
            "30/30 [==============================] - 0s 942us/step - loss: 11599724544.0000 - val_loss: 6698556416.0000\n",
            "Epoch 94/100\n",
            "30/30 [==============================] - 0s 2ms/step - loss: 12553398272.0000 - val_loss: 6627952128.0000\n",
            "Epoch 95/100\n",
            "30/30 [==============================] - 0s 890us/step - loss: 13003929600.0000 - val_loss: 6627109888.0000\n",
            "Epoch 96/100\n",
            "30/30 [==============================] - 0s 2ms/step - loss: 11981422592.0000 - val_loss: 6509827072.0000\n",
            "Epoch 97/100\n",
            "30/30 [==============================] - 0s 911us/step - loss: 12365528064.0000 - val_loss: 6464874496.0000\n",
            "Epoch 98/100\n",
            "30/30 [==============================] - 0s 2ms/step - loss: 12330470400.0000 - val_loss: 6432070656.0000\n",
            "Epoch 99/100\n",
            "30/30 [==============================] - 0s 974us/step - loss: 11915199488.0000 - val_loss: 6381816320.0000\n",
            "Epoch 100/100\n",
            "30/30 [==============================] - 0s 908us/step - loss: 11331732480.0000 - val_loss: 6364904448.0000\n"
          ]
        },
        {
          "data": {
            "text/plain": [
              "<keras.callbacks.History at 0x7ff3990ab430>"
            ]
          },
          "execution_count": 14,
          "metadata": {},
          "output_type": "execute_result"
        }
      ],
      "source": [
        "model = create_tf_model(n_features=X_train.shape[1])\n",
        "\n",
        "model.fit(x=X_train, \n",
        "          y=y_train, \n",
        "          epochs=100,\n",
        "          validation_data=(X_val, y_val),\n",
        "          verbose=1,\n",
        "          callbacks=[early_stop]\n",
        "          )"
      ]
    },
    {
      "cell_type": "markdown",
      "metadata": {},
      "source": [
        "---"
      ]
    },
    {
      "cell_type": "markdown",
      "metadata": {},
      "source": [
        "# Evaluation"
      ]
    },
    {
      "cell_type": "code",
      "execution_count": 15,
      "metadata": {},
      "outputs": [
        {
          "data": {
            "text/html": [
              "<div>\n",
              "<style scoped>\n",
              "    .dataframe tbody tr th:only-of-type {\n",
              "        vertical-align: middle;\n",
              "    }\n",
              "\n",
              "    .dataframe tbody tr th {\n",
              "        vertical-align: top;\n",
              "    }\n",
              "\n",
              "    .dataframe thead th {\n",
              "        text-align: right;\n",
              "    }\n",
              "</style>\n",
              "<table border=\"1\" class=\"dataframe\">\n",
              "  <thead>\n",
              "    <tr style=\"text-align: right;\">\n",
              "      <th></th>\n",
              "      <th>loss</th>\n",
              "      <th>val_loss</th>\n",
              "    </tr>\n",
              "  </thead>\n",
              "  <tbody>\n",
              "    <tr>\n",
              "      <th>0</th>\n",
              "      <td>3.927623e+10</td>\n",
              "      <td>3.714308e+10</td>\n",
              "    </tr>\n",
              "    <tr>\n",
              "      <th>1</th>\n",
              "      <td>3.927610e+10</td>\n",
              "      <td>3.714293e+10</td>\n",
              "    </tr>\n",
              "    <tr>\n",
              "      <th>2</th>\n",
              "      <td>3.927584e+10</td>\n",
              "      <td>3.714248e+10</td>\n",
              "    </tr>\n",
              "    <tr>\n",
              "      <th>3</th>\n",
              "      <td>3.927529e+10</td>\n",
              "      <td>3.714176e+10</td>\n",
              "    </tr>\n",
              "    <tr>\n",
              "      <th>4</th>\n",
              "      <td>3.927458e+10</td>\n",
              "      <td>3.714080e+10</td>\n",
              "    </tr>\n",
              "    <tr>\n",
              "      <th>...</th>\n",
              "      <td>...</td>\n",
              "      <td>...</td>\n",
              "    </tr>\n",
              "    <tr>\n",
              "      <th>95</th>\n",
              "      <td>1.198142e+10</td>\n",
              "      <td>6.509827e+09</td>\n",
              "    </tr>\n",
              "    <tr>\n",
              "      <th>96</th>\n",
              "      <td>1.236553e+10</td>\n",
              "      <td>6.464874e+09</td>\n",
              "    </tr>\n",
              "    <tr>\n",
              "      <th>97</th>\n",
              "      <td>1.233047e+10</td>\n",
              "      <td>6.432071e+09</td>\n",
              "    </tr>\n",
              "    <tr>\n",
              "      <th>98</th>\n",
              "      <td>1.191520e+10</td>\n",
              "      <td>6.381816e+09</td>\n",
              "    </tr>\n",
              "    <tr>\n",
              "      <th>99</th>\n",
              "      <td>1.133173e+10</td>\n",
              "      <td>6.364904e+09</td>\n",
              "    </tr>\n",
              "  </tbody>\n",
              "</table>\n",
              "<p>100 rows × 2 columns</p>\n",
              "</div>"
            ],
            "text/plain": [
              "            loss      val_loss\n",
              "0   3.927623e+10  3.714308e+10\n",
              "1   3.927610e+10  3.714293e+10\n",
              "2   3.927584e+10  3.714248e+10\n",
              "3   3.927529e+10  3.714176e+10\n",
              "4   3.927458e+10  3.714080e+10\n",
              "..           ...           ...\n",
              "95  1.198142e+10  6.509827e+09\n",
              "96  1.236553e+10  6.464874e+09\n",
              "97  1.233047e+10  6.432071e+09\n",
              "98  1.191520e+10  6.381816e+09\n",
              "99  1.133173e+10  6.364904e+09\n",
              "\n",
              "[100 rows x 2 columns]"
            ]
          },
          "execution_count": 15,
          "metadata": {},
          "output_type": "execute_result"
        }
      ],
      "source": [
        "losses = pd.DataFrame(model.history.history)\n",
        "losses"
      ]
    },
    {
      "cell_type": "code",
      "execution_count": 17,
      "metadata": {},
      "outputs": [
        {
          "data": {
            "image/png": "[encoded data removed]",
            "text/plain": [
              "<Figure size 640x480 with 1 Axes>"
            ]
          },
          "metadata": {},
          "output_type": "display_data"
        }
      ],
      "source": [
        "import matplotlib.pyplot as plt\n",
        "import seaborn as sns\n",
        "\n",
        "losses = pd.DataFrame(model.history.history)\n",
        "\n",
        "sns.set_style(\"whitegrid\")\n",
        "losses[['loss','val_loss']].plot(style='.-')\n",
        "plt.title(\"Loss\")\n",
        "plt.show()"
      ]
    },
    {
      "cell_type": "code",
      "execution_count": 18,
      "metadata": {},
      "outputs": [
        {
          "name": "stdout",
          "output_type": "stream",
          "text": [
            "10/10 [==============================] - 0s 501us/step - loss: 7387159552.0000\n"
          ]
        },
        {
          "data": {
            "text/plain": [
              "7387159552.0"
            ]
          },
          "execution_count": 18,
          "metadata": {},
          "output_type": "execute_result"
        }
      ],
      "source": [
        "model.evaluate(X_test,y_test)"
      ]
    },
    {
      "cell_type": "code",
      "execution_count": 19,
      "metadata": {},
      "outputs": [],
      "source": [
        "from sklearn.metrics import r2_score, mean_squared_error, mean_absolute_error \n",
        "import numpy as np\n",
        "\n",
        "def regression_performance(X_train, y_train,\n",
        "                           X_val, y_val,\n",
        "                           X_test, y_test,pipeline):\n",
        "\n",
        "  print(\"Model Evaluation \\n\")\n",
        "  print(\"* Train Set\")\n",
        "  regression_evaluation(X_train,y_train,pipeline)\n",
        "  print(\"* Validation Set\")\n",
        "  regression_evaluation(X_val, y_val,pipeline)\n",
        "  print(\"* Test Set\")\n",
        "  regression_evaluation(X_test,y_test,pipeline)\n",
        "\n",
        "\n",
        "\n",
        "def regression_evaluation(X,y,pipeline):\n",
        "  \"\"\"\n",
        "  # Gets features and target (either from train or test set) and pipeline\n",
        "  - it predicts using the pipeline and the features\n",
        "  - calculates performance metrics comparing the prediction to the target\n",
        "  \"\"\"\n",
        "  prediction = pipeline.predict(X)\n",
        "  print('R2 Score:', r2_score(y, prediction).round(3))  \n",
        "  print('Mean Absolute Error:', mean_absolute_error(y, prediction).round(3))  \n",
        "  print('Mean Squared Error:', mean_squared_error(y, prediction).round(3))  \n",
        "  print('Root Mean Squared Error:', np.sqrt(mean_squared_error(y, prediction)).round(3))\n",
        "  print(\"\\n\")\n",
        "\n",
        "  \n",
        "\n",
        "def regression_evaluation_plots(X_train, y_train,\n",
        "                                X_val, y_val,\n",
        "                                X_test, y_test,\n",
        "                                pipeline, alpha_scatter=0.5):\n",
        "\n",
        "  pred_train = pipeline.predict(X_train).reshape(-1) \n",
        "  # we reshape the prediction arrays to be in the format (n_rows,), so we can plot it after\n",
        "  pred_val = pipeline.predict(X_val).reshape(-1)\n",
        "  pred_test = pipeline.predict(X_test).reshape(-1)\n",
        "\n",
        "  fig, axes = plt.subplots(nrows=1, ncols=3, figsize=(15,6))\n",
        "  sns.scatterplot(x=y_train , y=pred_train, alpha=alpha_scatter, ax=axes[0])\n",
        "  sns.lineplot(x=y_train , y=y_train, color='red', ax=axes[0])\n",
        "  axes[0].set_xlabel(\"Actual\")\n",
        "  axes[0].set_ylabel(\"Predictions\")\n",
        "  axes[0].set_title(\"Train Set\")\n",
        "\n",
        "  sns.scatterplot(x=y_val , y=pred_val, alpha=alpha_scatter, ax=axes[1])\n",
        "  sns.lineplot(x=y_val , y=y_val, color='red', ax=axes[1])\n",
        "  axes[1].set_xlabel(\"Actual\")\n",
        "  axes[1].set_ylabel(\"Predictions\")\n",
        "  axes[1].set_title(\"Validation Set\")\n",
        "\n",
        "  sns.scatterplot(x=y_test , y=pred_test, alpha=alpha_scatter, ax=axes[2])\n",
        "  sns.lineplot(x=y_test , y=y_test, color='red', ax=axes[2])\n",
        "  axes[2].set_xlabel(\"Actual\")\n",
        "  axes[2].set_ylabel(\"Predictions\")\n",
        "  axes[2].set_title(\"Test Set\")\n",
        "\n",
        "  plt.show()"
      ]
    },
    {
      "cell_type": "code",
      "execution_count": 20,
      "metadata": {},
      "outputs": [
        {
          "name": "stdout",
          "output_type": "stream",
          "text": [
            "Model Evaluation \n",
            "\n",
            "* Train Set\n",
            "R2 Score: -0.086\n",
            "Mean Absolute Error: 69965.277\n",
            "Mean Squared Error: 6862837223.786\n",
            "Root Mean Squared Error: 82842.243\n",
            "\n",
            "\n",
            "* Validation Set\n",
            "R2 Score: -0.16\n",
            "Mean Absolute Error: 67090.981\n",
            "Mean Squared Error: 6364904165.02\n",
            "Root Mean Squared Error: 79780.349\n",
            "\n",
            "\n",
            "* Test Set\n",
            "R2 Score: -0.07\n",
            "Mean Absolute Error: 69824.564\n",
            "Mean Squared Error: 7387159375.072\n",
            "Root Mean Squared Error: 85948.586\n",
            "\n",
            "\n"
          ]
        },
        {
          "data": {
            "image/png": "[encoded data removed]",
            "text/plain": [
              "<Figure size 1500x600 with 3 Axes>"
            ]
          },
          "metadata": {},
          "output_type": "display_data"
        }
      ],
      "source": [
        "regression_performance(X_train, y_train,X_val, y_val, X_test, y_test,model)\n",
        "regression_evaluation_plots(X_train, y_train, X_val, y_val,X_test, y_test, \n",
        "                            model, alpha_scatter=0.5)"
      ]
    },
    {
      "cell_type": "markdown",
      "metadata": {},
      "source": [
        "---"
      ]
    },
    {
      "cell_type": "markdown",
      "metadata": {},
      "source": [
        "# Predict house prices"
      ]
    },
    {
      "cell_type": "markdown",
      "metadata": {
        "id": "ltNetd085qHf"
      },
      "source": [
        "# Push files to Repo"
      ]
    },
    {
      "cell_type": "markdown",
      "metadata": {},
      "source": [
        "* If you do not need to push files to Repo, you may replace this section with \"Conclusions and Next Steps\" and state your conclusions and next steps."
      ]
    },
    {
      "cell_type": "code",
      "execution_count": null,
      "metadata": {
        "id": "aKlnIozA4eQO",
        "outputId": "fd09bc1f-adb1-4511-f6ce-492a6af570c0"
      },
      "outputs": [],
      "source": [
        "import os\n",
        "try:\n",
        "  # create here your folder\n",
        "  # os.makedirs(name='')\n",
        "except Exception as e:\n",
        "  print(e)\n"
      ]
    }
  ],
  "metadata": {
    "accelerator": "GPU",
    "colab": {
      "name": "Data Practitioner Jupyter Notebook.ipynb",
      "provenance": [],
      "toc_visible": true
    },
    "interpreter": {
      "hash": "8b8334dab9339717f727a1deaf837b322d7a41c20d15cc86be99a8e69ceec8ce"
    },
    "kernelspec": {
      "display_name": "Python 3.8.12 64-bit ('3.8.12': pyenv)",
      "name": "python3"
    },
    "language_info": {
      "codemirror_mode": {
        "name": "ipython",
        "version": 3
      },
      "file_extension": ".py",
      "mimetype": "text/x-python",
      "name": "python",
      "nbconvert_exporter": "python",
      "pygments_lexer": "ipython3",
      "version": "3.8.18"
    },
    "orig_nbformat": 2
  },
  "nbformat": 4,
  "nbformat_minor": 2
}
