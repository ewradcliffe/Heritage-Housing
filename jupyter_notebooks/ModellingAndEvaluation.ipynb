{
  "cells": [
    {
      "cell_type": "markdown",
      "metadata": {
        "id": "0aStgWSO0E0E"
      },
      "source": [
        "# **Modelling and Evaluation: Regression**"
      ]
    },
    {
      "cell_type": "markdown",
      "metadata": {
        "id": "1eLEkw5O0ECa"
      },
      "source": [
        "## Objectives\n",
        "\n",
        "1. Fit and evaluate a regression model which will predict house prices.\n",
        "2. Answers business criteria 2. Predict prices for client house data.\n",
        "3. We have agreed an R2 score of at least 0.75 on the train set as well as on the test set.\n",
        "4. Can predict house prices based on input data from streamlit dashboard. \n",
        "\n",
        "## Inputs\n",
        "\n",
        "1. House_prices_records_clean.csv\n",
        "2. Inherited_houses_clean.csv\n",
        "3. Findings of feature engineering notebook\n",
        "\n",
        "## Outputs\n",
        "\n",
        "1. Data sets for train, validate and test sets.\n",
        "2. Feature engineering pipeline.\n",
        "3. Trained Model.\n",
        "4. Predictions for client house prices and supporting data.\n",
        "\n",
        "Please note that all code in this notebook is taken from The Code institute Data Analysis & Machine Learning Toolkit [Data Analysis & Machine Learning Toolkit](https://learn.codeinstitute.net/courses/course-v1:code_institute+CI_DA_ML+2021_Q4/courseware/1f851533cd6a4dcd8a280fd9f37ef4e2/81c19e89e4e94690bd58f738cb7eae91/) lesson.\n"
      ]
    },
    {
      "cell_type": "markdown",
      "metadata": {
        "id": "9uWZXH9LwoQg"
      },
      "source": [
        "---"
      ]
    },
    {
      "cell_type": "markdown",
      "metadata": {
        "id": "cqP-UeN-z3i2"
      },
      "source": [
        "# Change working directory"
      ]
    },
    {
      "cell_type": "markdown",
      "metadata": {},
      "source": [
        "* We are assuming you will store the notebooks in a subfolder, therefore when running the notebook in the editor, you will need to change the working directory"
      ]
    },
    {
      "cell_type": "markdown",
      "metadata": {
        "id": "aOGIGS-uz3i2"
      },
      "source": [
        "We need to change the working directory from its current folder to its parent folder\n",
        "* We access the current directory with os.getcwd()"
      ]
    },
    {
      "cell_type": "code",
      "execution_count": 1,
      "metadata": {
        "id": "wZfF_j-Bz3i4",
        "outputId": "66943449-1436-4c3d-85c7-b85f9f78349b"
      },
      "outputs": [
        {
          "data": {
            "text/plain": [
              "'/workspace/Heritage-Housing/jupyter_notebooks'"
            ]
          },
          "execution_count": 1,
          "metadata": {},
          "output_type": "execute_result"
        }
      ],
      "source": [
        "import os\n",
        "current_dir = os.getcwd()\n",
        "current_dir"
      ]
    },
    {
      "cell_type": "markdown",
      "metadata": {
        "id": "9MWW8E7lz3i7"
      },
      "source": [
        "We want to make the parent of the current directory the new current directory\n",
        "* os.path.dirname() gets the parent directory\n",
        "* os.chir() defines the new current directory"
      ]
    },
    {
      "cell_type": "code",
      "execution_count": 2,
      "metadata": {
        "id": "TwHsQRWjz3i9",
        "outputId": "86849db3-cd2f-4cc5-ebb8-2d0caafa1a2c"
      },
      "outputs": [
        {
          "name": "stdout",
          "output_type": "stream",
          "text": [
            "You set a new current directory\n"
          ]
        }
      ],
      "source": [
        "os.chdir(os.path.dirname(current_dir))\n",
        "print(\"You set a new current directory\")"
      ]
    },
    {
      "cell_type": "markdown",
      "metadata": {
        "id": "M_xPk_Ijz3i-"
      },
      "source": [
        "Confirm the new current directory"
      ]
    },
    {
      "cell_type": "code",
      "execution_count": 3,
      "metadata": {
        "id": "vz3S-_kjz3jA",
        "outputId": "00b79ae4-75d0-4a96-d193-ac9ef9847ea2"
      },
      "outputs": [
        {
          "data": {
            "text/plain": [
              "'/workspace/Heritage-Housing'"
            ]
          },
          "execution_count": 3,
          "metadata": {},
          "output_type": "execute_result"
        }
      ],
      "source": [
        "current_dir = os.getcwd()\n",
        "current_dir"
      ]
    },
    {
      "cell_type": "markdown",
      "metadata": {
        "id": "-mavJ8DibrcQ"
      },
      "source": [
        "# Load data"
      ]
    },
    {
      "cell_type": "markdown",
      "metadata": {},
      "source": [
        "Note that we are using the cleaned data sets from the clean data notebook."
      ]
    },
    {
      "cell_type": "code",
      "execution_count": 4,
      "metadata": {},
      "outputs": [],
      "source": [
        "import numpy as np\n",
        "import pandas as pd\n",
        "\n",
        "house_prices_clean_df = pd.read_csv(f\"outputs/datasets/clean_data/House_prices_records_clean.csv\")\n",
        "inherited_houses_clean_df = pd.read_csv(f\"outputs/datasets/clean_data/Inherited_houses_clean.csv\")"
      ]
    },
    {
      "cell_type": "code",
      "execution_count": 5,
      "metadata": {},
      "outputs": [
        {
          "data": {
            "text/html": [
              "<div>\n",
              "<style scoped>\n",
              "    .dataframe tbody tr th:only-of-type {\n",
              "        vertical-align: middle;\n",
              "    }\n",
              "\n",
              "    .dataframe tbody tr th {\n",
              "        vertical-align: top;\n",
              "    }\n",
              "\n",
              "    .dataframe thead th {\n",
              "        text-align: right;\n",
              "    }\n",
              "</style>\n",
              "<table border=\"1\" class=\"dataframe\">\n",
              "  <thead>\n",
              "    <tr style=\"text-align: right;\">\n",
              "      <th></th>\n",
              "      <th>1stFlrSF</th>\n",
              "      <th>2ndFlrSF</th>\n",
              "      <th>BedroomAbvGr</th>\n",
              "      <th>BsmtExposure</th>\n",
              "      <th>BsmtFinSF1</th>\n",
              "      <th>BsmtFinType1</th>\n",
              "      <th>BsmtUnfSF</th>\n",
              "      <th>GarageArea</th>\n",
              "      <th>GarageFinish</th>\n",
              "      <th>GarageYrBlt</th>\n",
              "      <th>...</th>\n",
              "      <th>LotArea</th>\n",
              "      <th>LotFrontage</th>\n",
              "      <th>MasVnrArea</th>\n",
              "      <th>OpenPorchSF</th>\n",
              "      <th>OverallCond</th>\n",
              "      <th>OverallQual</th>\n",
              "      <th>TotalBsmtSF</th>\n",
              "      <th>YearBuilt</th>\n",
              "      <th>YearRemodAdd</th>\n",
              "      <th>SalePrice</th>\n",
              "    </tr>\n",
              "  </thead>\n",
              "  <tbody>\n",
              "    <tr>\n",
              "      <th>0</th>\n",
              "      <td>856</td>\n",
              "      <td>854.0</td>\n",
              "      <td>3.0</td>\n",
              "      <td>No</td>\n",
              "      <td>706</td>\n",
              "      <td>GLQ</td>\n",
              "      <td>150</td>\n",
              "      <td>548</td>\n",
              "      <td>RFn</td>\n",
              "      <td>2003.0</td>\n",
              "      <td>...</td>\n",
              "      <td>8450</td>\n",
              "      <td>65.0</td>\n",
              "      <td>196.0</td>\n",
              "      <td>61</td>\n",
              "      <td>5</td>\n",
              "      <td>7</td>\n",
              "      <td>856</td>\n",
              "      <td>2003</td>\n",
              "      <td>2003</td>\n",
              "      <td>208500</td>\n",
              "    </tr>\n",
              "    <tr>\n",
              "      <th>1</th>\n",
              "      <td>1262</td>\n",
              "      <td>0.0</td>\n",
              "      <td>3.0</td>\n",
              "      <td>Gd</td>\n",
              "      <td>978</td>\n",
              "      <td>ALQ</td>\n",
              "      <td>284</td>\n",
              "      <td>460</td>\n",
              "      <td>RFn</td>\n",
              "      <td>1976.0</td>\n",
              "      <td>...</td>\n",
              "      <td>9600</td>\n",
              "      <td>80.0</td>\n",
              "      <td>0.0</td>\n",
              "      <td>0</td>\n",
              "      <td>8</td>\n",
              "      <td>6</td>\n",
              "      <td>1262</td>\n",
              "      <td>1976</td>\n",
              "      <td>1976</td>\n",
              "      <td>181500</td>\n",
              "    </tr>\n",
              "    <tr>\n",
              "      <th>2</th>\n",
              "      <td>920</td>\n",
              "      <td>866.0</td>\n",
              "      <td>3.0</td>\n",
              "      <td>Mn</td>\n",
              "      <td>486</td>\n",
              "      <td>GLQ</td>\n",
              "      <td>434</td>\n",
              "      <td>608</td>\n",
              "      <td>RFn</td>\n",
              "      <td>2001.0</td>\n",
              "      <td>...</td>\n",
              "      <td>11250</td>\n",
              "      <td>68.0</td>\n",
              "      <td>162.0</td>\n",
              "      <td>42</td>\n",
              "      <td>5</td>\n",
              "      <td>7</td>\n",
              "      <td>920</td>\n",
              "      <td>2001</td>\n",
              "      <td>2002</td>\n",
              "      <td>223500</td>\n",
              "    </tr>\n",
              "    <tr>\n",
              "      <th>3</th>\n",
              "      <td>961</td>\n",
              "      <td>0.0</td>\n",
              "      <td>3.0</td>\n",
              "      <td>No</td>\n",
              "      <td>216</td>\n",
              "      <td>ALQ</td>\n",
              "      <td>540</td>\n",
              "      <td>642</td>\n",
              "      <td>Unf</td>\n",
              "      <td>1998.0</td>\n",
              "      <td>...</td>\n",
              "      <td>9550</td>\n",
              "      <td>60.0</td>\n",
              "      <td>0.0</td>\n",
              "      <td>35</td>\n",
              "      <td>5</td>\n",
              "      <td>7</td>\n",
              "      <td>756</td>\n",
              "      <td>1915</td>\n",
              "      <td>1970</td>\n",
              "      <td>140000</td>\n",
              "    </tr>\n",
              "    <tr>\n",
              "      <th>4</th>\n",
              "      <td>1145</td>\n",
              "      <td>0.0</td>\n",
              "      <td>4.0</td>\n",
              "      <td>Av</td>\n",
              "      <td>655</td>\n",
              "      <td>GLQ</td>\n",
              "      <td>490</td>\n",
              "      <td>836</td>\n",
              "      <td>RFn</td>\n",
              "      <td>2000.0</td>\n",
              "      <td>...</td>\n",
              "      <td>14260</td>\n",
              "      <td>84.0</td>\n",
              "      <td>350.0</td>\n",
              "      <td>84</td>\n",
              "      <td>5</td>\n",
              "      <td>8</td>\n",
              "      <td>1145</td>\n",
              "      <td>2000</td>\n",
              "      <td>2000</td>\n",
              "      <td>250000</td>\n",
              "    </tr>\n",
              "  </tbody>\n",
              "</table>\n",
              "<p>5 rows × 22 columns</p>\n",
              "</div>"
            ],
            "text/plain": [
              "   1stFlrSF  2ndFlrSF  BedroomAbvGr BsmtExposure  BsmtFinSF1 BsmtFinType1  \\\n",
              "0       856     854.0           3.0           No         706          GLQ   \n",
              "1      1262       0.0           3.0           Gd         978          ALQ   \n",
              "2       920     866.0           3.0           Mn         486          GLQ   \n",
              "3       961       0.0           3.0           No         216          ALQ   \n",
              "4      1145       0.0           4.0           Av         655          GLQ   \n",
              "\n",
              "   BsmtUnfSF  GarageArea GarageFinish  GarageYrBlt  ...  LotArea LotFrontage  \\\n",
              "0        150         548          RFn       2003.0  ...     8450        65.0   \n",
              "1        284         460          RFn       1976.0  ...     9600        80.0   \n",
              "2        434         608          RFn       2001.0  ...    11250        68.0   \n",
              "3        540         642          Unf       1998.0  ...     9550        60.0   \n",
              "4        490         836          RFn       2000.0  ...    14260        84.0   \n",
              "\n",
              "   MasVnrArea  OpenPorchSF  OverallCond  OverallQual  TotalBsmtSF  YearBuilt  \\\n",
              "0       196.0           61            5            7          856       2003   \n",
              "1         0.0            0            8            6         1262       1976   \n",
              "2       162.0           42            5            7          920       2001   \n",
              "3         0.0           35            5            7          756       1915   \n",
              "4       350.0           84            5            8         1145       2000   \n",
              "\n",
              "   YearRemodAdd  SalePrice  \n",
              "0          2003     208500  \n",
              "1          1976     181500  \n",
              "2          2002     223500  \n",
              "3          1970     140000  \n",
              "4          2000     250000  \n",
              "\n",
              "[5 rows x 22 columns]"
            ]
          },
          "execution_count": 5,
          "metadata": {},
          "output_type": "execute_result"
        }
      ],
      "source": [
        "house_prices_clean_df.head()"
      ]
    },
    {
      "cell_type": "code",
      "execution_count": 6,
      "metadata": {},
      "outputs": [
        {
          "data": {
            "text/html": [
              "<div>\n",
              "<style scoped>\n",
              "    .dataframe tbody tr th:only-of-type {\n",
              "        vertical-align: middle;\n",
              "    }\n",
              "\n",
              "    .dataframe tbody tr th {\n",
              "        vertical-align: top;\n",
              "    }\n",
              "\n",
              "    .dataframe thead th {\n",
              "        text-align: right;\n",
              "    }\n",
              "</style>\n",
              "<table border=\"1\" class=\"dataframe\">\n",
              "  <thead>\n",
              "    <tr style=\"text-align: right;\">\n",
              "      <th></th>\n",
              "      <th>1stFlrSF</th>\n",
              "      <th>2ndFlrSF</th>\n",
              "      <th>BedroomAbvGr</th>\n",
              "      <th>BsmtExposure</th>\n",
              "      <th>BsmtFinSF1</th>\n",
              "      <th>BsmtFinType1</th>\n",
              "      <th>BsmtUnfSF</th>\n",
              "      <th>GarageArea</th>\n",
              "      <th>GarageFinish</th>\n",
              "      <th>GarageYrBlt</th>\n",
              "      <th>...</th>\n",
              "      <th>KitchenQual</th>\n",
              "      <th>LotArea</th>\n",
              "      <th>LotFrontage</th>\n",
              "      <th>MasVnrArea</th>\n",
              "      <th>OpenPorchSF</th>\n",
              "      <th>OverallCond</th>\n",
              "      <th>OverallQual</th>\n",
              "      <th>TotalBsmtSF</th>\n",
              "      <th>YearBuilt</th>\n",
              "      <th>YearRemodAdd</th>\n",
              "    </tr>\n",
              "  </thead>\n",
              "  <tbody>\n",
              "    <tr>\n",
              "      <th>0</th>\n",
              "      <td>896</td>\n",
              "      <td>0</td>\n",
              "      <td>2</td>\n",
              "      <td>No</td>\n",
              "      <td>468.0</td>\n",
              "      <td>Rec</td>\n",
              "      <td>270.0</td>\n",
              "      <td>730.0</td>\n",
              "      <td>Unf</td>\n",
              "      <td>1961.0</td>\n",
              "      <td>...</td>\n",
              "      <td>TA</td>\n",
              "      <td>11622</td>\n",
              "      <td>80.0</td>\n",
              "      <td>0.0</td>\n",
              "      <td>0</td>\n",
              "      <td>6</td>\n",
              "      <td>5</td>\n",
              "      <td>882.0</td>\n",
              "      <td>1961</td>\n",
              "      <td>1961</td>\n",
              "    </tr>\n",
              "    <tr>\n",
              "      <th>1</th>\n",
              "      <td>1329</td>\n",
              "      <td>0</td>\n",
              "      <td>3</td>\n",
              "      <td>No</td>\n",
              "      <td>923.0</td>\n",
              "      <td>ALQ</td>\n",
              "      <td>406.0</td>\n",
              "      <td>312.0</td>\n",
              "      <td>Unf</td>\n",
              "      <td>1958.0</td>\n",
              "      <td>...</td>\n",
              "      <td>Gd</td>\n",
              "      <td>14267</td>\n",
              "      <td>81.0</td>\n",
              "      <td>108.0</td>\n",
              "      <td>36</td>\n",
              "      <td>6</td>\n",
              "      <td>6</td>\n",
              "      <td>1329.0</td>\n",
              "      <td>1958</td>\n",
              "      <td>1958</td>\n",
              "    </tr>\n",
              "    <tr>\n",
              "      <th>2</th>\n",
              "      <td>928</td>\n",
              "      <td>701</td>\n",
              "      <td>3</td>\n",
              "      <td>No</td>\n",
              "      <td>791.0</td>\n",
              "      <td>GLQ</td>\n",
              "      <td>137.0</td>\n",
              "      <td>482.0</td>\n",
              "      <td>Fin</td>\n",
              "      <td>1997.0</td>\n",
              "      <td>...</td>\n",
              "      <td>TA</td>\n",
              "      <td>13830</td>\n",
              "      <td>74.0</td>\n",
              "      <td>0.0</td>\n",
              "      <td>34</td>\n",
              "      <td>5</td>\n",
              "      <td>5</td>\n",
              "      <td>928.0</td>\n",
              "      <td>1997</td>\n",
              "      <td>1998</td>\n",
              "    </tr>\n",
              "    <tr>\n",
              "      <th>3</th>\n",
              "      <td>926</td>\n",
              "      <td>678</td>\n",
              "      <td>3</td>\n",
              "      <td>No</td>\n",
              "      <td>602.0</td>\n",
              "      <td>GLQ</td>\n",
              "      <td>324.0</td>\n",
              "      <td>470.0</td>\n",
              "      <td>Fin</td>\n",
              "      <td>1998.0</td>\n",
              "      <td>...</td>\n",
              "      <td>Gd</td>\n",
              "      <td>9978</td>\n",
              "      <td>78.0</td>\n",
              "      <td>20.0</td>\n",
              "      <td>36</td>\n",
              "      <td>6</td>\n",
              "      <td>6</td>\n",
              "      <td>926.0</td>\n",
              "      <td>1998</td>\n",
              "      <td>1998</td>\n",
              "    </tr>\n",
              "  </tbody>\n",
              "</table>\n",
              "<p>4 rows × 21 columns</p>\n",
              "</div>"
            ],
            "text/plain": [
              "   1stFlrSF  2ndFlrSF  BedroomAbvGr BsmtExposure  BsmtFinSF1 BsmtFinType1  \\\n",
              "0       896         0             2           No       468.0          Rec   \n",
              "1      1329         0             3           No       923.0          ALQ   \n",
              "2       928       701             3           No       791.0          GLQ   \n",
              "3       926       678             3           No       602.0          GLQ   \n",
              "\n",
              "   BsmtUnfSF  GarageArea GarageFinish  GarageYrBlt  ...  KitchenQual LotArea  \\\n",
              "0      270.0       730.0          Unf       1961.0  ...           TA   11622   \n",
              "1      406.0       312.0          Unf       1958.0  ...           Gd   14267   \n",
              "2      137.0       482.0          Fin       1997.0  ...           TA   13830   \n",
              "3      324.0       470.0          Fin       1998.0  ...           Gd    9978   \n",
              "\n",
              "   LotFrontage  MasVnrArea  OpenPorchSF  OverallCond  OverallQual  \\\n",
              "0         80.0         0.0            0            6            5   \n",
              "1         81.0       108.0           36            6            6   \n",
              "2         74.0         0.0           34            5            5   \n",
              "3         78.0        20.0           36            6            6   \n",
              "\n",
              "   TotalBsmtSF  YearBuilt  YearRemodAdd  \n",
              "0        882.0       1961          1961  \n",
              "1       1329.0       1958          1958  \n",
              "2        928.0       1997          1998  \n",
              "3        926.0       1998          1998  \n",
              "\n",
              "[4 rows x 21 columns]"
            ]
          },
          "execution_count": 6,
          "metadata": {},
          "output_type": "execute_result"
        }
      ],
      "source": [
        "inherited_houses_clean_df.head()"
      ]
    },
    {
      "cell_type": "markdown",
      "metadata": {
        "id": "ZY3l0-AxO93d"
      },
      "source": [
        "---"
      ]
    },
    {
      "cell_type": "markdown",
      "metadata": {
        "id": "uFQo3ycuO-v6"
      },
      "source": [
        "# Split data"
      ]
    },
    {
      "cell_type": "markdown",
      "metadata": {},
      "source": [
        "We need to split our house price data into train, validate and test sets. We will follow the conventional ration of 7:1:2,\n",
        "\n",
        "First we split into train and test sets."
      ]
    },
    {
      "cell_type": "code",
      "execution_count": 7,
      "metadata": {},
      "outputs": [
        {
          "name": "stdout",
          "output_type": "stream",
          "text": [
            "* Train set: (1168, 21) (1168,) \n",
            "* Test set: (292, 21) (292,)\n"
          ]
        }
      ],
      "source": [
        "from sklearn.model_selection import train_test_split\n",
        "\n",
        "X_train, X_test,y_train, y_test = train_test_split(\n",
        "                                    house_prices_clean_df.drop(['SalePrice'],axis=1),\n",
        "                                    house_prices_clean_df['SalePrice'],\n",
        "                                    test_size=0.2,\n",
        "                                    random_state=0\n",
        "                                    )\n",
        "\n",
        "print(\"* Train set:\", X_train.shape, y_train.shape, \"\\n* Test set:\",  X_test.shape, y_test.shape)"
      ]
    },
    {
      "cell_type": "markdown",
      "metadata": {},
      "source": [
        "Then we split the test set again. We set the ratio to 0.2 as we want an overall proportion of 7:1:2."
      ]
    },
    {
      "cell_type": "code",
      "execution_count": 8,
      "metadata": {},
      "outputs": [
        {
          "name": "stdout",
          "output_type": "stream",
          "text": [
            "* Train set: (934, 21) (934,)\n",
            "* Validation set: (234, 21) (234,)\n",
            "* Test set: (292, 21) (292,)\n"
          ]
        }
      ],
      "source": [
        "X_train, X_val,y_train, y_val = train_test_split(\n",
        "                                    X_train,\n",
        "                                    y_train,\n",
        "                                    test_size=0.2,\n",
        "                                    random_state=0\n",
        "                                    )\n",
        "\n",
        "print(\"* Train set:\", X_train.shape, y_train.shape)\n",
        "print(\"* Validation set:\",  X_val.shape, y_val.shape)\n",
        "print(\"* Test set:\",   X_test.shape, y_test.shape)"
      ]
    },
    {
      "cell_type": "markdown",
      "metadata": {},
      "source": [
        "---"
      ]
    },
    {
      "cell_type": "markdown",
      "metadata": {},
      "source": [
        "# Pipeline"
      ]
    },
    {
      "cell_type": "markdown",
      "metadata": {},
      "source": [
        "We apply the feature engineering steps outlined in the notebook"
      ]
    },
    {
      "cell_type": "code",
      "execution_count": 9,
      "metadata": {},
      "outputs": [],
      "source": [
        "from sklearn.pipeline import Pipeline\n",
        "from feature_engine.selection import DropFeatures\n",
        "from feature_engine.encoding import OrdinalEncoder\n",
        "from feature_engine import transformation as vt\n",
        "from feature_engine.outliers import Winsorizer\n",
        "from sklearn.preprocessing import StandardScaler\n",
        "\n",
        "\n",
        "\n",
        "pipeline = Pipeline([\n",
        "    ('drop_features', DropFeatures(features_to_drop = ['1stFlrSF',\n",
        "                                                        '2ndFlrSF',\n",
        "                                                        'GarageArea',\n",
        "                                                        'GarageYrBlt',\n",
        "                                                        'YearBuilt']) ),\n",
        "\n",
        "    (\"OrdinalCategoricalEncoder\",OrdinalEncoder(encoding_method='arbitrary', \n",
        "                                                  variables = ['BsmtExposure',\n",
        "                                                               'BsmtFinType1',\n",
        "                                                               'GarageFinish',\n",
        "                                                               'KitchenQual'] ) ),\n",
        "\n",
        "    ('pt', vt.PowerTransformer(variables = ['BedroomAbvGr',\n",
        "                                            'BsmtFinSF1',\n",
        "                                            'BsmtUnfSF',\n",
        "                                            'GrLivArea',\n",
        "                                            'LotArea',\n",
        "                                            'LotFrontage',\n",
        "                                            'MasVnrArea',\n",
        "                                            'OpenPorchSF',\n",
        "                                            'OverallCond',\n",
        "                                            'OverallQual',\n",
        "                                            'TotalBsmtSF',\n",
        "                                            'YearRemodAdd']) ),\n",
        "\n",
        "    ('winsorizer_iqr', Winsorizer(capping_method='iqr', fold=1.5, tail='both')),\n",
        "    \n",
        "    ( \"feat_scaling\",StandardScaler() )\n",
        "  ])"
      ]
    },
    {
      "cell_type": "markdown",
      "metadata": {},
      "source": [
        "We can then fit our train, validate and test sets with the pipeline."
      ]
    },
    {
      "cell_type": "code",
      "execution_count": 10,
      "metadata": {},
      "outputs": [],
      "source": [
        "X_train = pipeline.fit_transform(X_train)\n",
        "X_val= pipeline.transform(X_val)\n",
        "X_test = pipeline.transform(X_test)"
      ]
    },
    {
      "cell_type": "markdown",
      "metadata": {},
      "source": [
        "---"
      ]
    },
    {
      "cell_type": "markdown",
      "metadata": {},
      "source": [
        "# The Model"
      ]
    },
    {
      "cell_type": "code",
      "execution_count": 11,
      "metadata": {},
      "outputs": [],
      "source": [
        "import os;\n",
        "import tensorflow as tf;\n",
        "os.environ['TF_CPP_MIN_LOG_LEVEL'] = '2';\n",
        "from tensorflow.keras.models import Sequential\n",
        "from tensorflow.keras.layers import Dense, Dropout\n",
        "\n",
        "def create_tf_model(n_features):\n",
        "\n",
        "  model = Sequential()\n",
        "  model.add(Dense(units=n_features, activation='relu', input_shape=(n_features,)))\n",
        "\n",
        "  model.add(Dense(units=512,activation='relu'))\n",
        "  model.add(Dropout(0.25))\n",
        "\n",
        "  model.add(Dense(units=512,activation='relu'))\n",
        "  model.add(Dropout(0.25))\n",
        "\n",
        "  model.add(Dense(units=512,activation='relu'))\n",
        "  model.add(Dropout(0.25))\n",
        "\n",
        "  model.add(Dense(units=512,activation='relu'))\n",
        "  model.add(Dropout(0.25))\n",
        "\n",
        "  model.add(Dense(units=1))\n",
        "  model.compile(loss='mse', optimizer='adam')\n",
        "  \n",
        "  return model\n"
      ]
    },
    {
      "cell_type": "code",
      "execution_count": 12,
      "metadata": {},
      "outputs": [
        {
          "name": "stdout",
          "output_type": "stream",
          "text": [
            "Model: \"sequential\"\n",
            "_________________________________________________________________\n",
            "Layer (type)                 Output Shape              Param #   \n",
            "=================================================================\n",
            "dense (Dense)                (None, 16)                272       \n",
            "_________________________________________________________________\n",
            "dense_1 (Dense)              (None, 512)               8704      \n",
            "_________________________________________________________________\n",
            "dropout (Dropout)            (None, 512)               0         \n",
            "_________________________________________________________________\n",
            "dense_2 (Dense)              (None, 512)               262656    \n",
            "_________________________________________________________________\n",
            "dropout_1 (Dropout)          (None, 512)               0         \n",
            "_________________________________________________________________\n",
            "dense_3 (Dense)              (None, 512)               262656    \n",
            "_________________________________________________________________\n",
            "dropout_2 (Dropout)          (None, 512)               0         \n",
            "_________________________________________________________________\n",
            "dense_4 (Dense)              (None, 512)               262656    \n",
            "_________________________________________________________________\n",
            "dropout_3 (Dropout)          (None, 512)               0         \n",
            "_________________________________________________________________\n",
            "dense_5 (Dense)              (None, 1)                 513       \n",
            "=================================================================\n",
            "Total params: 797,457\n",
            "Trainable params: 797,457\n",
            "Non-trainable params: 0\n",
            "_________________________________________________________________\n"
          ]
        }
      ],
      "source": [
        "model = create_tf_model(n_features=X_train.shape[1])\n",
        "model.summary()"
      ]
    },
    {
      "cell_type": "code",
      "execution_count": 13,
      "metadata": {},
      "outputs": [],
      "source": [
        "from tensorflow.keras.callbacks import EarlyStopping\n",
        "early_stop = EarlyStopping(monitor='val_loss', mode='min', verbose=1, patience=15)"
      ]
    },
    {
      "cell_type": "code",
      "execution_count": 25,
      "metadata": {},
      "outputs": [
        {
          "name": "stdout",
          "output_type": "stream",
          "text": [
            "Epoch 1/100\n",
            "30/30 [==============================] - 1s 11ms/step - loss: 38839934976.0000 - val_loss: 33571231744.0000\n",
            "Epoch 2/100\n",
            "30/30 [==============================] - 0s 8ms/step - loss: 16042824704.0000 - val_loss: 3225259264.0000\n",
            "Epoch 3/100\n",
            "30/30 [==============================] - 0s 10ms/step - loss: 2816216832.0000 - val_loss: 2065716864.0000\n",
            "Epoch 4/100\n",
            "30/30 [==============================] - 0s 10ms/step - loss: 2141833472.0000 - val_loss: 1740937216.0000\n",
            "Epoch 5/100\n",
            "30/30 [==============================] - 0s 10ms/step - loss: 1981536512.0000 - val_loss: 1591887232.0000\n",
            "Epoch 6/100\n",
            "30/30 [==============================] - 0s 8ms/step - loss: 1830853120.0000 - val_loss: 1465216000.0000\n",
            "Epoch 7/100\n",
            "30/30 [==============================] - 0s 10ms/step - loss: 1687947136.0000 - val_loss: 1401816704.0000\n",
            "Epoch 8/100\n",
            "30/30 [==============================] - 0s 10ms/step - loss: 1632511488.0000 - val_loss: 1298918016.0000\n",
            "Epoch 9/100\n",
            "30/30 [==============================] - 0s 7ms/step - loss: 1649656832.0000 - val_loss: 1233801472.0000\n",
            "Epoch 10/100\n",
            "30/30 [==============================] - 0s 10ms/step - loss: 1479638784.0000 - val_loss: 1178330112.0000\n",
            "Epoch 11/100\n",
            "30/30 [==============================] - 0s 10ms/step - loss: 1462600064.0000 - val_loss: 1136382976.0000\n",
            "Epoch 12/100\n",
            "30/30 [==============================] - 0s 8ms/step - loss: 1338510208.0000 - val_loss: 1106318720.0000\n",
            "Epoch 13/100\n",
            "30/30 [==============================] - 0s 10ms/step - loss: 1554377600.0000 - val_loss: 1232561792.0000\n",
            "Epoch 14/100\n",
            "30/30 [==============================] - 0s 10ms/step - loss: 1531006848.0000 - val_loss: 1206595712.0000\n",
            "Epoch 15/100\n",
            "30/30 [==============================] - 0s 7ms/step - loss: 1396130816.0000 - val_loss: 999202816.0000\n",
            "Epoch 16/100\n",
            "30/30 [==============================] - 0s 10ms/step - loss: 1370786816.0000 - val_loss: 1113001600.0000\n",
            "Epoch 17/100\n",
            "30/30 [==============================] - 0s 9ms/step - loss: 1318353664.0000 - val_loss: 974259136.0000\n",
            "Epoch 18/100\n",
            "30/30 [==============================] - 0s 8ms/step - loss: 1262280704.0000 - val_loss: 1101603712.0000\n",
            "Epoch 19/100\n",
            "30/30 [==============================] - 0s 10ms/step - loss: 1292126720.0000 - val_loss: 1015053696.0000\n",
            "Epoch 20/100\n",
            "30/30 [==============================] - 0s 7ms/step - loss: 1363436032.0000 - val_loss: 895801920.0000\n",
            "Epoch 21/100\n",
            "30/30 [==============================] - 0s 10ms/step - loss: 1184734976.0000 - val_loss: 893729408.0000\n",
            "Epoch 22/100\n",
            "30/30 [==============================] - 0s 9ms/step - loss: 1126732928.0000 - val_loss: 867921984.0000\n",
            "Epoch 23/100\n",
            "30/30 [==============================] - 0s 8ms/step - loss: 1167629824.0000 - val_loss: 829567168.0000\n",
            "Epoch 24/100\n",
            "30/30 [==============================] - 0s 10ms/step - loss: 1233028352.0000 - val_loss: 828013440.0000\n",
            "Epoch 25/100\n",
            "30/30 [==============================] - 0s 7ms/step - loss: 1080848640.0000 - val_loss: 838080832.0000\n",
            "Epoch 26/100\n",
            "30/30 [==============================] - 0s 10ms/step - loss: 1188856064.0000 - val_loss: 820804480.0000\n",
            "Epoch 27/100\n",
            "30/30 [==============================] - 0s 10ms/step - loss: 1209926016.0000 - val_loss: 880167616.0000\n",
            "Epoch 28/100\n",
            "30/30 [==============================] - 0s 8ms/step - loss: 1106071040.0000 - val_loss: 782123904.0000\n",
            "Epoch 29/100\n",
            "30/30 [==============================] - 0s 10ms/step - loss: 1245813376.0000 - val_loss: 858732224.0000\n",
            "Epoch 30/100\n",
            "30/30 [==============================] - 0s 10ms/step - loss: 1220858624.0000 - val_loss: 875542208.0000\n",
            "Epoch 31/100\n",
            "30/30 [==============================] - 0s 8ms/step - loss: 1090756224.0000 - val_loss: 802039808.0000\n",
            "Epoch 32/100\n",
            "30/30 [==============================] - 0s 10ms/step - loss: 1274743168.0000 - val_loss: 793289344.0000\n",
            "Epoch 33/100\n",
            "30/30 [==============================] - 0s 9ms/step - loss: 1064662464.0000 - val_loss: 740387904.0000\n",
            "Epoch 34/100\n",
            "30/30 [==============================] - 0s 8ms/step - loss: 1090821120.0000 - val_loss: 763605312.0000\n",
            "Epoch 35/100\n",
            "30/30 [==============================] - 0s 10ms/step - loss: 1131696640.0000 - val_loss: 748978304.0000\n",
            "Epoch 36/100\n",
            "30/30 [==============================] - 0s 8ms/step - loss: 1002439168.0000 - val_loss: 729493696.0000\n",
            "Epoch 37/100\n",
            "30/30 [==============================] - 0s 10ms/step - loss: 1118589440.0000 - val_loss: 729400064.0000\n",
            "Epoch 38/100\n",
            "30/30 [==============================] - 0s 10ms/step - loss: 1125429888.0000 - val_loss: 787740608.0000\n",
            "Epoch 39/100\n",
            "30/30 [==============================] - 0s 7ms/step - loss: 1098550272.0000 - val_loss: 707467584.0000\n",
            "Epoch 40/100\n",
            "30/30 [==============================] - 0s 10ms/step - loss: 1083414144.0000 - val_loss: 810968704.0000\n",
            "Epoch 41/100\n",
            "30/30 [==============================] - 0s 10ms/step - loss: 1189168768.0000 - val_loss: 919654720.0000\n",
            "Epoch 42/100\n",
            "30/30 [==============================] - 0s 10ms/step - loss: 1016123520.0000 - val_loss: 699391680.0000\n",
            "Epoch 43/100\n",
            "30/30 [==============================] - 0s 7ms/step - loss: 975680448.0000 - val_loss: 766083904.0000\n",
            "Epoch 44/100\n",
            "30/30 [==============================] - 0s 10ms/step - loss: 1087550336.0000 - val_loss: 740827328.0000\n",
            "Epoch 45/100\n",
            "30/30 [==============================] - 0s 7ms/step - loss: 1057134912.0000 - val_loss: 699038016.0000\n",
            "Epoch 46/100\n",
            "30/30 [==============================] - 0s 10ms/step - loss: 1036281536.0000 - val_loss: 668104832.0000\n",
            "Epoch 47/100\n",
            "30/30 [==============================] - 0s 9ms/step - loss: 1026323840.0000 - val_loss: 704973120.0000\n",
            "Epoch 48/100\n",
            "30/30 [==============================] - 0s 10ms/step - loss: 1105562496.0000 - val_loss: 777132416.0000\n",
            "Epoch 49/100\n",
            "30/30 [==============================] - 0s 8ms/step - loss: 1075712768.0000 - val_loss: 679141184.0000\n",
            "Epoch 50/100\n",
            "30/30 [==============================] - 0s 10ms/step - loss: 1011210560.0000 - val_loss: 678570688.0000\n",
            "Epoch 51/100\n",
            "30/30 [==============================] - 0s 7ms/step - loss: 1007931840.0000 - val_loss: 656134784.0000\n",
            "Epoch 52/100\n",
            "30/30 [==============================] - 0s 10ms/step - loss: 1064576896.0000 - val_loss: 663397952.0000\n",
            "Epoch 53/100\n",
            "30/30 [==============================] - 0s 10ms/step - loss: 1059775488.0000 - val_loss: 668639488.0000\n",
            "Epoch 54/100\n",
            "30/30 [==============================] - 0s 8ms/step - loss: 978844416.0000 - val_loss: 677415168.0000\n",
            "Epoch 55/100\n",
            "30/30 [==============================] - 0s 8ms/step - loss: 1101611008.0000 - val_loss: 665413952.0000\n",
            "Epoch 56/100\n",
            "30/30 [==============================] - 0s 10ms/step - loss: 908216512.0000 - val_loss: 709590592.0000\n",
            "Epoch 57/100\n",
            "30/30 [==============================] - 0s 8ms/step - loss: 1066762048.0000 - val_loss: 657655104.0000\n",
            "Epoch 58/100\n",
            "30/30 [==============================] - 0s 8ms/step - loss: 1065552896.0000 - val_loss: 644344512.0000\n",
            "Epoch 59/100\n",
            "30/30 [==============================] - 0s 10ms/step - loss: 971454784.0000 - val_loss: 637668352.0000\n",
            "Epoch 60/100\n",
            "30/30 [==============================] - 0s 10ms/step - loss: 992840704.0000 - val_loss: 642534592.0000\n",
            "Epoch 61/100\n",
            "30/30 [==============================] - 0s 7ms/step - loss: 977327936.0000 - val_loss: 694077184.0000\n",
            "Epoch 62/100\n",
            "30/30 [==============================] - 0s 10ms/step - loss: 1040845440.0000 - val_loss: 686041344.0000\n",
            "Epoch 63/100\n",
            "30/30 [==============================] - 0s 10ms/step - loss: 1028129664.0000 - val_loss: 690120320.0000\n",
            "Epoch 64/100\n",
            "30/30 [==============================] - 0s 7ms/step - loss: 1011251968.0000 - val_loss: 746088320.0000\n",
            "Epoch 65/100\n",
            "30/30 [==============================] - 0s 10ms/step - loss: 1059399680.0000 - val_loss: 731106176.0000\n",
            "Epoch 66/100\n",
            "30/30 [==============================] - 0s 10ms/step - loss: 1071621888.0000 - val_loss: 647871680.0000\n",
            "Epoch 67/100\n",
            "30/30 [==============================] - 0s 9ms/step - loss: 997757632.0000 - val_loss: 678430400.0000\n",
            "Epoch 68/100\n",
            "30/30 [==============================] - 0s 8ms/step - loss: 1017606912.0000 - val_loss: 611733376.0000\n",
            "Epoch 69/100\n",
            "30/30 [==============================] - 0s 10ms/step - loss: 930163648.0000 - val_loss: 663271552.0000\n",
            "Epoch 70/100\n",
            "30/30 [==============================] - 0s 10ms/step - loss: 1054877184.0000 - val_loss: 747435904.0000\n",
            "Epoch 71/100\n",
            "30/30 [==============================] - 0s 9ms/step - loss: 984487552.0000 - val_loss: 661617408.0000\n",
            "Epoch 72/100\n",
            "30/30 [==============================] - 0s 8ms/step - loss: 1070213760.0000 - val_loss: 659348672.0000\n",
            "Epoch 73/100\n",
            "30/30 [==============================] - 0s 10ms/step - loss: 990813312.0000 - val_loss: 672289984.0000\n",
            "Epoch 74/100\n",
            "30/30 [==============================] - 0s 10ms/step - loss: 898903872.0000 - val_loss: 605507008.0000\n",
            "Epoch 75/100\n",
            "30/30 [==============================] - 0s 9ms/step - loss: 896814976.0000 - val_loss: 603583424.0000\n",
            "Epoch 76/100\n",
            "30/30 [==============================] - 0s 8ms/step - loss: 925937280.0000 - val_loss: 608050240.0000\n",
            "Epoch 77/100\n",
            "30/30 [==============================] - 0s 10ms/step - loss: 979172352.0000 - val_loss: 594989568.0000\n",
            "Epoch 78/100\n",
            "30/30 [==============================] - 0s 10ms/step - loss: 992158912.0000 - val_loss: 776581248.0000\n",
            "Epoch 79/100\n",
            "30/30 [==============================] - 0s 13ms/step - loss: 945534720.0000 - val_loss: 607135488.0000\n",
            "Epoch 80/100\n",
            "30/30 [==============================] - 0s 11ms/step - loss: 974103488.0000 - val_loss: 691224384.0000\n",
            "Epoch 81/100\n",
            "30/30 [==============================] - 0s 7ms/step - loss: 958210048.0000 - val_loss: 605321280.0000\n",
            "Epoch 82/100\n",
            "30/30 [==============================] - 0s 10ms/step - loss: 869071232.0000 - val_loss: 619369536.0000\n",
            "Epoch 83/100\n",
            "30/30 [==============================] - 0s 10ms/step - loss: 977248512.0000 - val_loss: 725064192.0000\n",
            "Epoch 84/100\n",
            "30/30 [==============================] - 0s 8ms/step - loss: 961338304.0000 - val_loss: 661462144.0000\n",
            "Epoch 85/100\n",
            "30/30 [==============================] - 0s 10ms/step - loss: 1021072256.0000 - val_loss: 616009984.0000\n",
            "Epoch 86/100\n",
            "30/30 [==============================] - 0s 7ms/step - loss: 941036416.0000 - val_loss: 710698624.0000\n",
            "Epoch 87/100\n",
            "30/30 [==============================] - 0s 10ms/step - loss: 1070210368.0000 - val_loss: 591854656.0000\n",
            "Epoch 88/100\n",
            "30/30 [==============================] - 0s 10ms/step - loss: 1025391296.0000 - val_loss: 631744256.0000\n",
            "Epoch 89/100\n",
            "30/30 [==============================] - 0s 10ms/step - loss: 938098432.0000 - val_loss: 595289664.0000\n",
            "Epoch 90/100\n",
            "30/30 [==============================] - 0s 8ms/step - loss: 894382336.0000 - val_loss: 712547840.0000\n",
            "Epoch 91/100\n",
            "30/30 [==============================] - 0s 8ms/step - loss: 954245632.0000 - val_loss: 614126016.0000\n",
            "Epoch 92/100\n",
            "30/30 [==============================] - 0s 10ms/step - loss: 868959296.0000 - val_loss: 664834688.0000\n",
            "Epoch 93/100\n",
            "30/30 [==============================] - 0s 10ms/step - loss: 1018235008.0000 - val_loss: 658257024.0000\n",
            "Epoch 94/100\n",
            "30/30 [==============================] - 0s 7ms/step - loss: 1068084480.0000 - val_loss: 712556992.0000\n",
            "Epoch 95/100\n",
            "30/30 [==============================] - 0s 10ms/step - loss: 1023086464.0000 - val_loss: 573986176.0000\n",
            "Epoch 96/100\n",
            "30/30 [==============================] - 0s 10ms/step - loss: 957606336.0000 - val_loss: 584392000.0000\n",
            "Epoch 97/100\n",
            "30/30 [==============================] - 0s 7ms/step - loss: 999525312.0000 - val_loss: 596430208.0000\n",
            "Epoch 98/100\n",
            "30/30 [==============================] - 0s 8ms/step - loss: 925744064.0000 - val_loss: 567344448.0000\n",
            "Epoch 99/100\n",
            "30/30 [==============================] - 0s 10ms/step - loss: 968908352.0000 - val_loss: 571206400.0000\n",
            "Epoch 100/100\n",
            "30/30 [==============================] - 0s 10ms/step - loss: 975930560.0000 - val_loss: 626543744.0000\n"
          ]
        },
        {
          "data": {
            "text/plain": [
              "<keras.callbacks.History at 0x7f747aaaef70>"
            ]
          },
          "execution_count": 25,
          "metadata": {},
          "output_type": "execute_result"
        }
      ],
      "source": [
        "model = create_tf_model(n_features=X_train.shape[1])\n",
        "\n",
        "model.fit(x=X_train, \n",
        "          y=y_train, \n",
        "          epochs=100,\n",
        "          validation_data=(X_val, y_val),\n",
        "          verbose=1,\n",
        "          callbacks=[early_stop]\n",
        "          )"
      ]
    },
    {
      "cell_type": "markdown",
      "metadata": {},
      "source": [
        "---"
      ]
    },
    {
      "cell_type": "markdown",
      "metadata": {},
      "source": [
        "# Evaluation"
      ]
    },
    {
      "cell_type": "code",
      "execution_count": 26,
      "metadata": {},
      "outputs": [
        {
          "data": {
            "text/html": [
              "<div>\n",
              "<style scoped>\n",
              "    .dataframe tbody tr th:only-of-type {\n",
              "        vertical-align: middle;\n",
              "    }\n",
              "\n",
              "    .dataframe tbody tr th {\n",
              "        vertical-align: top;\n",
              "    }\n",
              "\n",
              "    .dataframe thead th {\n",
              "        text-align: right;\n",
              "    }\n",
              "</style>\n",
              "<table border=\"1\" class=\"dataframe\">\n",
              "  <thead>\n",
              "    <tr style=\"text-align: right;\">\n",
              "      <th></th>\n",
              "      <th>loss</th>\n",
              "      <th>val_loss</th>\n",
              "    </tr>\n",
              "  </thead>\n",
              "  <tbody>\n",
              "    <tr>\n",
              "      <th>0</th>\n",
              "      <td>3.883993e+10</td>\n",
              "      <td>3.357123e+10</td>\n",
              "    </tr>\n",
              "    <tr>\n",
              "      <th>1</th>\n",
              "      <td>1.604282e+10</td>\n",
              "      <td>3.225259e+09</td>\n",
              "    </tr>\n",
              "    <tr>\n",
              "      <th>2</th>\n",
              "      <td>2.816217e+09</td>\n",
              "      <td>2.065717e+09</td>\n",
              "    </tr>\n",
              "    <tr>\n",
              "      <th>3</th>\n",
              "      <td>2.141833e+09</td>\n",
              "      <td>1.740937e+09</td>\n",
              "    </tr>\n",
              "    <tr>\n",
              "      <th>4</th>\n",
              "      <td>1.981537e+09</td>\n",
              "      <td>1.591887e+09</td>\n",
              "    </tr>\n",
              "    <tr>\n",
              "      <th>...</th>\n",
              "      <td>...</td>\n",
              "      <td>...</td>\n",
              "    </tr>\n",
              "    <tr>\n",
              "      <th>95</th>\n",
              "      <td>9.576063e+08</td>\n",
              "      <td>5.843920e+08</td>\n",
              "    </tr>\n",
              "    <tr>\n",
              "      <th>96</th>\n",
              "      <td>9.995253e+08</td>\n",
              "      <td>5.964302e+08</td>\n",
              "    </tr>\n",
              "    <tr>\n",
              "      <th>97</th>\n",
              "      <td>9.257441e+08</td>\n",
              "      <td>5.673444e+08</td>\n",
              "    </tr>\n",
              "    <tr>\n",
              "      <th>98</th>\n",
              "      <td>9.689084e+08</td>\n",
              "      <td>5.712064e+08</td>\n",
              "    </tr>\n",
              "    <tr>\n",
              "      <th>99</th>\n",
              "      <td>9.759306e+08</td>\n",
              "      <td>6.265437e+08</td>\n",
              "    </tr>\n",
              "  </tbody>\n",
              "</table>\n",
              "<p>100 rows × 2 columns</p>\n",
              "</div>"
            ],
            "text/plain": [
              "            loss      val_loss\n",
              "0   3.883993e+10  3.357123e+10\n",
              "1   1.604282e+10  3.225259e+09\n",
              "2   2.816217e+09  2.065717e+09\n",
              "3   2.141833e+09  1.740937e+09\n",
              "4   1.981537e+09  1.591887e+09\n",
              "..           ...           ...\n",
              "95  9.576063e+08  5.843920e+08\n",
              "96  9.995253e+08  5.964302e+08\n",
              "97  9.257441e+08  5.673444e+08\n",
              "98  9.689084e+08  5.712064e+08\n",
              "99  9.759306e+08  6.265437e+08\n",
              "\n",
              "[100 rows x 2 columns]"
            ]
          },
          "execution_count": 26,
          "metadata": {},
          "output_type": "execute_result"
        }
      ],
      "source": [
        "losses = pd.DataFrame(model.history.history)\n",
        "losses"
      ]
    },
    {
      "cell_type": "code",
      "execution_count": 27,
      "metadata": {},
      "outputs": [
        {
          "data": {
            "image/png": "[encoded data removed]",
            "text/plain": [
              "<Figure size 640x480 with 1 Axes>"
            ]
          },
          "metadata": {},
          "output_type": "display_data"
        }
      ],
      "source": [
        "import matplotlib.pyplot as plt\n",
        "import seaborn as sns\n",
        "\n",
        "losses = pd.DataFrame(model.history.history)\n",
        "\n",
        "sns.set_style(\"whitegrid\")\n",
        "losses[['loss','val_loss']].plot(style='.-')\n",
        "plt.title(\"Loss\")\n",
        "plt.show()"
      ]
    },
    {
      "cell_type": "code",
      "execution_count": 28,
      "metadata": {},
      "outputs": [
        {
          "name": "stdout",
          "output_type": "stream",
          "text": [
            "10/10 [==============================] - 0s 907us/step - loss: 1572442880.0000\n"
          ]
        },
        {
          "data": {
            "text/plain": [
              "1572442880.0"
            ]
          },
          "execution_count": 28,
          "metadata": {},
          "output_type": "execute_result"
        }
      ],
      "source": [
        "model.evaluate(X_test,y_test)"
      ]
    },
    {
      "cell_type": "code",
      "execution_count": 29,
      "metadata": {},
      "outputs": [],
      "source": [
        "from sklearn.metrics import r2_score, mean_squared_error, mean_absolute_error \n",
        "import numpy as np\n",
        "\n",
        "def regression_performance(X_train, y_train,\n",
        "                           X_val, y_val,\n",
        "                           X_test, y_test,pipeline):\n",
        "\n",
        "  print(\"Model Evaluation \\n\")\n",
        "  print(\"* Train Set\")\n",
        "  regression_evaluation(X_train,y_train,pipeline)\n",
        "  print(\"* Validation Set\")\n",
        "  regression_evaluation(X_val, y_val,pipeline)\n",
        "  print(\"* Test Set\")\n",
        "  regression_evaluation(X_test,y_test,pipeline)\n",
        "\n",
        "\n",
        "\n",
        "def regression_evaluation(X,y,pipeline):\n",
        "  \"\"\"\n",
        "  # Gets features and target (either from train or test set) and pipeline\n",
        "  - it predicts using the pipeline and the features\n",
        "  - calculates performance metrics comparing the prediction to the target\n",
        "  \"\"\"\n",
        "  prediction = pipeline.predict(X)\n",
        "  print('R2 Score:', r2_score(y, prediction).round(3))  \n",
        "  print('Mean Absolute Error:', mean_absolute_error(y, prediction).round(3))  \n",
        "  print('Mean Squared Error:', mean_squared_error(y, prediction).round(3))  \n",
        "  print('Root Mean Squared Error:', np.sqrt(mean_squared_error(y, prediction)).round(3))\n",
        "  print(\"\\n\")\n",
        "\n",
        "  \n",
        "\n",
        "def regression_evaluation_plots(X_train, y_train,\n",
        "                                X_val, y_val,\n",
        "                                X_test, y_test,\n",
        "                                pipeline, alpha_scatter=0.5):\n",
        "\n",
        "  pred_train = pipeline.predict(X_train).reshape(-1) \n",
        "  # we reshape the prediction arrays to be in the format (n_rows,), so we can plot it after\n",
        "  pred_val = pipeline.predict(X_val).reshape(-1)\n",
        "  pred_test = pipeline.predict(X_test).reshape(-1)\n",
        "\n",
        "  fig, axes = plt.subplots(nrows=1, ncols=3, figsize=(15,6))\n",
        "  sns.scatterplot(x=y_train , y=pred_train, alpha=alpha_scatter, ax=axes[0])\n",
        "  sns.lineplot(x=y_train , y=y_train, color='red', ax=axes[0])\n",
        "  axes[0].set_xlabel(\"Actual\")\n",
        "  axes[0].set_ylabel(\"Predictions\")\n",
        "  axes[0].set_title(\"Train Set\")\n",
        "\n",
        "  sns.scatterplot(x=y_val , y=pred_val, alpha=alpha_scatter, ax=axes[1])\n",
        "  sns.lineplot(x=y_val , y=y_val, color='red', ax=axes[1])\n",
        "  axes[1].set_xlabel(\"Actual\")\n",
        "  axes[1].set_ylabel(\"Predictions\")\n",
        "  axes[1].set_title(\"Validation Set\")\n",
        "\n",
        "  sns.scatterplot(x=y_test , y=pred_test, alpha=alpha_scatter, ax=axes[2])\n",
        "  sns.lineplot(x=y_test , y=y_test, color='red', ax=axes[2])\n",
        "  axes[2].set_xlabel(\"Actual\")\n",
        "  axes[2].set_ylabel(\"Predictions\")\n",
        "  axes[2].set_title(\"Test Set\")\n",
        "\n",
        "  plt.show()\n",
        "  train_valid_test = fig"
      ]
    },
    {
      "cell_type": "code",
      "execution_count": 30,
      "metadata": {},
      "outputs": [
        {
          "name": "stdout",
          "output_type": "stream",
          "text": [
            "Model Evaluation \n",
            "\n",
            "* Train Set\n",
            "R2 Score: 0.88\n",
            "Mean Absolute Error: 17944.482\n",
            "Mean Squared Error: 759036585.539\n",
            "Root Mean Squared Error: 27550.619\n",
            "\n",
            "\n",
            "* Validation Set\n",
            "R2 Score: 0.886\n",
            "Mean Absolute Error: 18356.782\n",
            "Mean Squared Error: 626543651.35\n",
            "Root Mean Squared Error: 25030.854\n",
            "\n",
            "\n",
            "* Test Set\n",
            "R2 Score: 0.772\n",
            "Mean Absolute Error: 22670.595\n",
            "Mean Squared Error: 1572442557.557\n",
            "Root Mean Squared Error: 39654.036\n",
            "\n",
            "\n"
          ]
        },
        {
          "data": {
            "image/png": "[encoded data removed]",
            "text/plain": [
              "<Figure size 1500x600 with 3 Axes>"
            ]
          },
          "metadata": {},
          "output_type": "display_data"
        }
      ],
      "source": [
        "regression_performance(X_train, y_train,X_val, y_val, X_test, y_test,model)\n",
        "regression_evaluation_plots(X_train, y_train, X_val, y_val,X_test, y_test, \n",
        "                            model, alpha_scatter=0.5)"
      ]
    },
    {
      "cell_type": "markdown",
      "metadata": {},
      "source": [
        "# Observations.\n",
        "\n",
        "1. The recapitulate, our target is an R2 of 0.75 on train and test splits.\n",
        "\n",
        "2. Different iterations of the train/test/validation split can have a marginal effect on the results\n",
        "\n",
        "3. Retraining the model can produce a marginally different outcome, as much as 0.08 on the R2 score. \n",
        "\n",
        "4. Given points 2 & 3, it may take several iterations of splitting the data and training the model to get an R2 of 0.75 accross all three sets.\n",
        "\n",
        "5. Hueristically, the model responds well to units which are a multiple of the number of features in the train set.\n",
        "\n",
        "6. More than 4 deep layers adds little to the accuracy of the results.\n",
        "\n",
        "7. The dropout layer makes very little difference, except at extreme settings ( 0.10 < or > 90).\n",
        "\n",
        "8. The number of units in a layer significantly increases the accuracy of the model, up to a certain point, at which we see diminishing returns. There is little improvement in training time but an increase in time it takes to train the model. Given point 4 above, increased training time for little gain is undesireable.\n",
        "\n",
        "9. Differing numbers of units between layers has either no effect or a diminishing effect on accuracy.\n",
        "\n",
        "10. We have used ReLu for the activation function, in line with the source code. We have also tried sigmoid, linear and relu6, which either make no appreciable difference, or lead to significant underfitting.\n",
        "\n",
        "11. Experimentation with using mean_absolute_error as a loss function revealed very little observable difference. We have kept the loss function as mse as it is the standard for regression tasks.\n",
        "\n",
        "12. Using SGD as a optimizer led to the stop function kicking in between 10 - 20 epochs. Too short to properly train the model. We have used adam.\n",
        "\n",
        "13. The stop function usually kicks in between 80 and 120 epochs. There is no observable pattern of improved results beyond this range. We have set the epochs at 100 as a resonable compromise.\n",
        "\n",
        "14. Adjusting the other parameters of the stop function either led to it kicking in before the model could be properly trained, or incresing the trianing time for no improvement in performance.\n",
        "\n"
      ]
    },
    {
      "cell_type": "markdown",
      "metadata": {},
      "source": [
        "Save the model"
      ]
    },
    {
      "cell_type": "code",
      "execution_count": 31,
      "metadata": {},
      "outputs": [],
      "source": [
        "model.save('outputs/model/house_price_predictor_model.h5')"
      ]
    },
    {
      "cell_type": "markdown",
      "metadata": {},
      "source": [
        "Save train, validation and test sets."
      ]
    },
    {
      "cell_type": "markdown",
      "metadata": {},
      "source": [
        "---"
      ]
    },
    {
      "cell_type": "markdown",
      "metadata": {},
      "source": [
        "# Predict house prices"
      ]
    },
    {
      "cell_type": "markdown",
      "metadata": {
        "id": "ltNetd085qHf"
      },
      "source": [
        "# Push files to Repo"
      ]
    },
    {
      "cell_type": "markdown",
      "metadata": {},
      "source": [
        "* If you do not need to push files to Repo, you may replace this section with \"Conclusions and Next Steps\" and state your conclusions and next steps."
      ]
    },
    {
      "cell_type": "code",
      "execution_count": null,
      "metadata": {
        "id": "aKlnIozA4eQO",
        "outputId": "fd09bc1f-adb1-4511-f6ce-492a6af570c0"
      },
      "outputs": [],
      "source": [
        "import os\n",
        "try:\n",
        "  # create here your folder\n",
        "  # os.makedirs(name='')\n",
        "except Exception as e:\n",
        "  print(e)\n"
      ]
    }
  ],
  "metadata": {
    "accelerator": "GPU",
    "colab": {
      "name": "Data Practitioner Jupyter Notebook.ipynb",
      "provenance": [],
      "toc_visible": true
    },
    "interpreter": {
      "hash": "8b8334dab9339717f727a1deaf837b322d7a41c20d15cc86be99a8e69ceec8ce"
    },
    "kernelspec": {
      "display_name": "Python 3.8.12 64-bit ('3.8.12': pyenv)",
      "name": "python3"
    },
    "language_info": {
      "codemirror_mode": {
        "name": "ipython",
        "version": 3
      },
      "file_extension": ".py",
      "mimetype": "text/x-python",
      "name": "python",
      "nbconvert_exporter": "python",
      "pygments_lexer": "ipython3",
      "version": "3.8.18"
    },
    "orig_nbformat": 2
  },
  "nbformat": 4,
  "nbformat_minor": 2
}
