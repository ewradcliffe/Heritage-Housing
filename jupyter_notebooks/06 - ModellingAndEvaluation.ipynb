{
  "cells": [
    {
      "cell_type": "markdown",
      "metadata": {
        "id": "0aStgWSO0E0E"
      },
      "source": [
        "# **Modelling and Evaluation: Regression**"
      ]
    },
    {
      "cell_type": "markdown",
      "metadata": {
        "id": "1eLEkw5O0ECa"
      },
      "source": [
        "## Objectives\n",
        "\n",
        "1. Fit and evaluate a regression model which will predict house prices.\n",
        "2. Answers business criteria 2. Predict prices for client house data.\n",
        "3. We have agreed an R2 score of at least 0.75 on the train set as well as on the test set.\n",
        "4. Can predict house prices based on input data from streamlit dashboard. \n",
        "\n",
        "## Inputs\n",
        "\n",
        "1. House_prices_records_clean.csv\n",
        "2. Inherited_houses_clean.csv\n",
        "3. Findings of feature engineering notebook\n",
        "\n",
        "## Outputs\n",
        "\n",
        "1. Data sets for train, validate and test sets.\n",
        "2. Feature engineering pipeline.\n",
        "3. Trained Model.\n",
        "4. Predictions for client house prices and supporting data.\n",
        "\n",
        "Please note that all code in this notebook is taken from The Code institute Data Analysis & Machine Learning Toolkit [Data Analysis & Machine Learning Toolkit](https://learn.codeinstitute.net/courses/course-v1:code_institute+CI_DA_ML+2021_Q4/courseware/1f851533cd6a4dcd8a280fd9f37ef4e2/81c19e89e4e94690bd58f738cb7eae91/) lesson.\n"
      ]
    },
    {
      "cell_type": "markdown",
      "metadata": {
        "id": "9uWZXH9LwoQg"
      },
      "source": [
        "---"
      ]
    },
    {
      "cell_type": "markdown",
      "metadata": {
        "id": "cqP-UeN-z3i2"
      },
      "source": [
        "# Change working directory"
      ]
    },
    {
      "cell_type": "markdown",
      "metadata": {},
      "source": [
        "* We are assuming you will store the notebooks in a subfolder, therefore when running the notebook in the editor, you will need to change the working directory"
      ]
    },
    {
      "cell_type": "markdown",
      "metadata": {
        "id": "aOGIGS-uz3i2"
      },
      "source": [
        "We need to change the working directory from its current folder to its parent folder\n",
        "* We access the current directory with os.getcwd()"
      ]
    },
    {
      "cell_type": "code",
      "execution_count": 1,
      "metadata": {
        "id": "wZfF_j-Bz3i4",
        "outputId": "66943449-1436-4c3d-85c7-b85f9f78349b"
      },
      "outputs": [
        {
          "data": {
            "text/plain": [
              "'/workspace/Heritage-Housing/jupyter_notebooks'"
            ]
          },
          "execution_count": 1,
          "metadata": {},
          "output_type": "execute_result"
        }
      ],
      "source": [
        "import os\n",
        "current_dir = os.getcwd()\n",
        "current_dir"
      ]
    },
    {
      "cell_type": "markdown",
      "metadata": {
        "id": "9MWW8E7lz3i7"
      },
      "source": [
        "We want to make the parent of the current directory the new current directory\n",
        "* os.path.dirname() gets the parent directory\n",
        "* os.chir() defines the new current directory"
      ]
    },
    {
      "cell_type": "code",
      "execution_count": 2,
      "metadata": {
        "id": "TwHsQRWjz3i9",
        "outputId": "86849db3-cd2f-4cc5-ebb8-2d0caafa1a2c"
      },
      "outputs": [
        {
          "name": "stdout",
          "output_type": "stream",
          "text": [
            "You set a new current directory\n"
          ]
        }
      ],
      "source": [
        "os.chdir(os.path.dirname(current_dir))\n",
        "print(\"You set a new current directory\")"
      ]
    },
    {
      "cell_type": "markdown",
      "metadata": {
        "id": "M_xPk_Ijz3i-"
      },
      "source": [
        "Confirm the new current directory"
      ]
    },
    {
      "cell_type": "code",
      "execution_count": 3,
      "metadata": {
        "id": "vz3S-_kjz3jA",
        "outputId": "00b79ae4-75d0-4a96-d193-ac9ef9847ea2"
      },
      "outputs": [
        {
          "data": {
            "text/plain": [
              "'/workspace/Heritage-Housing'"
            ]
          },
          "execution_count": 3,
          "metadata": {},
          "output_type": "execute_result"
        }
      ],
      "source": [
        "current_dir = os.getcwd()\n",
        "current_dir"
      ]
    },
    {
      "cell_type": "markdown",
      "metadata": {
        "id": "-mavJ8DibrcQ"
      },
      "source": [
        "# Load data"
      ]
    },
    {
      "cell_type": "markdown",
      "metadata": {},
      "source": [
        "Note that we are using the cleaned data sets from the clean data notebook."
      ]
    },
    {
      "cell_type": "code",
      "execution_count": 4,
      "metadata": {},
      "outputs": [],
      "source": [
        "import numpy as np\n",
        "import pandas as pd\n",
        "\n",
        "house_prices_clean_df = pd.read_csv(f\"outputs/datasets/clean_data/House_prices_records_clean.csv\")\n"
      ]
    },
    {
      "cell_type": "code",
      "execution_count": 5,
      "metadata": {},
      "outputs": [
        {
          "data": {
            "text/html": [
              "<div>\n",
              "<style scoped>\n",
              "    .dataframe tbody tr th:only-of-type {\n",
              "        vertical-align: middle;\n",
              "    }\n",
              "\n",
              "    .dataframe tbody tr th {\n",
              "        vertical-align: top;\n",
              "    }\n",
              "\n",
              "    .dataframe thead th {\n",
              "        text-align: right;\n",
              "    }\n",
              "</style>\n",
              "<table border=\"1\" class=\"dataframe\">\n",
              "  <thead>\n",
              "    <tr style=\"text-align: right;\">\n",
              "      <th></th>\n",
              "      <th>1stFlrSF</th>\n",
              "      <th>2ndFlrSF</th>\n",
              "      <th>BedroomAbvGr</th>\n",
              "      <th>BsmtExposure</th>\n",
              "      <th>BsmtFinSF1</th>\n",
              "      <th>BsmtFinType1</th>\n",
              "      <th>BsmtUnfSF</th>\n",
              "      <th>GarageArea</th>\n",
              "      <th>GarageFinish</th>\n",
              "      <th>GarageYrBlt</th>\n",
              "      <th>...</th>\n",
              "      <th>LotArea</th>\n",
              "      <th>LotFrontage</th>\n",
              "      <th>MasVnrArea</th>\n",
              "      <th>OpenPorchSF</th>\n",
              "      <th>OverallCond</th>\n",
              "      <th>OverallQual</th>\n",
              "      <th>TotalBsmtSF</th>\n",
              "      <th>YearBuilt</th>\n",
              "      <th>YearRemodAdd</th>\n",
              "      <th>SalePrice</th>\n",
              "    </tr>\n",
              "  </thead>\n",
              "  <tbody>\n",
              "    <tr>\n",
              "      <th>0</th>\n",
              "      <td>856</td>\n",
              "      <td>854.0</td>\n",
              "      <td>3.0</td>\n",
              "      <td>No</td>\n",
              "      <td>706</td>\n",
              "      <td>GLQ</td>\n",
              "      <td>150</td>\n",
              "      <td>548</td>\n",
              "      <td>RFn</td>\n",
              "      <td>2003.0</td>\n",
              "      <td>...</td>\n",
              "      <td>8450</td>\n",
              "      <td>65.0</td>\n",
              "      <td>196.0</td>\n",
              "      <td>61</td>\n",
              "      <td>5</td>\n",
              "      <td>7</td>\n",
              "      <td>856</td>\n",
              "      <td>2003</td>\n",
              "      <td>2003</td>\n",
              "      <td>208500</td>\n",
              "    </tr>\n",
              "    <tr>\n",
              "      <th>1</th>\n",
              "      <td>1262</td>\n",
              "      <td>0.0</td>\n",
              "      <td>3.0</td>\n",
              "      <td>Gd</td>\n",
              "      <td>978</td>\n",
              "      <td>ALQ</td>\n",
              "      <td>284</td>\n",
              "      <td>460</td>\n",
              "      <td>RFn</td>\n",
              "      <td>1976.0</td>\n",
              "      <td>...</td>\n",
              "      <td>9600</td>\n",
              "      <td>80.0</td>\n",
              "      <td>0.0</td>\n",
              "      <td>0</td>\n",
              "      <td>8</td>\n",
              "      <td>6</td>\n",
              "      <td>1262</td>\n",
              "      <td>1976</td>\n",
              "      <td>1976</td>\n",
              "      <td>181500</td>\n",
              "    </tr>\n",
              "    <tr>\n",
              "      <th>2</th>\n",
              "      <td>920</td>\n",
              "      <td>866.0</td>\n",
              "      <td>3.0</td>\n",
              "      <td>Mn</td>\n",
              "      <td>486</td>\n",
              "      <td>GLQ</td>\n",
              "      <td>434</td>\n",
              "      <td>608</td>\n",
              "      <td>RFn</td>\n",
              "      <td>2001.0</td>\n",
              "      <td>...</td>\n",
              "      <td>11250</td>\n",
              "      <td>68.0</td>\n",
              "      <td>162.0</td>\n",
              "      <td>42</td>\n",
              "      <td>5</td>\n",
              "      <td>7</td>\n",
              "      <td>920</td>\n",
              "      <td>2001</td>\n",
              "      <td>2002</td>\n",
              "      <td>223500</td>\n",
              "    </tr>\n",
              "    <tr>\n",
              "      <th>3</th>\n",
              "      <td>961</td>\n",
              "      <td>0.0</td>\n",
              "      <td>3.0</td>\n",
              "      <td>No</td>\n",
              "      <td>216</td>\n",
              "      <td>ALQ</td>\n",
              "      <td>540</td>\n",
              "      <td>642</td>\n",
              "      <td>Unf</td>\n",
              "      <td>1998.0</td>\n",
              "      <td>...</td>\n",
              "      <td>9550</td>\n",
              "      <td>60.0</td>\n",
              "      <td>0.0</td>\n",
              "      <td>35</td>\n",
              "      <td>5</td>\n",
              "      <td>7</td>\n",
              "      <td>756</td>\n",
              "      <td>1915</td>\n",
              "      <td>1970</td>\n",
              "      <td>140000</td>\n",
              "    </tr>\n",
              "    <tr>\n",
              "      <th>4</th>\n",
              "      <td>1145</td>\n",
              "      <td>0.0</td>\n",
              "      <td>4.0</td>\n",
              "      <td>Av</td>\n",
              "      <td>655</td>\n",
              "      <td>GLQ</td>\n",
              "      <td>490</td>\n",
              "      <td>836</td>\n",
              "      <td>RFn</td>\n",
              "      <td>2000.0</td>\n",
              "      <td>...</td>\n",
              "      <td>14260</td>\n",
              "      <td>84.0</td>\n",
              "      <td>350.0</td>\n",
              "      <td>84</td>\n",
              "      <td>5</td>\n",
              "      <td>8</td>\n",
              "      <td>1145</td>\n",
              "      <td>2000</td>\n",
              "      <td>2000</td>\n",
              "      <td>250000</td>\n",
              "    </tr>\n",
              "  </tbody>\n",
              "</table>\n",
              "<p>5 rows × 22 columns</p>\n",
              "</div>"
            ],
            "text/plain": [
              "   1stFlrSF  2ndFlrSF  BedroomAbvGr BsmtExposure  BsmtFinSF1 BsmtFinType1  \\\n",
              "0       856     854.0           3.0           No         706          GLQ   \n",
              "1      1262       0.0           3.0           Gd         978          ALQ   \n",
              "2       920     866.0           3.0           Mn         486          GLQ   \n",
              "3       961       0.0           3.0           No         216          ALQ   \n",
              "4      1145       0.0           4.0           Av         655          GLQ   \n",
              "\n",
              "   BsmtUnfSF  GarageArea GarageFinish  GarageYrBlt  ...  LotArea LotFrontage  \\\n",
              "0        150         548          RFn       2003.0  ...     8450        65.0   \n",
              "1        284         460          RFn       1976.0  ...     9600        80.0   \n",
              "2        434         608          RFn       2001.0  ...    11250        68.0   \n",
              "3        540         642          Unf       1998.0  ...     9550        60.0   \n",
              "4        490         836          RFn       2000.0  ...    14260        84.0   \n",
              "\n",
              "   MasVnrArea  OpenPorchSF  OverallCond  OverallQual  TotalBsmtSF  YearBuilt  \\\n",
              "0       196.0           61            5            7          856       2003   \n",
              "1         0.0            0            8            6         1262       1976   \n",
              "2       162.0           42            5            7          920       2001   \n",
              "3         0.0           35            5            7          756       1915   \n",
              "4       350.0           84            5            8         1145       2000   \n",
              "\n",
              "   YearRemodAdd  SalePrice  \n",
              "0          2003     208500  \n",
              "1          1976     181500  \n",
              "2          2002     223500  \n",
              "3          1970     140000  \n",
              "4          2000     250000  \n",
              "\n",
              "[5 rows x 22 columns]"
            ]
          },
          "execution_count": 5,
          "metadata": {},
          "output_type": "execute_result"
        }
      ],
      "source": [
        "house_prices_clean_df.head()"
      ]
    },
    {
      "cell_type": "markdown",
      "metadata": {
        "id": "ZY3l0-AxO93d"
      },
      "source": [
        "---"
      ]
    },
    {
      "cell_type": "markdown",
      "metadata": {
        "id": "uFQo3ycuO-v6"
      },
      "source": [
        "# Split data"
      ]
    },
    {
      "cell_type": "markdown",
      "metadata": {},
      "source": [
        "We need to split our house price data into train, validate and test sets. We will follow the conventional ration of 7:1:2,\n",
        "\n",
        "First we split into train and test sets."
      ]
    },
    {
      "cell_type": "code",
      "execution_count": 6,
      "metadata": {},
      "outputs": [
        {
          "name": "stdout",
          "output_type": "stream",
          "text": [
            "* Train set: (1168, 21) (1168,) \n",
            "* Test set: (292, 21) (292,)\n"
          ]
        }
      ],
      "source": [
        "from sklearn.model_selection import train_test_split\n",
        "\n",
        "X_train, X_test,y_train, y_test = train_test_split(\n",
        "                                    house_prices_clean_df.drop(['SalePrice'],axis=1),\n",
        "                                    house_prices_clean_df['SalePrice'],\n",
        "                                    test_size=0.2,\n",
        "                                    random_state=0\n",
        "                                    )\n",
        "\n",
        "print(\"* Train set:\", X_train.shape, y_train.shape, \"\\n* Test set:\",  X_test.shape, y_test.shape)"
      ]
    },
    {
      "cell_type": "markdown",
      "metadata": {},
      "source": [
        "Then we split the test set again. We set the ratio to 0.2 as we want an overall proportion of 7:1:2."
      ]
    },
    {
      "cell_type": "code",
      "execution_count": 7,
      "metadata": {},
      "outputs": [
        {
          "name": "stdout",
          "output_type": "stream",
          "text": [
            "* Train set: (934, 21) (934,)\n",
            "* Validation set: (234, 21) (234,)\n",
            "* Test set: (292, 21) (292,)\n"
          ]
        }
      ],
      "source": [
        "X_train, X_val,y_train, y_val = train_test_split(\n",
        "                                    X_train,\n",
        "                                    y_train,\n",
        "                                    test_size=0.2,\n",
        "                                    random_state=0\n",
        "                                    )\n",
        "\n",
        "print(\"* Train set:\", X_train.shape, y_train.shape)\n",
        "print(\"* Validation set:\",  X_val.shape, y_val.shape)\n",
        "print(\"* Test set:\",   X_test.shape, y_test.shape)"
      ]
    },
    {
      "cell_type": "markdown",
      "metadata": {},
      "source": [
        "Save data splits."
      ]
    },
    {
      "cell_type": "code",
      "execution_count": 8,
      "metadata": {},
      "outputs": [
        {
          "name": "stdout",
          "output_type": "stream",
          "text": [
            "[Errno 17] File exists: 'outputs/datasets/training_data'\n"
          ]
        }
      ],
      "source": [
        "import os\n",
        "try:\n",
        "  os.makedirs(name='outputs/datasets/training_data')\n",
        "except Exception as e:\n",
        "  print(e)\n",
        "\n",
        "X_train.to_csv(f\"outputs/datasets/training_data/X_train.csv\",index=False)\n",
        "X_val.to_csv(f\"outputs/datasets/training_data/X_val.csv\",index=False)\n",
        "X_test.to_csv(f\"outputs/datasets/training_data/X_test.csv\",index=False)\n",
        "y_train.to_csv(f\"outputs/datasets/training_data/y_train.csv\",index=False)\n",
        "y_val.to_csv(f\"outputs/datasets/training_data/y_val.csv\",index=False)\n",
        "y_test.to_csv(f\"outputs/datasets/training_data/y_test.csv\",index=False)\n"
      ]
    },
    {
      "cell_type": "markdown",
      "metadata": {},
      "source": [
        "# Pipeline"
      ]
    },
    {
      "cell_type": "markdown",
      "metadata": {},
      "source": [
        "We apply the feature engineering steps outlined in the notebook"
      ]
    },
    {
      "cell_type": "code",
      "execution_count": 9,
      "metadata": {},
      "outputs": [],
      "source": [
        "from sklearn.pipeline import Pipeline\n",
        "from feature_engine.selection import DropFeatures\n",
        "from feature_engine.encoding import OrdinalEncoder\n",
        "from feature_engine import transformation as vt\n",
        "from feature_engine.outliers import Winsorizer\n",
        "from sklearn.preprocessing import StandardScaler\n",
        "\n",
        "\n",
        "\n",
        "pipeline = Pipeline([\n",
        "    ('drop_features', DropFeatures(features_to_drop = ['1stFlrSF',\n",
        "                                                        '2ndFlrSF',\n",
        "                                                        'GarageArea',\n",
        "                                                        'GarageYrBlt',\n",
        "                                                        'YearBuilt']) ),\n",
        "\n",
        "    (\"OrdinalCategoricalEncoder\",OrdinalEncoder(encoding_method='arbitrary', \n",
        "                                                  variables = ['BsmtExposure',\n",
        "                                                               'BsmtFinType1',\n",
        "                                                               'GarageFinish',\n",
        "                                                               'KitchenQual'] ) ),\n",
        "\n",
        "    ('pt', vt.PowerTransformer(variables = ['BedroomAbvGr',\n",
        "                                            'BsmtFinSF1',\n",
        "                                            'BsmtUnfSF',\n",
        "                                            'GrLivArea',\n",
        "                                            'LotArea',\n",
        "                                            'LotFrontage',\n",
        "                                            'MasVnrArea',\n",
        "                                            'OpenPorchSF',\n",
        "                                            'OverallCond',\n",
        "                                            'OverallQual',\n",
        "                                            'TotalBsmtSF',\n",
        "                                            'YearRemodAdd']) ),\n",
        "\n",
        "    ('winsorizer_iqr', Winsorizer(capping_method='iqr', fold=1.5, tail='both')),\n",
        "    \n",
        "    ( \"feat_scaling\",StandardScaler() )\n",
        "  ])"
      ]
    },
    {
      "cell_type": "markdown",
      "metadata": {},
      "source": [
        "We can then fit our train, validate and test sets with the pipeline."
      ]
    },
    {
      "cell_type": "code",
      "execution_count": 10,
      "metadata": {},
      "outputs": [],
      "source": [
        "X_train = pipeline.fit_transform(X_train)\n",
        "X_val= pipeline.transform(X_val)\n",
        "X_test = pipeline.transform(X_test)"
      ]
    },
    {
      "cell_type": "markdown",
      "metadata": {},
      "source": [
        "---"
      ]
    },
    {
      "cell_type": "markdown",
      "metadata": {},
      "source": [
        "# The Model"
      ]
    },
    {
      "cell_type": "code",
      "execution_count": 11,
      "metadata": {},
      "outputs": [],
      "source": [
        "import os;\n",
        "import tensorflow as tf;\n",
        "os.environ['TF_CPP_MIN_LOG_LEVEL'] = '2';\n",
        "from tensorflow.keras.models import Sequential\n",
        "from tensorflow.keras.layers import Dense, Dropout\n",
        "\n",
        "def create_tf_model(n_features):\n",
        "\n",
        "  model = Sequential()\n",
        "  model.add(Dense(units=n_features, activation='relu', input_shape=(n_features,)))\n",
        "\n",
        "  model.add(Dense(units=512,activation='relu'))\n",
        "  model.add(Dropout(0.25))\n",
        "\n",
        "  model.add(Dense(units=512,activation='relu'))\n",
        "  model.add(Dropout(0.25))\n",
        "\n",
        "  model.add(Dense(units=512,activation='relu'))\n",
        "  model.add(Dropout(0.25))\n",
        "\n",
        "  model.add(Dense(units=512,activation='relu'))\n",
        "  model.add(Dropout(0.25))\n",
        "\n",
        "  model.add(Dense(units=1))\n",
        "  model.compile(loss='mse', optimizer='adam')\n",
        "  \n",
        "  return model\n"
      ]
    },
    {
      "cell_type": "code",
      "execution_count": 12,
      "metadata": {},
      "outputs": [
        {
          "name": "stdout",
          "output_type": "stream",
          "text": [
            "Model: \"sequential\"\n",
            "_________________________________________________________________\n",
            "Layer (type)                 Output Shape              Param #   \n",
            "=================================================================\n",
            "dense (Dense)                (None, 16)                272       \n",
            "_________________________________________________________________\n",
            "dense_1 (Dense)              (None, 512)               8704      \n",
            "_________________________________________________________________\n",
            "dropout (Dropout)            (None, 512)               0         \n",
            "_________________________________________________________________\n",
            "dense_2 (Dense)              (None, 512)               262656    \n",
            "_________________________________________________________________\n",
            "dropout_1 (Dropout)          (None, 512)               0         \n",
            "_________________________________________________________________\n",
            "dense_3 (Dense)              (None, 512)               262656    \n",
            "_________________________________________________________________\n",
            "dropout_2 (Dropout)          (None, 512)               0         \n",
            "_________________________________________________________________\n",
            "dense_4 (Dense)              (None, 512)               262656    \n",
            "_________________________________________________________________\n",
            "dropout_3 (Dropout)          (None, 512)               0         \n",
            "_________________________________________________________________\n",
            "dense_5 (Dense)              (None, 1)                 513       \n",
            "=================================================================\n",
            "Total params: 797,457\n",
            "Trainable params: 797,457\n",
            "Non-trainable params: 0\n",
            "_________________________________________________________________\n"
          ]
        }
      ],
      "source": [
        "model = create_tf_model(n_features=X_train.shape[1])\n",
        "model.summary()"
      ]
    },
    {
      "cell_type": "code",
      "execution_count": 13,
      "metadata": {},
      "outputs": [],
      "source": [
        "from tensorflow.keras.callbacks import EarlyStopping\n",
        "early_stop = EarlyStopping(monitor='val_loss', mode='min', verbose=1, patience=15)"
      ]
    },
    {
      "cell_type": "code",
      "execution_count": 14,
      "metadata": {},
      "outputs": [
        {
          "name": "stdout",
          "output_type": "stream",
          "text": [
            "Epoch 1/100\n",
            "30/30 [==============================] - 1s 29ms/step - loss: 38732255232.0000 - val_loss: 32989542400.0000\n",
            "Epoch 2/100\n",
            "30/30 [==============================] - 1s 21ms/step - loss: 15659988992.0000 - val_loss: 3660139008.0000\n",
            "Epoch 3/100\n",
            "30/30 [==============================] - 1s 21ms/step - loss: 3207820544.0000 - val_loss: 2514584832.0000\n",
            "Epoch 4/100\n",
            "30/30 [==============================] - 1s 18ms/step - loss: 2406296064.0000 - val_loss: 2062208384.0000\n",
            "Epoch 5/100\n",
            "30/30 [==============================] - 0s 15ms/step - loss: 2177516288.0000 - val_loss: 1806232960.0000\n",
            "Epoch 6/100\n",
            "30/30 [==============================] - 0s 9ms/step - loss: 1950264448.0000 - val_loss: 1514042240.0000\n",
            "Epoch 7/100\n",
            "30/30 [==============================] - 0s 10ms/step - loss: 2132064000.0000 - val_loss: 1623508992.0000\n",
            "Epoch 8/100\n",
            "30/30 [==============================] - 0s 9ms/step - loss: 1689755008.0000 - val_loss: 1315681152.0000\n",
            "Epoch 9/100\n",
            "30/30 [==============================] - 0s 8ms/step - loss: 1720489600.0000 - val_loss: 1232137216.0000\n",
            "Epoch 10/100\n",
            "30/30 [==============================] - 0s 10ms/step - loss: 1617304320.0000 - val_loss: 1160812800.0000\n",
            "Epoch 11/100\n",
            "30/30 [==============================] - 0s 10ms/step - loss: 1478140288.0000 - val_loss: 1245636608.0000\n",
            "Epoch 12/100\n",
            "30/30 [==============================] - 0s 7ms/step - loss: 1453211392.0000 - val_loss: 1112273792.0000\n",
            "Epoch 13/100\n",
            "30/30 [==============================] - 0s 8ms/step - loss: 1415360896.0000 - val_loss: 1038694720.0000\n",
            "Epoch 14/100\n",
            "30/30 [==============================] - 0s 10ms/step - loss: 1402351360.0000 - val_loss: 1026104000.0000\n",
            "Epoch 15/100\n",
            "30/30 [==============================] - 0s 10ms/step - loss: 1340906240.0000 - val_loss: 977905856.0000\n",
            "Epoch 16/100\n",
            "30/30 [==============================] - 0s 8ms/step - loss: 1329193984.0000 - val_loss: 1127026432.0000\n",
            "Epoch 17/100\n",
            "30/30 [==============================] - 0s 8ms/step - loss: 1280666624.0000 - val_loss: 930933184.0000\n",
            "Epoch 18/100\n",
            "30/30 [==============================] - 0s 8ms/step - loss: 1310170624.0000 - val_loss: 909161856.0000\n",
            "Epoch 19/100\n",
            "30/30 [==============================] - 0s 10ms/step - loss: 1421546624.0000 - val_loss: 933322496.0000\n",
            "Epoch 20/100\n",
            "30/30 [==============================] - 0s 7ms/step - loss: 1297142912.0000 - val_loss: 888964736.0000\n",
            "Epoch 21/100\n",
            "30/30 [==============================] - 0s 10ms/step - loss: 1260288000.0000 - val_loss: 983442048.0000\n",
            "Epoch 22/100\n",
            "30/30 [==============================] - 0s 10ms/step - loss: 1198896384.0000 - val_loss: 845041344.0000\n",
            "Epoch 23/100\n",
            "30/30 [==============================] - 0s 8ms/step - loss: 1235896448.0000 - val_loss: 849528320.0000\n",
            "Epoch 24/100\n",
            "30/30 [==============================] - 0s 10ms/step - loss: 1322959872.0000 - val_loss: 846352192.0000\n",
            "Epoch 25/100\n",
            "30/30 [==============================] - 0s 10ms/step - loss: 1178217472.0000 - val_loss: 818405248.0000\n",
            "Epoch 26/100\n",
            "30/30 [==============================] - 0s 8ms/step - loss: 1230959232.0000 - val_loss: 809435776.0000\n",
            "Epoch 27/100\n",
            "30/30 [==============================] - 0s 8ms/step - loss: 1237868800.0000 - val_loss: 794560896.0000\n",
            "Epoch 28/100\n",
            "30/30 [==============================] - 0s 10ms/step - loss: 1111614976.0000 - val_loss: 770828992.0000\n",
            "Epoch 29/100\n",
            "30/30 [==============================] - 0s 11ms/step - loss: 1210199936.0000 - val_loss: 783750528.0000\n",
            "Epoch 30/100\n",
            "30/30 [==============================] - 0s 8ms/step - loss: 1169517824.0000 - val_loss: 779419584.0000\n",
            "Epoch 31/100\n",
            "30/30 [==============================] - 0s 10ms/step - loss: 1138532224.0000 - val_loss: 768699392.0000\n",
            "Epoch 32/100\n",
            "30/30 [==============================] - 0s 8ms/step - loss: 1014240064.0000 - val_loss: 754894720.0000\n",
            "Epoch 33/100\n",
            "30/30 [==============================] - 0s 8ms/step - loss: 1081256704.0000 - val_loss: 798771200.0000\n",
            "Epoch 34/100\n",
            "30/30 [==============================] - 0s 10ms/step - loss: 1041188864.0000 - val_loss: 741817344.0000\n",
            "Epoch 35/100\n",
            "30/30 [==============================] - 0s 10ms/step - loss: 1067925824.0000 - val_loss: 737495936.0000\n",
            "Epoch 36/100\n",
            "30/30 [==============================] - 0s 7ms/step - loss: 1134787584.0000 - val_loss: 767514496.0000\n",
            "Epoch 37/100\n",
            "30/30 [==============================] - 0s 8ms/step - loss: 1144013440.0000 - val_loss: 701940736.0000\n",
            "Epoch 38/100\n",
            "30/30 [==============================] - 0s 10ms/step - loss: 1081858944.0000 - val_loss: 701953408.0000\n",
            "Epoch 39/100\n",
            "30/30 [==============================] - 0s 10ms/step - loss: 1085589888.0000 - val_loss: 755147520.0000\n",
            "Epoch 40/100\n",
            "30/30 [==============================] - 0s 10ms/step - loss: 1094833408.0000 - val_loss: 689494464.0000\n",
            "Epoch 41/100\n",
            "30/30 [==============================] - 0s 8ms/step - loss: 1094078336.0000 - val_loss: 722690624.0000\n",
            "Epoch 42/100\n",
            "30/30 [==============================] - 0s 8ms/step - loss: 1097965824.0000 - val_loss: 990054464.0000\n",
            "Epoch 43/100\n",
            "30/30 [==============================] - 0s 10ms/step - loss: 1124903296.0000 - val_loss: 682568192.0000\n",
            "Epoch 44/100\n",
            "30/30 [==============================] - 0s 10ms/step - loss: 989160448.0000 - val_loss: 665500480.0000\n",
            "Epoch 45/100\n",
            "30/30 [==============================] - 0s 7ms/step - loss: 987775104.0000 - val_loss: 736791296.0000\n",
            "Epoch 46/100\n",
            "30/30 [==============================] - 0s 10ms/step - loss: 1065670080.0000 - val_loss: 911502720.0000\n",
            "Epoch 47/100\n",
            "30/30 [==============================] - 0s 10ms/step - loss: 1012136832.0000 - val_loss: 676596032.0000\n",
            "Epoch 48/100\n",
            "30/30 [==============================] - 0s 10ms/step - loss: 1135393792.0000 - val_loss: 700788480.0000\n",
            "Epoch 49/100\n",
            "30/30 [==============================] - 0s 9ms/step - loss: 944714240.0000 - val_loss: 659376192.0000\n",
            "Epoch 50/100\n",
            "30/30 [==============================] - 0s 8ms/step - loss: 1089187968.0000 - val_loss: 654142144.0000\n",
            "Epoch 51/100\n",
            "30/30 [==============================] - 0s 10ms/step - loss: 1099522688.0000 - val_loss: 718409216.0000\n",
            "Epoch 52/100\n",
            "30/30 [==============================] - 0s 10ms/step - loss: 1056682368.0000 - val_loss: 658937600.0000\n",
            "Epoch 53/100\n",
            "30/30 [==============================] - 0s 11ms/step - loss: 1108129408.0000 - val_loss: 707983040.0000\n",
            "Epoch 54/100\n",
            "30/30 [==============================] - 0s 10ms/step - loss: 937329792.0000 - val_loss: 647648256.0000\n",
            "Epoch 55/100\n",
            "30/30 [==============================] - 0s 7ms/step - loss: 1085407616.0000 - val_loss: 643638592.0000\n",
            "Epoch 56/100\n",
            "30/30 [==============================] - 0s 10ms/step - loss: 1092419968.0000 - val_loss: 887810880.0000\n",
            "Epoch 57/100\n",
            "30/30 [==============================] - 0s 8ms/step - loss: 971448704.0000 - val_loss: 666467392.0000\n",
            "Epoch 58/100\n",
            "30/30 [==============================] - 0s 8ms/step - loss: 1025405312.0000 - val_loss: 697980928.0000\n",
            "Epoch 59/100\n",
            "30/30 [==============================] - 0s 7ms/step - loss: 1100338304.0000 - val_loss: 1003452224.0000\n",
            "Epoch 60/100\n",
            "30/30 [==============================] - 0s 8ms/step - loss: 1007820864.0000 - val_loss: 636001408.0000\n",
            "Epoch 61/100\n",
            "30/30 [==============================] - 0s 10ms/step - loss: 958080512.0000 - val_loss: 724861376.0000\n",
            "Epoch 62/100\n",
            "30/30 [==============================] - 0s 7ms/step - loss: 1028393152.0000 - val_loss: 651662464.0000\n",
            "Epoch 63/100\n",
            "30/30 [==============================] - 0s 8ms/step - loss: 1114380288.0000 - val_loss: 670875136.0000\n",
            "Epoch 64/100\n",
            "30/30 [==============================] - 0s 10ms/step - loss: 1037564032.0000 - val_loss: 625136640.0000\n",
            "Epoch 65/100\n",
            "30/30 [==============================] - 0s 10ms/step - loss: 1022239296.0000 - val_loss: 682783808.0000\n",
            "Epoch 66/100\n",
            "30/30 [==============================] - 0s 8ms/step - loss: 1023176320.0000 - val_loss: 662412096.0000\n",
            "Epoch 67/100\n",
            "30/30 [==============================] - 0s 10ms/step - loss: 976667456.0000 - val_loss: 647640064.0000\n",
            "Epoch 68/100\n",
            "30/30 [==============================] - 0s 10ms/step - loss: 1037355328.0000 - val_loss: 713234496.0000\n",
            "Epoch 69/100\n",
            "30/30 [==============================] - 0s 8ms/step - loss: 1025911872.0000 - val_loss: 655425344.0000\n",
            "Epoch 70/100\n",
            "30/30 [==============================] - 0s 10ms/step - loss: 980464256.0000 - val_loss: 640270464.0000\n",
            "Epoch 71/100\n",
            "30/30 [==============================] - 0s 10ms/step - loss: 936021504.0000 - val_loss: 695398976.0000\n",
            "Epoch 72/100\n",
            "30/30 [==============================] - 0s 10ms/step - loss: 984412160.0000 - val_loss: 633695232.0000\n",
            "Epoch 73/100\n",
            "30/30 [==============================] - 0s 10ms/step - loss: 1009267072.0000 - val_loss: 620377600.0000\n",
            "Epoch 74/100\n",
            "30/30 [==============================] - 0s 10ms/step - loss: 878874432.0000 - val_loss: 618244352.0000\n",
            "Epoch 75/100\n",
            "30/30 [==============================] - 0s 10ms/step - loss: 982252672.0000 - val_loss: 630262400.0000\n",
            "Epoch 76/100\n",
            "30/30 [==============================] - 0s 8ms/step - loss: 942745664.0000 - val_loss: 630229376.0000\n",
            "Epoch 77/100\n",
            "30/30 [==============================] - 0s 10ms/step - loss: 923438144.0000 - val_loss: 614319680.0000\n",
            "Epoch 78/100\n",
            "30/30 [==============================] - 0s 14ms/step - loss: 1041485760.0000 - val_loss: 612529920.0000\n",
            "Epoch 79/100\n",
            "30/30 [==============================] - 0s 10ms/step - loss: 984049664.0000 - val_loss: 619338624.0000\n",
            "Epoch 80/100\n",
            "30/30 [==============================] - 0s 8ms/step - loss: 917489600.0000 - val_loss: 671418368.0000\n",
            "Epoch 81/100\n",
            "30/30 [==============================] - 0s 10ms/step - loss: 991785280.0000 - val_loss: 684379520.0000\n",
            "Epoch 82/100\n",
            "30/30 [==============================] - 0s 10ms/step - loss: 954587840.0000 - val_loss: 784498240.0000\n",
            "Epoch 83/100\n",
            "30/30 [==============================] - 0s 10ms/step - loss: 1067710400.0000 - val_loss: 608496832.0000\n",
            "Epoch 84/100\n",
            "30/30 [==============================] - 0s 10ms/step - loss: 1150448256.0000 - val_loss: 622446784.0000\n",
            "Epoch 85/100\n",
            "30/30 [==============================] - 0s 8ms/step - loss: 896588864.0000 - val_loss: 629699456.0000\n",
            "Epoch 86/100\n",
            "30/30 [==============================] - 0s 10ms/step - loss: 1038716416.0000 - val_loss: 624593344.0000\n",
            "Epoch 87/100\n",
            "30/30 [==============================] - 0s 10ms/step - loss: 957909184.0000 - val_loss: 631715520.0000\n",
            "Epoch 88/100\n",
            "30/30 [==============================] - 0s 8ms/step - loss: 982288256.0000 - val_loss: 668363968.0000\n",
            "Epoch 89/100\n",
            "30/30 [==============================] - 0s 10ms/step - loss: 1047345920.0000 - val_loss: 632300288.0000\n",
            "Epoch 90/100\n",
            "30/30 [==============================] - 0s 10ms/step - loss: 958396864.0000 - val_loss: 697055360.0000\n",
            "Epoch 91/100\n",
            "30/30 [==============================] - 0s 8ms/step - loss: 1013148928.0000 - val_loss: 645504960.0000\n",
            "Epoch 92/100\n",
            "30/30 [==============================] - 0s 10ms/step - loss: 1008733632.0000 - val_loss: 614909696.0000\n",
            "Epoch 93/100\n",
            "30/30 [==============================] - 0s 10ms/step - loss: 984911552.0000 - val_loss: 620497152.0000\n",
            "Epoch 94/100\n",
            "30/30 [==============================] - 0s 10ms/step - loss: 1000134912.0000 - val_loss: 625328448.0000\n",
            "Epoch 95/100\n",
            "30/30 [==============================] - 0s 10ms/step - loss: 1048817280.0000 - val_loss: 848409856.0000\n",
            "Epoch 96/100\n",
            "30/30 [==============================] - 0s 10ms/step - loss: 909363456.0000 - val_loss: 667342400.0000\n",
            "Epoch 97/100\n",
            "30/30 [==============================] - 0s 7ms/step - loss: 956365376.0000 - val_loss: 686994816.0000\n",
            "Epoch 98/100\n",
            "30/30 [==============================] - 0s 10ms/step - loss: 917499712.0000 - val_loss: 666989504.0000\n",
            "Epoch 00098: early stopping\n"
          ]
        },
        {
          "data": {
            "text/plain": [
              "<keras.callbacks.History at 0x7fdbd67779a0>"
            ]
          },
          "execution_count": 14,
          "metadata": {},
          "output_type": "execute_result"
        }
      ],
      "source": [
        "model = create_tf_model(n_features=X_train.shape[1])\n",
        "\n",
        "model.fit(x=X_train, \n",
        "          y=y_train, \n",
        "          epochs=100,\n",
        "          validation_data=(X_val, y_val),\n",
        "          verbose=1,\n",
        "          callbacks=[early_stop]\n",
        "          )"
      ]
    },
    {
      "cell_type": "markdown",
      "metadata": {},
      "source": [
        "---"
      ]
    },
    {
      "cell_type": "markdown",
      "metadata": {},
      "source": [
        "# Evaluation"
      ]
    },
    {
      "cell_type": "code",
      "execution_count": 15,
      "metadata": {},
      "outputs": [
        {
          "data": {
            "text/html": [
              "<div>\n",
              "<style scoped>\n",
              "    .dataframe tbody tr th:only-of-type {\n",
              "        vertical-align: middle;\n",
              "    }\n",
              "\n",
              "    .dataframe tbody tr th {\n",
              "        vertical-align: top;\n",
              "    }\n",
              "\n",
              "    .dataframe thead th {\n",
              "        text-align: right;\n",
              "    }\n",
              "</style>\n",
              "<table border=\"1\" class=\"dataframe\">\n",
              "  <thead>\n",
              "    <tr style=\"text-align: right;\">\n",
              "      <th></th>\n",
              "      <th>loss</th>\n",
              "      <th>val_loss</th>\n",
              "    </tr>\n",
              "  </thead>\n",
              "  <tbody>\n",
              "    <tr>\n",
              "      <th>0</th>\n",
              "      <td>3.873226e+10</td>\n",
              "      <td>3.298954e+10</td>\n",
              "    </tr>\n",
              "    <tr>\n",
              "      <th>1</th>\n",
              "      <td>1.565999e+10</td>\n",
              "      <td>3.660139e+09</td>\n",
              "    </tr>\n",
              "    <tr>\n",
              "      <th>2</th>\n",
              "      <td>3.207821e+09</td>\n",
              "      <td>2.514585e+09</td>\n",
              "    </tr>\n",
              "    <tr>\n",
              "      <th>3</th>\n",
              "      <td>2.406296e+09</td>\n",
              "      <td>2.062208e+09</td>\n",
              "    </tr>\n",
              "    <tr>\n",
              "      <th>4</th>\n",
              "      <td>2.177516e+09</td>\n",
              "      <td>1.806233e+09</td>\n",
              "    </tr>\n",
              "    <tr>\n",
              "      <th>...</th>\n",
              "      <td>...</td>\n",
              "      <td>...</td>\n",
              "    </tr>\n",
              "    <tr>\n",
              "      <th>93</th>\n",
              "      <td>1.000135e+09</td>\n",
              "      <td>6.253284e+08</td>\n",
              "    </tr>\n",
              "    <tr>\n",
              "      <th>94</th>\n",
              "      <td>1.048817e+09</td>\n",
              "      <td>8.484099e+08</td>\n",
              "    </tr>\n",
              "    <tr>\n",
              "      <th>95</th>\n",
              "      <td>9.093635e+08</td>\n",
              "      <td>6.673424e+08</td>\n",
              "    </tr>\n",
              "    <tr>\n",
              "      <th>96</th>\n",
              "      <td>9.563654e+08</td>\n",
              "      <td>6.869948e+08</td>\n",
              "    </tr>\n",
              "    <tr>\n",
              "      <th>97</th>\n",
              "      <td>9.174997e+08</td>\n",
              "      <td>6.669895e+08</td>\n",
              "    </tr>\n",
              "  </tbody>\n",
              "</table>\n",
              "<p>98 rows × 2 columns</p>\n",
              "</div>"
            ],
            "text/plain": [
              "            loss      val_loss\n",
              "0   3.873226e+10  3.298954e+10\n",
              "1   1.565999e+10  3.660139e+09\n",
              "2   3.207821e+09  2.514585e+09\n",
              "3   2.406296e+09  2.062208e+09\n",
              "4   2.177516e+09  1.806233e+09\n",
              "..           ...           ...\n",
              "93  1.000135e+09  6.253284e+08\n",
              "94  1.048817e+09  8.484099e+08\n",
              "95  9.093635e+08  6.673424e+08\n",
              "96  9.563654e+08  6.869948e+08\n",
              "97  9.174997e+08  6.669895e+08\n",
              "\n",
              "[98 rows x 2 columns]"
            ]
          },
          "execution_count": 15,
          "metadata": {},
          "output_type": "execute_result"
        }
      ],
      "source": [
        "losses = pd.DataFrame(model.history.history)\n",
        "losses"
      ]
    },
    {
      "cell_type": "code",
      "execution_count": 16,
      "metadata": {},
      "outputs": [
        {
          "data": {
            "image/png": "[encoded data removed]",
            "text/plain": [
              "<Figure size 640x480 with 1 Axes>"
            ]
          },
          "metadata": {},
          "output_type": "display_data"
        }
      ],
      "source": [
        "import matplotlib.pyplot as plt\n",
        "import seaborn as sns\n",
        "\n",
        "losses = pd.DataFrame(model.history.history)\n",
        "\n",
        "sns.set_style(\"whitegrid\")\n",
        "losses[['loss','val_loss']].plot(style='.-')\n",
        "plt.title(\"Loss\")\n",
        "plt.show()"
      ]
    },
    {
      "cell_type": "code",
      "execution_count": 17,
      "metadata": {},
      "outputs": [
        {
          "name": "stdout",
          "output_type": "stream",
          "text": [
            "10/10 [==============================] - 0s 961us/step - loss: 1504725376.0000\n"
          ]
        },
        {
          "data": {
            "text/plain": [
              "1504725376.0"
            ]
          },
          "execution_count": 17,
          "metadata": {},
          "output_type": "execute_result"
        }
      ],
      "source": [
        "model.evaluate(X_test,y_test)"
      ]
    },
    {
      "cell_type": "code",
      "execution_count": 18,
      "metadata": {},
      "outputs": [],
      "source": [
        "from sklearn.metrics import r2_score, mean_squared_error, mean_absolute_error \n",
        "import numpy as np\n",
        "\n",
        "def regression_performance(X_train, y_train,\n",
        "                           X_val, y_val,\n",
        "                           X_test, y_test,pipeline):\n",
        "\n",
        "  print(\"Model Evaluation \\n\")\n",
        "  print(\"* Train Set\")\n",
        "  regression_evaluation(X_train,y_train,pipeline)\n",
        "  print(\"* Validation Set\")\n",
        "  regression_evaluation(X_val, y_val,pipeline)\n",
        "  print(\"* Test Set\")\n",
        "  regression_evaluation(X_test,y_test,pipeline)\n",
        "\n",
        "\n",
        "\n",
        "def regression_evaluation(X,y,pipeline):\n",
        "  \"\"\"\n",
        "  # Gets features and target (either from train or test set) and pipeline\n",
        "  - it predicts using the pipeline and the features\n",
        "  - calculates performance metrics comparing the prediction to the target\n",
        "  \"\"\"\n",
        "  prediction = pipeline.predict(X)\n",
        "  print('R2 Score:', r2_score(y, prediction).round(3))  \n",
        "  print('Mean Absolute Error:', mean_absolute_error(y, prediction).round(3))  \n",
        "  print('Mean Squared Error:', mean_squared_error(y, prediction).round(3))  \n",
        "  print('Root Mean Squared Error:', np.sqrt(mean_squared_error(y, prediction)).round(3))\n",
        "  print(\"\\n\")\n",
        "\n",
        "  \n",
        "\n",
        "def regression_evaluation_plots(X_train, y_train,\n",
        "                                X_val, y_val,\n",
        "                                X_test, y_test,\n",
        "                                pipeline, alpha_scatter=0.5):\n",
        "\n",
        "  pred_train = pipeline.predict(X_train).reshape(-1) \n",
        "  # we reshape the prediction arrays to be in the format (n_rows,), so we can plot it after\n",
        "  pred_val = pipeline.predict(X_val).reshape(-1)\n",
        "  pred_test = pipeline.predict(X_test).reshape(-1)\n",
        "\n",
        "  fig, axes = plt.subplots(nrows=1, ncols=3, figsize=(15,6))\n",
        "  sns.scatterplot(x=y_train , y=pred_train, alpha=alpha_scatter, ax=axes[0])\n",
        "  sns.lineplot(x=y_train , y=y_train, color='red', ax=axes[0])\n",
        "  axes[0].set_xlabel(\"Actual\")\n",
        "  axes[0].set_ylabel(\"Predictions\")\n",
        "  axes[0].set_title(\"Train Set\")\n",
        "\n",
        "  sns.scatterplot(x=y_val , y=pred_val, alpha=alpha_scatter, ax=axes[1])\n",
        "  sns.lineplot(x=y_val , y=y_val, color='red', ax=axes[1])\n",
        "  axes[1].set_xlabel(\"Actual\")\n",
        "  axes[1].set_ylabel(\"Predictions\")\n",
        "  axes[1].set_title(\"Validation Set\")\n",
        "\n",
        "  sns.scatterplot(x=y_test , y=pred_test, alpha=alpha_scatter, ax=axes[2])\n",
        "  sns.lineplot(x=y_test , y=y_test, color='red', ax=axes[2])\n",
        "  axes[2].set_xlabel(\"Actual\")\n",
        "  axes[2].set_ylabel(\"Predictions\")\n",
        "  axes[2].set_title(\"Test Set\")\n",
        "\n",
        "  plt.show()\n",
        "  train_valid_test = fig"
      ]
    },
    {
      "cell_type": "code",
      "execution_count": 19,
      "metadata": {},
      "outputs": [
        {
          "name": "stdout",
          "output_type": "stream",
          "text": [
            "Model Evaluation \n",
            "\n",
            "* Train Set\n",
            "R2 Score: 0.877\n",
            "Mean Absolute Error: 18018.784\n",
            "Mean Squared Error: 779078969.07\n",
            "Root Mean Squared Error: 27911.986\n",
            "\n",
            "\n",
            "* Validation Set\n",
            "R2 Score: 0.878\n",
            "Mean Absolute Error: 18707.557\n",
            "Mean Squared Error: 666989485.339\n",
            "Root Mean Squared Error: 25826.14\n",
            "\n",
            "\n",
            "* Test Set\n",
            "R2 Score: 0.782\n",
            "Mean Absolute Error: 21928.532\n",
            "Mean Squared Error: 1504725395.815\n",
            "Root Mean Squared Error: 38790.79\n",
            "\n",
            "\n"
          ]
        },
        {
          "data": {
            "image/png": "[encoded data removed]",
            "text/plain": [
              "<Figure size 1500x600 with 3 Axes>"
            ]
          },
          "metadata": {},
          "output_type": "display_data"
        }
      ],
      "source": [
        "regression_performance(X_train, y_train,X_val, y_val, X_test, y_test,model)\n",
        "regression_evaluation_plots(X_train, y_train, X_val, y_val,X_test, y_test, \n",
        "                            model, alpha_scatter=0.5)"
      ]
    },
    {
      "cell_type": "markdown",
      "metadata": {},
      "source": [
        "# Observations.\n",
        "\n",
        "1. The recapitulate, our target is an R2 of 0.75 on train and test splits.\n",
        "\n",
        "2. Different iterations of the train/test/validation split can have a marginal effect on the results\n",
        "\n",
        "3. Retraining the model can produce a marginally different outcome, as much as 0.08 on the R2 score. \n",
        "\n",
        "4. Given points 2 & 3, it may take several iterations of splitting the data and training the model to get an R2 of 0.75 accross all three sets.\n",
        "\n",
        "5. Hueristically, the model responds well to units which are a multiple of the number of features in the train set.\n",
        "\n",
        "6. More than 4 deep layers adds little to the accuracy of the results.\n",
        "\n",
        "7. The dropout layer makes very little difference, except at extreme settings ( 0.10 < or > 90).\n",
        "\n",
        "8. The number of units in a layer significantly increases the accuracy of the model, up to a certain point, at which we see diminishing returns. There is little improvement in training time but an increase in time it takes to train the model. Given point 4 above, increased training time for little gain is undesireable.\n",
        "\n",
        "9. Differing numbers of units between layers has either no effect or a diminishing effect on accuracy.\n",
        "\n",
        "10. We have used ReLu for the activation function, in line with the source code. We have also tried sigmoid, linear and relu6, which either make no appreciable difference, or lead to significant underfitting.\n",
        "\n",
        "11. Experimentation with using mean_absolute_error as a loss function revealed very little observable difference. We have kept the loss function as mse as it is the standard for regression tasks.\n",
        "\n",
        "12. Using SGD as a optimizer led to the stop function kicking in between 10 - 20 epochs. Too short to properly train the model. We have used adam.\n",
        "\n",
        "13. The stop function usually kicks in between 80 and 120 epochs. There is no observable pattern of improved results beyond this range. We have set the epochs at 100 as a resonable compromise.\n",
        "\n",
        "14. Adjusting the other parameters of the stop function either led to it kicking in before the model could be properly trained, or incresing the trianing time for no improvement in performance.\n",
        "\n"
      ]
    },
    {
      "cell_type": "markdown",
      "metadata": {},
      "source": [
        "Save the pipeline"
      ]
    },
    {
      "cell_type": "code",
      "execution_count": 20,
      "metadata": {},
      "outputs": [
        {
          "data": {
            "text/plain": [
              "['outputs/pipeline/pipeline.pkl']"
            ]
          },
          "execution_count": 20,
          "metadata": {},
          "output_type": "execute_result"
        }
      ],
      "source": [
        "import joblib\n",
        "import os\n",
        "\n",
        "try:\n",
        "  os.makedirs(name= f'outputs/pipeline/')\n",
        "except Exception as e:\n",
        "  print(e)\n",
        "\n",
        "joblib.dump(value=pipeline, filename=f\"outputs/pipeline/pipeline.pkl\")\n"
      ]
    },
    {
      "cell_type": "markdown",
      "metadata": {},
      "source": [
        "Save the model"
      ]
    },
    {
      "cell_type": "code",
      "execution_count": 21,
      "metadata": {},
      "outputs": [],
      "source": [
        "try:\n",
        "  os.makedirs(name= f'outputs/model/')\n",
        "except Exception as e:\n",
        "  print(e)\n",
        "\n",
        "model.save('outputs/model/house_price_predictor_model.h5')"
      ]
    },
    {
      "cell_type": "markdown",
      "metadata": {},
      "source": [
        "---"
      ]
    },
    {
      "cell_type": "markdown",
      "metadata": {},
      "source": [
        "# Predict Client House Prices\n"
      ]
    },
    {
      "cell_type": "code",
      "execution_count": 22,
      "metadata": {},
      "outputs": [
        {
          "data": {
            "text/html": [
              "<div>\n",
              "<style scoped>\n",
              "    .dataframe tbody tr th:only-of-type {\n",
              "        vertical-align: middle;\n",
              "    }\n",
              "\n",
              "    .dataframe tbody tr th {\n",
              "        vertical-align: top;\n",
              "    }\n",
              "\n",
              "    .dataframe thead th {\n",
              "        text-align: right;\n",
              "    }\n",
              "</style>\n",
              "<table border=\"1\" class=\"dataframe\">\n",
              "  <thead>\n",
              "    <tr style=\"text-align: right;\">\n",
              "      <th></th>\n",
              "      <th>1stFlrSF</th>\n",
              "      <th>2ndFlrSF</th>\n",
              "      <th>BedroomAbvGr</th>\n",
              "      <th>BsmtExposure</th>\n",
              "      <th>BsmtFinSF1</th>\n",
              "      <th>BsmtFinType1</th>\n",
              "      <th>BsmtUnfSF</th>\n",
              "      <th>GarageArea</th>\n",
              "      <th>GarageFinish</th>\n",
              "      <th>GarageYrBlt</th>\n",
              "      <th>...</th>\n",
              "      <th>KitchenQual</th>\n",
              "      <th>LotArea</th>\n",
              "      <th>LotFrontage</th>\n",
              "      <th>MasVnrArea</th>\n",
              "      <th>OpenPorchSF</th>\n",
              "      <th>OverallCond</th>\n",
              "      <th>OverallQual</th>\n",
              "      <th>TotalBsmtSF</th>\n",
              "      <th>YearBuilt</th>\n",
              "      <th>YearRemodAdd</th>\n",
              "    </tr>\n",
              "  </thead>\n",
              "  <tbody>\n",
              "    <tr>\n",
              "      <th>0</th>\n",
              "      <td>896</td>\n",
              "      <td>0</td>\n",
              "      <td>2</td>\n",
              "      <td>No</td>\n",
              "      <td>468.0</td>\n",
              "      <td>Rec</td>\n",
              "      <td>270.0</td>\n",
              "      <td>730.0</td>\n",
              "      <td>Unf</td>\n",
              "      <td>1961.0</td>\n",
              "      <td>...</td>\n",
              "      <td>TA</td>\n",
              "      <td>11622</td>\n",
              "      <td>80.0</td>\n",
              "      <td>0.0</td>\n",
              "      <td>0</td>\n",
              "      <td>6</td>\n",
              "      <td>5</td>\n",
              "      <td>882.0</td>\n",
              "      <td>1961</td>\n",
              "      <td>1961</td>\n",
              "    </tr>\n",
              "    <tr>\n",
              "      <th>1</th>\n",
              "      <td>1329</td>\n",
              "      <td>0</td>\n",
              "      <td>3</td>\n",
              "      <td>No</td>\n",
              "      <td>923.0</td>\n",
              "      <td>ALQ</td>\n",
              "      <td>406.0</td>\n",
              "      <td>312.0</td>\n",
              "      <td>Unf</td>\n",
              "      <td>1958.0</td>\n",
              "      <td>...</td>\n",
              "      <td>Gd</td>\n",
              "      <td>14267</td>\n",
              "      <td>81.0</td>\n",
              "      <td>108.0</td>\n",
              "      <td>36</td>\n",
              "      <td>6</td>\n",
              "      <td>6</td>\n",
              "      <td>1329.0</td>\n",
              "      <td>1958</td>\n",
              "      <td>1958</td>\n",
              "    </tr>\n",
              "    <tr>\n",
              "      <th>2</th>\n",
              "      <td>928</td>\n",
              "      <td>701</td>\n",
              "      <td>3</td>\n",
              "      <td>No</td>\n",
              "      <td>791.0</td>\n",
              "      <td>GLQ</td>\n",
              "      <td>137.0</td>\n",
              "      <td>482.0</td>\n",
              "      <td>Fin</td>\n",
              "      <td>1997.0</td>\n",
              "      <td>...</td>\n",
              "      <td>TA</td>\n",
              "      <td>13830</td>\n",
              "      <td>74.0</td>\n",
              "      <td>0.0</td>\n",
              "      <td>34</td>\n",
              "      <td>5</td>\n",
              "      <td>5</td>\n",
              "      <td>928.0</td>\n",
              "      <td>1997</td>\n",
              "      <td>1998</td>\n",
              "    </tr>\n",
              "    <tr>\n",
              "      <th>3</th>\n",
              "      <td>926</td>\n",
              "      <td>678</td>\n",
              "      <td>3</td>\n",
              "      <td>No</td>\n",
              "      <td>602.0</td>\n",
              "      <td>GLQ</td>\n",
              "      <td>324.0</td>\n",
              "      <td>470.0</td>\n",
              "      <td>Fin</td>\n",
              "      <td>1998.0</td>\n",
              "      <td>...</td>\n",
              "      <td>Gd</td>\n",
              "      <td>9978</td>\n",
              "      <td>78.0</td>\n",
              "      <td>20.0</td>\n",
              "      <td>36</td>\n",
              "      <td>6</td>\n",
              "      <td>6</td>\n",
              "      <td>926.0</td>\n",
              "      <td>1998</td>\n",
              "      <td>1998</td>\n",
              "    </tr>\n",
              "  </tbody>\n",
              "</table>\n",
              "<p>4 rows × 21 columns</p>\n",
              "</div>"
            ],
            "text/plain": [
              "   1stFlrSF  2ndFlrSF  BedroomAbvGr BsmtExposure  BsmtFinSF1 BsmtFinType1  \\\n",
              "0       896         0             2           No       468.0          Rec   \n",
              "1      1329         0             3           No       923.0          ALQ   \n",
              "2       928       701             3           No       791.0          GLQ   \n",
              "3       926       678             3           No       602.0          GLQ   \n",
              "\n",
              "   BsmtUnfSF  GarageArea GarageFinish  GarageYrBlt  ...  KitchenQual LotArea  \\\n",
              "0      270.0       730.0          Unf       1961.0  ...           TA   11622   \n",
              "1      406.0       312.0          Unf       1958.0  ...           Gd   14267   \n",
              "2      137.0       482.0          Fin       1997.0  ...           TA   13830   \n",
              "3      324.0       470.0          Fin       1998.0  ...           Gd    9978   \n",
              "\n",
              "   LotFrontage  MasVnrArea  OpenPorchSF  OverallCond  OverallQual  \\\n",
              "0         80.0         0.0            0            6            5   \n",
              "1         81.0       108.0           36            6            6   \n",
              "2         74.0         0.0           34            5            5   \n",
              "3         78.0        20.0           36            6            6   \n",
              "\n",
              "   TotalBsmtSF  YearBuilt  YearRemodAdd  \n",
              "0        882.0       1961          1961  \n",
              "1       1329.0       1958          1958  \n",
              "2        928.0       1997          1998  \n",
              "3        926.0       1998          1998  \n",
              "\n",
              "[4 rows x 21 columns]"
            ]
          },
          "execution_count": 22,
          "metadata": {},
          "output_type": "execute_result"
        }
      ],
      "source": [
        "inherited_houses_clean_df = pd.read_csv(f\"outputs/datasets/clean_data/Inherited_houses_clean.csv\")\n",
        "inherited_houses_clean_df.head()"
      ]
    },
    {
      "cell_type": "markdown",
      "metadata": {},
      "source": [
        "Put inherited_houses_clean_df through the pipeline"
      ]
    },
    {
      "cell_type": "code",
      "execution_count": 23,
      "metadata": {},
      "outputs": [],
      "source": [
        "engineered_client_house_prices = pipeline.transform(inherited_houses_clean_df)"
      ]
    },
    {
      "cell_type": "code",
      "execution_count": 24,
      "metadata": {},
      "outputs": [
        {
          "data": {
            "text/html": [
              "<div>\n",
              "<style scoped>\n",
              "    .dataframe tbody tr th:only-of-type {\n",
              "        vertical-align: middle;\n",
              "    }\n",
              "\n",
              "    .dataframe tbody tr th {\n",
              "        vertical-align: top;\n",
              "    }\n",
              "\n",
              "    .dataframe thead th {\n",
              "        text-align: right;\n",
              "    }\n",
              "</style>\n",
              "<table border=\"1\" class=\"dataframe\">\n",
              "  <thead>\n",
              "    <tr style=\"text-align: right;\">\n",
              "      <th></th>\n",
              "      <th>1stFlrSF</th>\n",
              "      <th>2ndFlrSF</th>\n",
              "      <th>BedroomAbvGr</th>\n",
              "      <th>BsmtExposure</th>\n",
              "      <th>BsmtFinSF1</th>\n",
              "      <th>BsmtFinType1</th>\n",
              "      <th>BsmtUnfSF</th>\n",
              "      <th>GarageArea</th>\n",
              "      <th>GarageFinish</th>\n",
              "      <th>GarageYrBlt</th>\n",
              "      <th>...</th>\n",
              "      <th>LotArea</th>\n",
              "      <th>LotFrontage</th>\n",
              "      <th>MasVnrArea</th>\n",
              "      <th>OpenPorchSF</th>\n",
              "      <th>OverallCond</th>\n",
              "      <th>OverallQual</th>\n",
              "      <th>TotalBsmtSF</th>\n",
              "      <th>YearBuilt</th>\n",
              "      <th>YearRemodAdd</th>\n",
              "      <th>0</th>\n",
              "    </tr>\n",
              "  </thead>\n",
              "  <tbody>\n",
              "    <tr>\n",
              "      <th>0</th>\n",
              "      <td>896</td>\n",
              "      <td>0</td>\n",
              "      <td>2</td>\n",
              "      <td>No</td>\n",
              "      <td>468.0</td>\n",
              "      <td>Rec</td>\n",
              "      <td>270.0</td>\n",
              "      <td>730.0</td>\n",
              "      <td>Unf</td>\n",
              "      <td>1961.0</td>\n",
              "      <td>...</td>\n",
              "      <td>11622</td>\n",
              "      <td>80.0</td>\n",
              "      <td>0.0</td>\n",
              "      <td>0</td>\n",
              "      <td>6</td>\n",
              "      <td>5</td>\n",
              "      <td>882.0</td>\n",
              "      <td>1961</td>\n",
              "      <td>1961</td>\n",
              "      <td>119405.937500</td>\n",
              "    </tr>\n",
              "    <tr>\n",
              "      <th>1</th>\n",
              "      <td>1329</td>\n",
              "      <td>0</td>\n",
              "      <td>3</td>\n",
              "      <td>No</td>\n",
              "      <td>923.0</td>\n",
              "      <td>ALQ</td>\n",
              "      <td>406.0</td>\n",
              "      <td>312.0</td>\n",
              "      <td>Unf</td>\n",
              "      <td>1958.0</td>\n",
              "      <td>...</td>\n",
              "      <td>14267</td>\n",
              "      <td>81.0</td>\n",
              "      <td>108.0</td>\n",
              "      <td>36</td>\n",
              "      <td>6</td>\n",
              "      <td>6</td>\n",
              "      <td>1329.0</td>\n",
              "      <td>1958</td>\n",
              "      <td>1958</td>\n",
              "      <td>150817.375000</td>\n",
              "    </tr>\n",
              "    <tr>\n",
              "      <th>2</th>\n",
              "      <td>928</td>\n",
              "      <td>701</td>\n",
              "      <td>3</td>\n",
              "      <td>No</td>\n",
              "      <td>791.0</td>\n",
              "      <td>GLQ</td>\n",
              "      <td>137.0</td>\n",
              "      <td>482.0</td>\n",
              "      <td>Fin</td>\n",
              "      <td>1997.0</td>\n",
              "      <td>...</td>\n",
              "      <td>13830</td>\n",
              "      <td>74.0</td>\n",
              "      <td>0.0</td>\n",
              "      <td>34</td>\n",
              "      <td>5</td>\n",
              "      <td>5</td>\n",
              "      <td>928.0</td>\n",
              "      <td>1997</td>\n",
              "      <td>1998</td>\n",
              "      <td>154308.734375</td>\n",
              "    </tr>\n",
              "    <tr>\n",
              "      <th>3</th>\n",
              "      <td>926</td>\n",
              "      <td>678</td>\n",
              "      <td>3</td>\n",
              "      <td>No</td>\n",
              "      <td>602.0</td>\n",
              "      <td>GLQ</td>\n",
              "      <td>324.0</td>\n",
              "      <td>470.0</td>\n",
              "      <td>Fin</td>\n",
              "      <td>1998.0</td>\n",
              "      <td>...</td>\n",
              "      <td>9978</td>\n",
              "      <td>78.0</td>\n",
              "      <td>20.0</td>\n",
              "      <td>36</td>\n",
              "      <td>6</td>\n",
              "      <td>6</td>\n",
              "      <td>926.0</td>\n",
              "      <td>1998</td>\n",
              "      <td>1998</td>\n",
              "      <td>176080.343750</td>\n",
              "    </tr>\n",
              "  </tbody>\n",
              "</table>\n",
              "<p>4 rows × 22 columns</p>\n",
              "</div>"
            ],
            "text/plain": [
              "   1stFlrSF  2ndFlrSF  BedroomAbvGr BsmtExposure  BsmtFinSF1 BsmtFinType1  \\\n",
              "0       896         0             2           No       468.0          Rec   \n",
              "1      1329         0             3           No       923.0          ALQ   \n",
              "2       928       701             3           No       791.0          GLQ   \n",
              "3       926       678             3           No       602.0          GLQ   \n",
              "\n",
              "   BsmtUnfSF  GarageArea GarageFinish  GarageYrBlt  ...  LotArea LotFrontage  \\\n",
              "0      270.0       730.0          Unf       1961.0  ...    11622        80.0   \n",
              "1      406.0       312.0          Unf       1958.0  ...    14267        81.0   \n",
              "2      137.0       482.0          Fin       1997.0  ...    13830        74.0   \n",
              "3      324.0       470.0          Fin       1998.0  ...     9978        78.0   \n",
              "\n",
              "   MasVnrArea  OpenPorchSF  OverallCond  OverallQual  TotalBsmtSF  YearBuilt  \\\n",
              "0         0.0            0            6            5        882.0       1961   \n",
              "1       108.0           36            6            6       1329.0       1958   \n",
              "2         0.0           34            5            5        928.0       1997   \n",
              "3        20.0           36            6            6        926.0       1998   \n",
              "\n",
              "   YearRemodAdd              0  \n",
              "0          1961  119405.937500  \n",
              "1          1958  150817.375000  \n",
              "2          1998  154308.734375  \n",
              "3          1998  176080.343750  \n",
              "\n",
              "[4 rows x 22 columns]"
            ]
          },
          "execution_count": 24,
          "metadata": {},
          "output_type": "execute_result"
        }
      ],
      "source": [
        "predictions = model.predict(engineered_client_house_prices)\n",
        "predictions_df = pd.DataFrame(predictions)\n",
        "\n",
        "house_price_predictions = pd.concat([inherited_houses_clean_df, predictions_df], axis=1)\n",
        "house_price_predictions"
      ]
    },
    {
      "cell_type": "code",
      "execution_count": 25,
      "metadata": {},
      "outputs": [],
      "source": [
        "\n",
        "import os\n",
        "try:\n",
        "  os.makedirs(name='outputs/datasets/predicted_prices')\n",
        "except Exception as e:\n",
        "  print(e)\n",
        "\n",
        "house_price_predictions.to_csv(f\"outputs/datasets/predicted_prices/house_price_predictions.csv\",index=False)\n"
      ]
    }
  ],
  "metadata": {
    "accelerator": "GPU",
    "colab": {
      "name": "Data Practitioner Jupyter Notebook.ipynb",
      "provenance": [],
      "toc_visible": true
    },
    "interpreter": {
      "hash": "8b8334dab9339717f727a1deaf837b322d7a41c20d15cc86be99a8e69ceec8ce"
    },
    "kernelspec": {
      "display_name": "Python 3.8.12 64-bit ('3.8.12': pyenv)",
      "name": "python3"
    },
    "language_info": {
      "codemirror_mode": {
        "name": "ipython",
        "version": 3
      },
      "file_extension": ".py",
      "mimetype": "text/x-python",
      "name": "python",
      "nbconvert_exporter": "python",
      "pygments_lexer": "ipython3",
      "version": "3.8.18"
    },
    "orig_nbformat": 2
  },
  "nbformat": 4,
  "nbformat_minor": 2
}
